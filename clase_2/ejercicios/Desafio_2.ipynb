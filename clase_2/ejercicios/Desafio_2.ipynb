{
  "cells": [
    {
      "cell_type": "markdown",
      "metadata": {
        "id": "sZd5yLnnHOK0"
      },
      "source": [
        "<img src=\"https://github.com/hernancontigiani/ceia_memorias_especializacion/raw/master/Figures/logoFIUBA.jpg\" width=\"500\" align=\"center\">\n",
        "\n",
        "\n",
        "# Procesamiento de lenguaje natural\n",
        "## Custom embedddings con Gensim\n",
        "\n"
      ]
    },
    {
      "cell_type": "markdown",
      "metadata": {
        "id": "yMM_SHSaZ9N-"
      },
      "source": [
        "### Alumno"
      ]
    },
    {
      "cell_type": "markdown",
      "metadata": {
        "id": "WivQZ3ZCZ9N_"
      },
      "source": [
        "- Crear sus propios vectores con Gensim basado en lo visto en clase con otro dataset.\n",
        "- Probar términos de interés y explicar similitudes en el espacio de embeddings (sacar conclusiones entre palabras similitudes y diferencias).\n",
        "- Graficarlos.\n",
        "- Obtener conclusiones."
      ]
    },
    {
      "cell_type": "markdown",
      "metadata": {
        "id": "vA7nqkumo9z9"
      },
      "source": [
        "### Objetivo\n",
        "El objetivo es utilizar documentos / corpus para crear embeddings de palabras basado en ese contexto. Se utilizará el libro de Arthur C. Doyle de las \"Aventuras de Sherlock Holmes\" en inglés y \"El Arte de la Guerra\" de Sun Tzu para generar los embeddings (separados), es decir, que los vectores tendrán la forma en función de como el autor haya utilizado las palabras en su libro."
      ]
    },
    {
      "cell_type": "code",
      "execution_count": 71,
      "metadata": {
        "id": "lFToQs5FK5uZ"
      },
      "outputs": [],
      "source": [
        "import pandas as pd\n",
        "import matplotlib.pyplot as plt\n",
        "import seaborn as sns\n",
        "\n",
        "import multiprocessing\n",
        "from gensim.models import Word2Vec"
      ]
    },
    {
      "cell_type": "markdown",
      "metadata": {
        "id": "g07zJxG7H9vG"
      },
      "source": [
        "### Datos\n",
        "Utilizaremos como dataset libros en archivos de texto."
      ]
    },
    {
      "cell_type": "code",
      "execution_count": 72,
      "metadata": {
        "id": "l7z4CSBfpR3X",
        "colab": {
          "base_uri": "https://localhost:8080/"
        },
        "outputId": "017e90c9-46b6-4540-d0b5-89a20459863a"
      },
      "outputs": [
        {
          "output_type": "stream",
          "name": "stdout",
          "text": [
            "--2024-09-26 19:43:18--  https://github.com/simon-rodriguez/CEIA_procesamiento_lenguaje_natural/raw/main/datasets/text_corpus/desafio_2.zip\n",
            "Resolving github.com (github.com)... 140.82.112.3\n",
            "Connecting to github.com (github.com)|140.82.112.3|:443... connected.\n",
            "HTTP request sent, awaiting response... 302 Found\n",
            "Location: https://raw.githubusercontent.com/simon-rodriguez/CEIA_procesamiento_lenguaje_natural/main/datasets/text_corpus/desafio_2.zip [following]\n",
            "--2024-09-26 19:43:18--  https://raw.githubusercontent.com/simon-rodriguez/CEIA_procesamiento_lenguaje_natural/main/datasets/text_corpus/desafio_2.zip\n",
            "Resolving raw.githubusercontent.com (raw.githubusercontent.com)... 185.199.110.133, 185.199.108.133, 185.199.109.133, ...\n",
            "Connecting to raw.githubusercontent.com (raw.githubusercontent.com)|185.199.110.133|:443... connected.\n",
            "HTTP request sent, awaiting response... 200 OK\n",
            "Length: 437883 (428K) [application/zip]\n",
            "Saving to: ‘./dataset/text_corpus/desafio_2.zip’\n",
            "\n",
            "./dataset/text_corp 100%[===================>] 427.62K  --.-KB/s    in 0.05s   \n",
            "\n",
            "2024-09-26 19:43:18 (9.01 MB/s) - ‘./dataset/text_corpus/desafio_2.zip’ saved [437883/437883]\n",
            "\n"
          ]
        }
      ],
      "source": [
        "# Descargar la carpeta de dataset\n",
        "import os\n",
        "import platform\n",
        "\n",
        "directory = './dataset/text_corpus'\n",
        "\n",
        "if os.access(directory, os.F_OK) is False:\n",
        "    os.makedirs(directory)\n",
        "if os.access('desafio_2.zip', os.F_OK) is False:\n",
        "    if platform.system() == 'Windows':\n",
        "        !curl https://raw.githubusercontent.com/simon-rodriguez/CEIA_procesamiento_lenguaje_natural/main/datasets/text_corpus/desafio_2.zip -O {directory}/desafio_2.zip\n",
        "\n",
        "    else:\n",
        "        !wget -O {directory}/desafio_2.zip https://github.com/simon-rodriguez/CEIA_procesamiento_lenguaje_natural/raw/main/datasets/text_corpus/desafio_2.zip\n",
        "\n",
        "    !unzip -q {directory}/desafio_2.zip -d {directory}\n",
        "\n",
        "else:\n",
        "    print(\"El dataset ya se encuentra descargado\")"
      ]
    },
    {
      "cell_type": "code",
      "execution_count": 73,
      "metadata": {
        "id": "mysGrIw9ljC2",
        "outputId": "5e4ea7eb-70c1-4c33-9fe0-11c75193a68c",
        "colab": {
          "base_uri": "https://localhost:8080/"
        }
      },
      "outputs": [
        {
          "output_type": "execute_result",
          "data": {
            "text/plain": [
              "['el_arte_de_la_guerra.txt',\n",
              " 'desafio_2.zip',\n",
              " '.ipynb_checkpoints',\n",
              " 'the_adventures_of_sherlock_holmes.txt',\n",
              " 'the_adventures_of_sherlock_holmes_sentences.txt']"
            ]
          },
          "metadata": {},
          "execution_count": 73
        }
      ],
      "source": [
        "# Posibles libros\n",
        "os.listdir(\"./dataset/text_corpus\")"
      ]
    },
    {
      "cell_type": "code",
      "execution_count": 74,
      "metadata": {
        "id": "ticoqYD1Z3I7",
        "colab": {
          "base_uri": "https://localhost:8080/",
          "height": 296
        },
        "outputId": "09b39ef1-7fd8-41ca-d83b-353fe9acaf4a"
      },
      "outputs": [
        {
          "output_type": "stream",
          "name": "stderr",
          "text": [
            "<ipython-input-74-071a21c1ab2a>:3: ParserWarning:\n",
            "\n",
            "Falling back to the 'python' engine because the 'c' engine does not support regex separators (separators > 1 char and different from '\\s+' are interpreted as regex); you can avoid this warning by specifying engine='python'.\n",
            "\n"
          ]
        },
        {
          "output_type": "execute_result",
          "data": {
            "text/plain": [
              "                                                   0\n",
              "0                                                 I.\n",
              "1                            A SCANDAL IN BOHEMIA I.\n",
              "2        To Sherlock Holmes she is always the woman.\n",
              "3  I have seldom heard him mention her under any ...\n",
              "4  In his eyes she eclipses and predominates the ..."
            ],
            "text/html": [
              "\n",
              "  <div id=\"df-9dd39831-ea6a-4aef-bafc-d6c1801a8f84\" class=\"colab-df-container\">\n",
              "    <div>\n",
              "<style scoped>\n",
              "    .dataframe tbody tr th:only-of-type {\n",
              "        vertical-align: middle;\n",
              "    }\n",
              "\n",
              "    .dataframe tbody tr th {\n",
              "        vertical-align: top;\n",
              "    }\n",
              "\n",
              "    .dataframe thead th {\n",
              "        text-align: right;\n",
              "    }\n",
              "</style>\n",
              "<table border=\"1\" class=\"dataframe\">\n",
              "  <thead>\n",
              "    <tr style=\"text-align: right;\">\n",
              "      <th></th>\n",
              "      <th>0</th>\n",
              "    </tr>\n",
              "  </thead>\n",
              "  <tbody>\n",
              "    <tr>\n",
              "      <th>0</th>\n",
              "      <td>I.</td>\n",
              "    </tr>\n",
              "    <tr>\n",
              "      <th>1</th>\n",
              "      <td>A SCANDAL IN BOHEMIA I.</td>\n",
              "    </tr>\n",
              "    <tr>\n",
              "      <th>2</th>\n",
              "      <td>To Sherlock Holmes she is always the woman.</td>\n",
              "    </tr>\n",
              "    <tr>\n",
              "      <th>3</th>\n",
              "      <td>I have seldom heard him mention her under any ...</td>\n",
              "    </tr>\n",
              "    <tr>\n",
              "      <th>4</th>\n",
              "      <td>In his eyes she eclipses and predominates the ...</td>\n",
              "    </tr>\n",
              "  </tbody>\n",
              "</table>\n",
              "</div>\n",
              "    <div class=\"colab-df-buttons\">\n",
              "\n",
              "  <div class=\"colab-df-container\">\n",
              "    <button class=\"colab-df-convert\" onclick=\"convertToInteractive('df-9dd39831-ea6a-4aef-bafc-d6c1801a8f84')\"\n",
              "            title=\"Convert this dataframe to an interactive table.\"\n",
              "            style=\"display:none;\">\n",
              "\n",
              "  <svg xmlns=\"http://www.w3.org/2000/svg\" height=\"24px\" viewBox=\"0 -960 960 960\">\n",
              "    <path d=\"M120-120v-720h720v720H120Zm60-500h600v-160H180v160Zm220 220h160v-160H400v160Zm0 220h160v-160H400v160ZM180-400h160v-160H180v160Zm440 0h160v-160H620v160ZM180-180h160v-160H180v160Zm440 0h160v-160H620v160Z\"/>\n",
              "  </svg>\n",
              "    </button>\n",
              "\n",
              "  <style>\n",
              "    .colab-df-container {\n",
              "      display:flex;\n",
              "      gap: 12px;\n",
              "    }\n",
              "\n",
              "    .colab-df-convert {\n",
              "      background-color: #E8F0FE;\n",
              "      border: none;\n",
              "      border-radius: 50%;\n",
              "      cursor: pointer;\n",
              "      display: none;\n",
              "      fill: #1967D2;\n",
              "      height: 32px;\n",
              "      padding: 0 0 0 0;\n",
              "      width: 32px;\n",
              "    }\n",
              "\n",
              "    .colab-df-convert:hover {\n",
              "      background-color: #E2EBFA;\n",
              "      box-shadow: 0px 1px 2px rgba(60, 64, 67, 0.3), 0px 1px 3px 1px rgba(60, 64, 67, 0.15);\n",
              "      fill: #174EA6;\n",
              "    }\n",
              "\n",
              "    .colab-df-buttons div {\n",
              "      margin-bottom: 4px;\n",
              "    }\n",
              "\n",
              "    [theme=dark] .colab-df-convert {\n",
              "      background-color: #3B4455;\n",
              "      fill: #D2E3FC;\n",
              "    }\n",
              "\n",
              "    [theme=dark] .colab-df-convert:hover {\n",
              "      background-color: #434B5C;\n",
              "      box-shadow: 0px 1px 3px 1px rgba(0, 0, 0, 0.15);\n",
              "      filter: drop-shadow(0px 1px 2px rgba(0, 0, 0, 0.3));\n",
              "      fill: #FFFFFF;\n",
              "    }\n",
              "  </style>\n",
              "\n",
              "    <script>\n",
              "      const buttonEl =\n",
              "        document.querySelector('#df-9dd39831-ea6a-4aef-bafc-d6c1801a8f84 button.colab-df-convert');\n",
              "      buttonEl.style.display =\n",
              "        google.colab.kernel.accessAllowed ? 'block' : 'none';\n",
              "\n",
              "      async function convertToInteractive(key) {\n",
              "        const element = document.querySelector('#df-9dd39831-ea6a-4aef-bafc-d6c1801a8f84');\n",
              "        const dataTable =\n",
              "          await google.colab.kernel.invokeFunction('convertToInteractive',\n",
              "                                                    [key], {});\n",
              "        if (!dataTable) return;\n",
              "\n",
              "        const docLinkHtml = 'Like what you see? Visit the ' +\n",
              "          '<a target=\"_blank\" href=https://colab.research.google.com/notebooks/data_table.ipynb>data table notebook</a>'\n",
              "          + ' to learn more about interactive tables.';\n",
              "        element.innerHTML = '';\n",
              "        dataTable['output_type'] = 'display_data';\n",
              "        await google.colab.output.renderOutput(dataTable, element);\n",
              "        const docLink = document.createElement('div');\n",
              "        docLink.innerHTML = docLinkHtml;\n",
              "        element.appendChild(docLink);\n",
              "      }\n",
              "    </script>\n",
              "  </div>\n",
              "\n",
              "\n",
              "<div id=\"df-34447af6-894a-4a11-8284-605331bb7e24\">\n",
              "  <button class=\"colab-df-quickchart\" onclick=\"quickchart('df-34447af6-894a-4a11-8284-605331bb7e24')\"\n",
              "            title=\"Suggest charts\"\n",
              "            style=\"display:none;\">\n",
              "\n",
              "<svg xmlns=\"http://www.w3.org/2000/svg\" height=\"24px\"viewBox=\"0 0 24 24\"\n",
              "     width=\"24px\">\n",
              "    <g>\n",
              "        <path d=\"M19 3H5c-1.1 0-2 .9-2 2v14c0 1.1.9 2 2 2h14c1.1 0 2-.9 2-2V5c0-1.1-.9-2-2-2zM9 17H7v-7h2v7zm4 0h-2V7h2v10zm4 0h-2v-4h2v4z\"/>\n",
              "    </g>\n",
              "</svg>\n",
              "  </button>\n",
              "\n",
              "<style>\n",
              "  .colab-df-quickchart {\n",
              "      --bg-color: #E8F0FE;\n",
              "      --fill-color: #1967D2;\n",
              "      --hover-bg-color: #E2EBFA;\n",
              "      --hover-fill-color: #174EA6;\n",
              "      --disabled-fill-color: #AAA;\n",
              "      --disabled-bg-color: #DDD;\n",
              "  }\n",
              "\n",
              "  [theme=dark] .colab-df-quickchart {\n",
              "      --bg-color: #3B4455;\n",
              "      --fill-color: #D2E3FC;\n",
              "      --hover-bg-color: #434B5C;\n",
              "      --hover-fill-color: #FFFFFF;\n",
              "      --disabled-bg-color: #3B4455;\n",
              "      --disabled-fill-color: #666;\n",
              "  }\n",
              "\n",
              "  .colab-df-quickchart {\n",
              "    background-color: var(--bg-color);\n",
              "    border: none;\n",
              "    border-radius: 50%;\n",
              "    cursor: pointer;\n",
              "    display: none;\n",
              "    fill: var(--fill-color);\n",
              "    height: 32px;\n",
              "    padding: 0;\n",
              "    width: 32px;\n",
              "  }\n",
              "\n",
              "  .colab-df-quickchart:hover {\n",
              "    background-color: var(--hover-bg-color);\n",
              "    box-shadow: 0 1px 2px rgba(60, 64, 67, 0.3), 0 1px 3px 1px rgba(60, 64, 67, 0.15);\n",
              "    fill: var(--button-hover-fill-color);\n",
              "  }\n",
              "\n",
              "  .colab-df-quickchart-complete:disabled,\n",
              "  .colab-df-quickchart-complete:disabled:hover {\n",
              "    background-color: var(--disabled-bg-color);\n",
              "    fill: var(--disabled-fill-color);\n",
              "    box-shadow: none;\n",
              "  }\n",
              "\n",
              "  .colab-df-spinner {\n",
              "    border: 2px solid var(--fill-color);\n",
              "    border-color: transparent;\n",
              "    border-bottom-color: var(--fill-color);\n",
              "    animation:\n",
              "      spin 1s steps(1) infinite;\n",
              "  }\n",
              "\n",
              "  @keyframes spin {\n",
              "    0% {\n",
              "      border-color: transparent;\n",
              "      border-bottom-color: var(--fill-color);\n",
              "      border-left-color: var(--fill-color);\n",
              "    }\n",
              "    20% {\n",
              "      border-color: transparent;\n",
              "      border-left-color: var(--fill-color);\n",
              "      border-top-color: var(--fill-color);\n",
              "    }\n",
              "    30% {\n",
              "      border-color: transparent;\n",
              "      border-left-color: var(--fill-color);\n",
              "      border-top-color: var(--fill-color);\n",
              "      border-right-color: var(--fill-color);\n",
              "    }\n",
              "    40% {\n",
              "      border-color: transparent;\n",
              "      border-right-color: var(--fill-color);\n",
              "      border-top-color: var(--fill-color);\n",
              "    }\n",
              "    60% {\n",
              "      border-color: transparent;\n",
              "      border-right-color: var(--fill-color);\n",
              "    }\n",
              "    80% {\n",
              "      border-color: transparent;\n",
              "      border-right-color: var(--fill-color);\n",
              "      border-bottom-color: var(--fill-color);\n",
              "    }\n",
              "    90% {\n",
              "      border-color: transparent;\n",
              "      border-bottom-color: var(--fill-color);\n",
              "    }\n",
              "  }\n",
              "</style>\n",
              "\n",
              "  <script>\n",
              "    async function quickchart(key) {\n",
              "      const quickchartButtonEl =\n",
              "        document.querySelector('#' + key + ' button');\n",
              "      quickchartButtonEl.disabled = true;  // To prevent multiple clicks.\n",
              "      quickchartButtonEl.classList.add('colab-df-spinner');\n",
              "      try {\n",
              "        const charts = await google.colab.kernel.invokeFunction(\n",
              "            'suggestCharts', [key], {});\n",
              "      } catch (error) {\n",
              "        console.error('Error during call to suggestCharts:', error);\n",
              "      }\n",
              "      quickchartButtonEl.classList.remove('colab-df-spinner');\n",
              "      quickchartButtonEl.classList.add('colab-df-quickchart-complete');\n",
              "    }\n",
              "    (() => {\n",
              "      let quickchartButtonEl =\n",
              "        document.querySelector('#df-34447af6-894a-4a11-8284-605331bb7e24 button');\n",
              "      quickchartButtonEl.style.display =\n",
              "        google.colab.kernel.accessAllowed ? 'block' : 'none';\n",
              "    })();\n",
              "  </script>\n",
              "</div>\n",
              "\n",
              "    </div>\n",
              "  </div>\n"
            ],
            "application/vnd.google.colaboratory.intrinsic+json": {
              "type": "dataframe",
              "variable_name": "df_sherlock",
              "summary": "{\n  \"name\": \"df_sherlock\",\n  \"rows\": 5877,\n  \"fields\": [\n    {\n      \"column\": 0,\n      \"properties\": {\n        \"dtype\": \"string\",\n        \"num_unique_values\": 5808,\n        \"samples\": [\n          \"I am all impatience to be gone.\\u201d\",\n          \"He drew a sovereign from his pocket and threw it down upon the slab, turning away with the air of a man whose disgust is too deep for words.\",\n          \"I do not think that I have ever seen so thin a man.\"\n        ],\n        \"semantic_type\": \"\",\n        \"description\": \"\"\n      }\n    }\n  ]\n}"
            }
          },
          "metadata": {},
          "execution_count": 74
        }
      ],
      "source": [
        "# Armar el dataset utilizando salto de línea para separar las oraciones/docs\n",
        "# El libro está preprocesado para que cada línea sea una oración del libro (determinada por el punto al final de la oracion)\n",
        "df_sherlock = pd.read_csv('./dataset/text_corpus/the_adventures_of_sherlock_holmes_sentences.txt', sep='/n', header=None)\n",
        "df_sherlock.head()"
      ]
    },
    {
      "cell_type": "code",
      "source": [
        "df_arte= pd.read_csv('./dataset/text_corpus/el_arte_de_la_guerra.txt', sep='/n', header=None)\n",
        "df_arte.head()"
      ],
      "metadata": {
        "colab": {
          "base_uri": "https://localhost:8080/",
          "height": 296
        },
        "id": "5wBTBeF0v6oh",
        "outputId": "4b95d789-b530-455d-b33b-4b20e0a08eb4"
      },
      "execution_count": 75,
      "outputs": [
        {
          "output_type": "stream",
          "name": "stderr",
          "text": [
            "<ipython-input-75-b240d15238c1>:1: ParserWarning:\n",
            "\n",
            "Falling back to the 'python' engine because the 'c' engine does not support regex separators (separators > 1 char and different from '\\s+' are interpreted as regex); you can avoid this warning by specifying engine='python'.\n",
            "\n"
          ]
        },
        {
          "output_type": "execute_result",
          "data": {
            "text/plain": [
              "                                                   0\n",
              "0                               El Arte de la Guerra\n",
              "1                                        Capítulo 1.\n",
              "2                                Sobre la evaluación\n",
              "3  Sun Tzu dice: la guerra es de vital importanci...\n",
              "4  No reflexionar seriamente sobre todo lo que le..."
            ],
            "text/html": [
              "\n",
              "  <div id=\"df-afbcacc2-cb25-4cfd-885f-9070fbcfb65a\" class=\"colab-df-container\">\n",
              "    <div>\n",
              "<style scoped>\n",
              "    .dataframe tbody tr th:only-of-type {\n",
              "        vertical-align: middle;\n",
              "    }\n",
              "\n",
              "    .dataframe tbody tr th {\n",
              "        vertical-align: top;\n",
              "    }\n",
              "\n",
              "    .dataframe thead th {\n",
              "        text-align: right;\n",
              "    }\n",
              "</style>\n",
              "<table border=\"1\" class=\"dataframe\">\n",
              "  <thead>\n",
              "    <tr style=\"text-align: right;\">\n",
              "      <th></th>\n",
              "      <th>0</th>\n",
              "    </tr>\n",
              "  </thead>\n",
              "  <tbody>\n",
              "    <tr>\n",
              "      <th>0</th>\n",
              "      <td>El Arte de la Guerra</td>\n",
              "    </tr>\n",
              "    <tr>\n",
              "      <th>1</th>\n",
              "      <td>Capítulo 1.</td>\n",
              "    </tr>\n",
              "    <tr>\n",
              "      <th>2</th>\n",
              "      <td>Sobre la evaluación</td>\n",
              "    </tr>\n",
              "    <tr>\n",
              "      <th>3</th>\n",
              "      <td>Sun Tzu dice: la guerra es de vital importanci...</td>\n",
              "    </tr>\n",
              "    <tr>\n",
              "      <th>4</th>\n",
              "      <td>No reflexionar seriamente sobre todo lo que le...</td>\n",
              "    </tr>\n",
              "  </tbody>\n",
              "</table>\n",
              "</div>\n",
              "    <div class=\"colab-df-buttons\">\n",
              "\n",
              "  <div class=\"colab-df-container\">\n",
              "    <button class=\"colab-df-convert\" onclick=\"convertToInteractive('df-afbcacc2-cb25-4cfd-885f-9070fbcfb65a')\"\n",
              "            title=\"Convert this dataframe to an interactive table.\"\n",
              "            style=\"display:none;\">\n",
              "\n",
              "  <svg xmlns=\"http://www.w3.org/2000/svg\" height=\"24px\" viewBox=\"0 -960 960 960\">\n",
              "    <path d=\"M120-120v-720h720v720H120Zm60-500h600v-160H180v160Zm220 220h160v-160H400v160Zm0 220h160v-160H400v160ZM180-400h160v-160H180v160Zm440 0h160v-160H620v160ZM180-180h160v-160H180v160Zm440 0h160v-160H620v160Z\"/>\n",
              "  </svg>\n",
              "    </button>\n",
              "\n",
              "  <style>\n",
              "    .colab-df-container {\n",
              "      display:flex;\n",
              "      gap: 12px;\n",
              "    }\n",
              "\n",
              "    .colab-df-convert {\n",
              "      background-color: #E8F0FE;\n",
              "      border: none;\n",
              "      border-radius: 50%;\n",
              "      cursor: pointer;\n",
              "      display: none;\n",
              "      fill: #1967D2;\n",
              "      height: 32px;\n",
              "      padding: 0 0 0 0;\n",
              "      width: 32px;\n",
              "    }\n",
              "\n",
              "    .colab-df-convert:hover {\n",
              "      background-color: #E2EBFA;\n",
              "      box-shadow: 0px 1px 2px rgba(60, 64, 67, 0.3), 0px 1px 3px 1px rgba(60, 64, 67, 0.15);\n",
              "      fill: #174EA6;\n",
              "    }\n",
              "\n",
              "    .colab-df-buttons div {\n",
              "      margin-bottom: 4px;\n",
              "    }\n",
              "\n",
              "    [theme=dark] .colab-df-convert {\n",
              "      background-color: #3B4455;\n",
              "      fill: #D2E3FC;\n",
              "    }\n",
              "\n",
              "    [theme=dark] .colab-df-convert:hover {\n",
              "      background-color: #434B5C;\n",
              "      box-shadow: 0px 1px 3px 1px rgba(0, 0, 0, 0.15);\n",
              "      filter: drop-shadow(0px 1px 2px rgba(0, 0, 0, 0.3));\n",
              "      fill: #FFFFFF;\n",
              "    }\n",
              "  </style>\n",
              "\n",
              "    <script>\n",
              "      const buttonEl =\n",
              "        document.querySelector('#df-afbcacc2-cb25-4cfd-885f-9070fbcfb65a button.colab-df-convert');\n",
              "      buttonEl.style.display =\n",
              "        google.colab.kernel.accessAllowed ? 'block' : 'none';\n",
              "\n",
              "      async function convertToInteractive(key) {\n",
              "        const element = document.querySelector('#df-afbcacc2-cb25-4cfd-885f-9070fbcfb65a');\n",
              "        const dataTable =\n",
              "          await google.colab.kernel.invokeFunction('convertToInteractive',\n",
              "                                                    [key], {});\n",
              "        if (!dataTable) return;\n",
              "\n",
              "        const docLinkHtml = 'Like what you see? Visit the ' +\n",
              "          '<a target=\"_blank\" href=https://colab.research.google.com/notebooks/data_table.ipynb>data table notebook</a>'\n",
              "          + ' to learn more about interactive tables.';\n",
              "        element.innerHTML = '';\n",
              "        dataTable['output_type'] = 'display_data';\n",
              "        await google.colab.output.renderOutput(dataTable, element);\n",
              "        const docLink = document.createElement('div');\n",
              "        docLink.innerHTML = docLinkHtml;\n",
              "        element.appendChild(docLink);\n",
              "      }\n",
              "    </script>\n",
              "  </div>\n",
              "\n",
              "\n",
              "<div id=\"df-648d6b94-ee56-4996-acab-1a49d747bee1\">\n",
              "  <button class=\"colab-df-quickchart\" onclick=\"quickchart('df-648d6b94-ee56-4996-acab-1a49d747bee1')\"\n",
              "            title=\"Suggest charts\"\n",
              "            style=\"display:none;\">\n",
              "\n",
              "<svg xmlns=\"http://www.w3.org/2000/svg\" height=\"24px\"viewBox=\"0 0 24 24\"\n",
              "     width=\"24px\">\n",
              "    <g>\n",
              "        <path d=\"M19 3H5c-1.1 0-2 .9-2 2v14c0 1.1.9 2 2 2h14c1.1 0 2-.9 2-2V5c0-1.1-.9-2-2-2zM9 17H7v-7h2v7zm4 0h-2V7h2v10zm4 0h-2v-4h2v4z\"/>\n",
              "    </g>\n",
              "</svg>\n",
              "  </button>\n",
              "\n",
              "<style>\n",
              "  .colab-df-quickchart {\n",
              "      --bg-color: #E8F0FE;\n",
              "      --fill-color: #1967D2;\n",
              "      --hover-bg-color: #E2EBFA;\n",
              "      --hover-fill-color: #174EA6;\n",
              "      --disabled-fill-color: #AAA;\n",
              "      --disabled-bg-color: #DDD;\n",
              "  }\n",
              "\n",
              "  [theme=dark] .colab-df-quickchart {\n",
              "      --bg-color: #3B4455;\n",
              "      --fill-color: #D2E3FC;\n",
              "      --hover-bg-color: #434B5C;\n",
              "      --hover-fill-color: #FFFFFF;\n",
              "      --disabled-bg-color: #3B4455;\n",
              "      --disabled-fill-color: #666;\n",
              "  }\n",
              "\n",
              "  .colab-df-quickchart {\n",
              "    background-color: var(--bg-color);\n",
              "    border: none;\n",
              "    border-radius: 50%;\n",
              "    cursor: pointer;\n",
              "    display: none;\n",
              "    fill: var(--fill-color);\n",
              "    height: 32px;\n",
              "    padding: 0;\n",
              "    width: 32px;\n",
              "  }\n",
              "\n",
              "  .colab-df-quickchart:hover {\n",
              "    background-color: var(--hover-bg-color);\n",
              "    box-shadow: 0 1px 2px rgba(60, 64, 67, 0.3), 0 1px 3px 1px rgba(60, 64, 67, 0.15);\n",
              "    fill: var(--button-hover-fill-color);\n",
              "  }\n",
              "\n",
              "  .colab-df-quickchart-complete:disabled,\n",
              "  .colab-df-quickchart-complete:disabled:hover {\n",
              "    background-color: var(--disabled-bg-color);\n",
              "    fill: var(--disabled-fill-color);\n",
              "    box-shadow: none;\n",
              "  }\n",
              "\n",
              "  .colab-df-spinner {\n",
              "    border: 2px solid var(--fill-color);\n",
              "    border-color: transparent;\n",
              "    border-bottom-color: var(--fill-color);\n",
              "    animation:\n",
              "      spin 1s steps(1) infinite;\n",
              "  }\n",
              "\n",
              "  @keyframes spin {\n",
              "    0% {\n",
              "      border-color: transparent;\n",
              "      border-bottom-color: var(--fill-color);\n",
              "      border-left-color: var(--fill-color);\n",
              "    }\n",
              "    20% {\n",
              "      border-color: transparent;\n",
              "      border-left-color: var(--fill-color);\n",
              "      border-top-color: var(--fill-color);\n",
              "    }\n",
              "    30% {\n",
              "      border-color: transparent;\n",
              "      border-left-color: var(--fill-color);\n",
              "      border-top-color: var(--fill-color);\n",
              "      border-right-color: var(--fill-color);\n",
              "    }\n",
              "    40% {\n",
              "      border-color: transparent;\n",
              "      border-right-color: var(--fill-color);\n",
              "      border-top-color: var(--fill-color);\n",
              "    }\n",
              "    60% {\n",
              "      border-color: transparent;\n",
              "      border-right-color: var(--fill-color);\n",
              "    }\n",
              "    80% {\n",
              "      border-color: transparent;\n",
              "      border-right-color: var(--fill-color);\n",
              "      border-bottom-color: var(--fill-color);\n",
              "    }\n",
              "    90% {\n",
              "      border-color: transparent;\n",
              "      border-bottom-color: var(--fill-color);\n",
              "    }\n",
              "  }\n",
              "</style>\n",
              "\n",
              "  <script>\n",
              "    async function quickchart(key) {\n",
              "      const quickchartButtonEl =\n",
              "        document.querySelector('#' + key + ' button');\n",
              "      quickchartButtonEl.disabled = true;  // To prevent multiple clicks.\n",
              "      quickchartButtonEl.classList.add('colab-df-spinner');\n",
              "      try {\n",
              "        const charts = await google.colab.kernel.invokeFunction(\n",
              "            'suggestCharts', [key], {});\n",
              "      } catch (error) {\n",
              "        console.error('Error during call to suggestCharts:', error);\n",
              "      }\n",
              "      quickchartButtonEl.classList.remove('colab-df-spinner');\n",
              "      quickchartButtonEl.classList.add('colab-df-quickchart-complete');\n",
              "    }\n",
              "    (() => {\n",
              "      let quickchartButtonEl =\n",
              "        document.querySelector('#df-648d6b94-ee56-4996-acab-1a49d747bee1 button');\n",
              "      quickchartButtonEl.style.display =\n",
              "        google.colab.kernel.accessAllowed ? 'block' : 'none';\n",
              "    })();\n",
              "  </script>\n",
              "</div>\n",
              "\n",
              "    </div>\n",
              "  </div>\n"
            ],
            "application/vnd.google.colaboratory.intrinsic+json": {
              "type": "dataframe",
              "variable_name": "df_arte",
              "summary": "{\n  \"name\": \"df_arte\",\n  \"rows\": 736,\n  \"fields\": [\n    {\n      \"column\": 0,\n      \"properties\": {\n        \"dtype\": \"string\",\n        \"num_unique_values\": 736,\n        \"samples\": [\n          \"Cuando el enemigo ofrece oportunidades, aprov\\u00e9chalas inmediatamente.\",\n          \"Golpear al enemigo cuando est\\u00e1 desordenado.\",\n          \"El territorio que est\\u00e1 rodeado por tres territorios rivales y es el primero en proporcionar libre acceso a \\u00e9l a todo el mundo se llama terreno de intersecci\\u00f3n.\"\n        ],\n        \"semantic_type\": \"\",\n        \"description\": \"\"\n      }\n    }\n  ]\n}"
            }
          },
          "metadata": {},
          "execution_count": 75
        }
      ]
    },
    {
      "cell_type": "code",
      "execution_count": 76,
      "metadata": {
        "id": "LEpKubK9XzXN",
        "colab": {
          "base_uri": "https://localhost:8080/"
        },
        "outputId": "f9a6bee7-e8f1-4c42-ca52-a3609b61a1e8"
      },
      "outputs": [
        {
          "output_type": "stream",
          "name": "stdout",
          "text": [
            "Cantidad de documentos (Sherlock): 5877\n",
            "Cantidad de documentos (Arte de la Guerra): 736\n"
          ]
        }
      ],
      "source": [
        "print(\"Cantidad de documentos (Sherlock):\", df_sherlock.shape[0])\n",
        "print(\"Cantidad de documentos (Arte de la Guerra):\", df_arte.shape[0])"
      ]
    },
    {
      "cell_type": "markdown",
      "source": [
        "## El Arte de la Guerra"
      ],
      "metadata": {
        "id": "lPEuMgTuskZg"
      }
    },
    {
      "cell_type": "markdown",
      "metadata": {
        "id": "E3S9eZGjskZi"
      },
      "source": [
        "### 1 - Preprocesamiento"
      ]
    },
    {
      "cell_type": "code",
      "execution_count": 77,
      "metadata": {
        "id": "x7i8KNTKskZi"
      },
      "outputs": [],
      "source": [
        "from tensorflow.keras.preprocessing.text import text_to_word_sequence\n",
        "\n",
        "sentence_tokens_arte = []\n",
        "# Recorrer todas las filas y transformar las oraciones\n",
        "# en una secuencia de palabras (esto podría realizarse con NLTK o spaCy también)\n",
        "for _, row in df_arte[:None].iterrows():\n",
        "    sentence_tokens_arte.append(text_to_word_sequence(row[0]))"
      ]
    },
    {
      "cell_type": "code",
      "execution_count": 78,
      "metadata": {
        "colab": {
          "base_uri": "https://localhost:8080/"
        },
        "outputId": "36eae84c-918d-4423-a9d1-b8b8c6b7f7df",
        "id": "fj8njDsIskZi"
      },
      "outputs": [
        {
          "output_type": "execute_result",
          "data": {
            "text/plain": [
              "[['hay',\n",
              "  'que',\n",
              "  'valorarla',\n",
              "  'en',\n",
              "  'términos',\n",
              "  'de',\n",
              "  'cinco',\n",
              "  'factores',\n",
              "  'fundamentales',\n",
              "  'y',\n",
              "  'hacer',\n",
              "  'comparaciones',\n",
              "  'entre',\n",
              "  'diversas',\n",
              "  'condiciones',\n",
              "  'de',\n",
              "  'los',\n",
              "  'bandos',\n",
              "  'rivales',\n",
              "  'con',\n",
              "  'vistas',\n",
              "  'a',\n",
              "  'determinar',\n",
              "  'el',\n",
              "  'resultado',\n",
              "  'de',\n",
              "  'la',\n",
              "  'guerra'],\n",
              " ['el',\n",
              "  'primero',\n",
              "  'de',\n",
              "  'estos',\n",
              "  'factores',\n",
              "  'es',\n",
              "  'la',\n",
              "  'doctrina',\n",
              "  'el',\n",
              "  'segundo',\n",
              "  'el',\n",
              "  'tiempo',\n",
              "  'el',\n",
              "  'tercero',\n",
              "  'el',\n",
              "  'terreno',\n",
              "  'el',\n",
              "  'cuarto',\n",
              "  'el',\n",
              "  'mando',\n",
              "  'y',\n",
              "  'el',\n",
              "  'quinto',\n",
              "  'la',\n",
              "  'disciplina']]"
            ]
          },
          "metadata": {},
          "execution_count": 78
        }
      ],
      "source": [
        "# Demos un vistazo\n",
        "sentence_tokens_arte[5:7]"
      ]
    },
    {
      "cell_type": "markdown",
      "metadata": {
        "id": "GQoUoZsSskZk"
      },
      "source": [
        "### 2 - Crear los vectores (word2vec)"
      ]
    },
    {
      "cell_type": "code",
      "execution_count": 79,
      "metadata": {
        "id": "kVIRI1kxskZk"
      },
      "outputs": [],
      "source": [
        "from gensim.models.callbacks import CallbackAny2Vec\n",
        "# Durante el entrenamiento gensim por defecto no informa el \"loss\" en cada época\n",
        "# Sobrecargamos el callback para poder tener esta información\n",
        "class callback(CallbackAny2Vec):\n",
        "    \"\"\"\n",
        "    Callback to print loss after each epoch\n",
        "    \"\"\"\n",
        "    def __init__(self):\n",
        "        self.epoch = 0\n",
        "\n",
        "    def on_epoch_end(self, model):\n",
        "        loss = model.get_latest_training_loss()\n",
        "        if self.epoch == 0:\n",
        "            print('Loss after epoch {}: {}'.format(self.epoch, loss))\n",
        "        else:\n",
        "            print('Loss after epoch {}: {}'.format(self.epoch, loss- self.loss_previous_step))\n",
        "        self.epoch += 1\n",
        "        self.loss_previous_step = loss"
      ]
    },
    {
      "cell_type": "code",
      "execution_count": 80,
      "metadata": {
        "id": "RFwgXEoHskZl"
      },
      "outputs": [],
      "source": [
        "# Crearmos el modelo generador de vectores\n",
        "# En este caso utilizaremos la estructura modelo Skipgram\n",
        "w2v_model_arte = Word2Vec(min_count=5,    # frecuencia mínima de palabra para incluirla en el vocabulario\n",
        "                     window=2,       # cant de palabras antes y desp de la predicha\n",
        "                     vector_size=400,       # dimensionalidad de los vectores\n",
        "                     negative=20,    # cantidad de negative samples... 0 es no se usa\n",
        "                     workers=1,      # si tienen más cores pueden cambiar este valor\n",
        "                     sg=1)           # modelo 0:CBOW  1:skipgram"
      ]
    },
    {
      "cell_type": "code",
      "execution_count": 81,
      "metadata": {
        "id": "lHR2jWDQskZl"
      },
      "outputs": [],
      "source": [
        "# Obtener el vocabulario con los tokens\n",
        "w2v_model_arte.build_vocab(sentence_tokens_arte)"
      ]
    },
    {
      "cell_type": "code",
      "execution_count": 82,
      "metadata": {
        "colab": {
          "base_uri": "https://localhost:8080/"
        },
        "outputId": "29a5ff9f-7072-48ea-c424-db313137841f",
        "id": "zk63to_cskZm"
      },
      "outputs": [
        {
          "output_type": "stream",
          "name": "stdout",
          "text": [
            "Cantidad de docs en el corpus: 736\n"
          ]
        }
      ],
      "source": [
        "# Cantidad de filas/docs encontradas en el corpus\n",
        "print(\"Cantidad de docs en el corpus:\", w2v_model_arte.corpus_count)"
      ]
    },
    {
      "cell_type": "code",
      "execution_count": 83,
      "metadata": {
        "colab": {
          "base_uri": "https://localhost:8080/"
        },
        "outputId": "9a8d54ca-3db8-4c09-bfbe-332d3d6c2917",
        "id": "qdJwrLMpskZm"
      },
      "outputs": [
        {
          "output_type": "stream",
          "name": "stdout",
          "text": [
            "Cantidad de términos distintos en el corpus: 374\n"
          ]
        }
      ],
      "source": [
        "# Cantidad de palabras/términos encontrados en el corpus\n",
        "print(\"Cantidad de términos distintos en el corpus:\", len(w2v_model_arte.wv.index_to_key))"
      ]
    },
    {
      "cell_type": "markdown",
      "metadata": {
        "id": "JsanEtu1skZn"
      },
      "source": [
        "### 3 - Entrenar embeddings"
      ]
    },
    {
      "cell_type": "code",
      "execution_count": 84,
      "metadata": {
        "colab": {
          "base_uri": "https://localhost:8080/"
        },
        "outputId": "594cda6e-9cbb-4e7d-ffb9-0bc0b274a8d9",
        "id": "mg1SRceqskZn"
      },
      "outputs": [
        {
          "output_type": "stream",
          "name": "stdout",
          "text": [
            "Loss after epoch 0: 106914.5859375\n",
            "Loss after epoch 1: 56698.2265625\n",
            "Loss after epoch 2: 55810.65625\n",
            "Loss after epoch 3: 55458.09375\n",
            "Loss after epoch 4: 55770.1875\n",
            "Loss after epoch 5: 55848.125\n",
            "Loss after epoch 6: 55604.8125\n",
            "Loss after epoch 7: 55374.1875\n",
            "Loss after epoch 8: 56984.0\n",
            "Loss after epoch 9: 56945.125\n",
            "Loss after epoch 10: 56844.1875\n",
            "Loss after epoch 11: 56088.9375\n",
            "Loss after epoch 12: 55223.75\n",
            "Loss after epoch 13: 55625.375\n",
            "Loss after epoch 14: 54435.5\n",
            "Loss after epoch 15: 54694.0\n",
            "Loss after epoch 16: 54979.0\n",
            "Loss after epoch 17: 54129.875\n",
            "Loss after epoch 18: 49106.375\n",
            "Loss after epoch 19: 48513.25\n",
            "Loss after epoch 20: 48618.625\n",
            "Loss after epoch 21: 47700.125\n",
            "Loss after epoch 22: 47603.125\n",
            "Loss after epoch 23: 46452.875\n",
            "Loss after epoch 24: 47205.25\n",
            "Loss after epoch 25: 46108.25\n",
            "Loss after epoch 26: 46212.375\n",
            "Loss after epoch 27: 46284.25\n",
            "Loss after epoch 28: 46565.375\n",
            "Loss after epoch 29: 45545.375\n",
            "Loss after epoch 30: 44815.875\n",
            "Loss after epoch 31: 45306.125\n",
            "Loss after epoch 32: 45439.0\n",
            "Loss after epoch 33: 44201.25\n",
            "Loss after epoch 34: 45045.375\n",
            "Loss after epoch 35: 44530.625\n",
            "Loss after epoch 36: 43860.375\n",
            "Loss after epoch 37: 43327.125\n",
            "Loss after epoch 38: 43027.25\n",
            "Loss after epoch 39: 43807.5\n",
            "Loss after epoch 40: 42220.375\n",
            "Loss after epoch 41: 38342.0\n",
            "Loss after epoch 42: 37969.75\n",
            "Loss after epoch 43: 38461.5\n",
            "Loss after epoch 44: 38207.75\n",
            "Loss after epoch 45: 38681.25\n",
            "Loss after epoch 46: 38239.25\n",
            "Loss after epoch 47: 38404.75\n",
            "Loss after epoch 48: 37779.0\n",
            "Loss after epoch 49: 37269.5\n"
          ]
        },
        {
          "output_type": "execute_result",
          "data": {
            "text/plain": [
              "(278994, 703150)"
            ]
          },
          "metadata": {},
          "execution_count": 84
        }
      ],
      "source": [
        "# Entrenamos el modelo generador de vectores\n",
        "# Utilizamos nuestro callback\n",
        "w2v_model_arte.train(sentence_tokens_arte,\n",
        "                 total_examples=w2v_model_arte.corpus_count,\n",
        "                 epochs=50,\n",
        "                 compute_loss = True,\n",
        "                 callbacks=[callback()]\n",
        "                 )"
      ]
    },
    {
      "cell_type": "markdown",
      "metadata": {
        "id": "FifXedRcskZo"
      },
      "source": [
        "### 4 - Ensayar"
      ]
    },
    {
      "cell_type": "code",
      "execution_count": 85,
      "metadata": {
        "colab": {
          "base_uri": "https://localhost:8080/"
        },
        "outputId": "e0f1b783-0d3d-4a6c-9187-2e06cb6e0254",
        "id": "WQox-NxYskZo"
      },
      "outputs": [
        {
          "output_type": "execute_result",
          "data": {
            "text/plain": [
              "[('vez', 0.7536874413490295),\n",
              " ('derrota', 0.7234232425689697),\n",
              " ('entrar', 0.7212443351745605),\n",
              " ('momento', 0.6954834461212158),\n",
              " ('considera', 0.6703100800514221),\n",
              " ('después', 0.655949592590332),\n",
              " ('kilómetros', 0.6553530097007751),\n",
              " ('firmeza', 0.6547974348068237),\n",
              " ('combate', 0.6509721875190735),\n",
              " ('distancia', 0.6494271159172058)]"
            ]
          },
          "metadata": {},
          "execution_count": 85
        }
      ],
      "source": [
        "# Palabras que MÁS se relacionan con...:\n",
        "w2v_model_arte.wv.most_similar(positive=[\"batalla\"], topn=10)"
      ]
    },
    {
      "cell_type": "code",
      "execution_count": 86,
      "metadata": {
        "colab": {
          "base_uri": "https://localhost:8080/"
        },
        "outputId": "cac14753-6863-4c13-d14a-e6df9078faf4",
        "id": "w5GE6XMJskZo"
      },
      "outputs": [
        {
          "output_type": "execute_result",
          "data": {
            "text/plain": [
              "[('capítulo', 0.021289438009262085),\n",
              " ('prisioneros', -0.13480673730373383),\n",
              " ('deben', -0.14050182700157166),\n",
              " ('pueden', -0.1446075141429901),\n",
              " ('mando', -0.14674396812915802),\n",
              " ('entre', -0.15144218504428864),\n",
              " ('decir', -0.1705988198518753),\n",
              " ('con', -0.19836504757404327),\n",
              " ('tener', -0.2127441018819809),\n",
              " ('quiere', -0.2177363783121109)]"
            ]
          },
          "metadata": {},
          "execution_count": 86
        }
      ],
      "source": [
        "# Palabras que MENOS se relacionan con...:\n",
        "w2v_model_arte.wv.most_similar(negative=[\"batalla\"], topn=10)"
      ]
    },
    {
      "cell_type": "markdown",
      "source": [
        "#### Comentario sobre la palabra \"Batalla\":\n",
        "\n",
        "**Similares**\n",
        "\n",
        "- El momento del día ``[día, noche]``, tienen sentido de estar relacionado con la palabra \"Batalla\", ya que esta puede ocurrir en cualquier momento.\n",
        "- El libro habla del \"arte de la guerra\", por lo que tiene sentido que se relacione la batalla a la palabra \"arte\".\n",
        "- ``[Recompensa, Derrota]`` tienen sentido al relacionarse al resultado de una batalla.\n",
        "- Las demás palabras pueden acompañar fácilmente a \"batalla\" en diferentes contextos: \"las estimaciones realizadas antes de la batalla **indican** victoria\", \"la victoria sobre los demás obtenida por medio de la batalla no se **considera** una buena victoria\", etc.\n",
        "\n",
        "** Diferentes **\n",
        "- La palabra \"Capítulo\" tiene sentido al no relacionarse con ninguna otra palabra más allá del nombre de la sección del libro.\n",
        "- En el libro la palabra \"prisioneros\" no se relaciona a las tácticas en las batallas.\n",
        "- Las demás palabras no son muy específicas y no necesariamente pueden usarse en combinación con \"Batalla\"."
      ],
      "metadata": {
        "id": "x8uAi_iJzJB3"
      }
    },
    {
      "cell_type": "code",
      "execution_count": 87,
      "metadata": {
        "colab": {
          "base_uri": "https://localhost:8080/"
        },
        "outputId": "58ca82ac-3272-4318-8156-eeb214542ff1",
        "id": "B5m_AiN0skZp"
      },
      "outputs": [
        {
          "output_type": "execute_result",
          "data": {
            "text/plain": [
              "[('movimientos', 0.7488389015197754),\n",
              " ('condiciones', 0.7209693193435669),\n",
              " ('momento', 0.71792072057724),\n",
              " ('sean', 0.717805027961731),\n",
              " ('formaciones', 0.705069363117218),\n",
              " ('oficiales', 0.6983823180198669),\n",
              " ('muchas', 0.679310142993927),\n",
              " ('fuerzas', 0.6787497997283936),\n",
              " ('puntos', 0.6639254689216614),\n",
              " ('éstas', 0.6615324020385742)]"
            ]
          },
          "metadata": {},
          "execution_count": 87
        }
      ],
      "source": [
        "# Palabras que MÁS se relacionan con...:\n",
        "w2v_model_arte.wv.most_similar(positive=[\"tropas\"], topn=10)"
      ]
    },
    {
      "cell_type": "code",
      "execution_count": 88,
      "metadata": {
        "colab": {
          "base_uri": "https://localhost:8080/"
        },
        "outputId": "9cc9bb02-2a20-408c-922a-f0e5dc49b875",
        "id": "Ov4uPv30skZp"
      },
      "outputs": [
        {
          "output_type": "execute_result",
          "data": {
            "text/plain": [
              "[('capítulo', 0.12329413741827011),\n",
              " ('forma', -0.15639089047908783),\n",
              " ('lo', -0.17459265887737274),\n",
              " ('su', -0.2034849226474762),\n",
              " ('tener', -0.20832592248916626),\n",
              " ('victoria', -0.20964090526103973),\n",
              " ('puede', -0.21548429131507874),\n",
              " ('donde', -0.21677356958389282),\n",
              " ('les', -0.22275231778621674),\n",
              " ('ver', -0.2258344441652298)]"
            ]
          },
          "metadata": {},
          "execution_count": 88
        }
      ],
      "source": [
        "# Palabras que MENOS se relacionan con...:\n",
        "w2v_model_arte.wv.most_similar(negative=[\"tropas\"], topn=10)"
      ]
    },
    {
      "cell_type": "markdown",
      "source": [
        "#### Comentario sobre la palabra \"Tropas\":\n",
        "\n",
        "**Similares**\n",
        "- Se puede observar como la mayoría de las palabras ``[movimiento, condiciones, formaciones, oficiales, fuerzas]`` se relacionan fácilmente con la palabra \"tropas\".\n",
        "- Las demás palabras ``[fuerzas, puntos, momento]``, también pueden relacionarse con las tropas de un ejército.\n",
        "\n",
        "\n",
        "**Diferentes**\n",
        "- Un poco sorprendente es que la \"Victoria\" no se relacione a las \"Tropas\"; pero seguramente en el libro se habla más de las tácticas y estrategias, y no de las fuerzas militares.\n",
        "- Las demás palabras son términos genéricos y conectores que no tienen mucha relación directa."
      ],
      "metadata": {
        "id": "oxyfSlle1Rp9"
      }
    },
    {
      "cell_type": "code",
      "execution_count": 89,
      "metadata": {
        "id": "SKcGmj9LskZq"
      },
      "outputs": [],
      "source": [
        "# Ensayar con una palabra que no está en el vocabulario:\n",
        "#w2v_model_arte.wv.most_similar(negative=[\"felicidad\"])"
      ]
    },
    {
      "cell_type": "markdown",
      "source": [
        "Era de esperarse que en un libro sobre estrategia militar, no exista la \"Felicidad\"."
      ],
      "metadata": {
        "id": "AsSCYecJ3Erp"
      }
    },
    {
      "cell_type": "code",
      "execution_count": 90,
      "metadata": {
        "colab": {
          "base_uri": "https://localhost:8080/"
        },
        "outputId": "cfa772ee-2fc3-45ce-c8be-f36398c32018",
        "id": "589mQSXmskZr"
      },
      "outputs": [
        {
          "output_type": "stream",
          "name": "stdout",
          "text": [
            "[-2.78422982e-01 -8.27897266e-02  2.89034367e-01  2.99643636e-01\n",
            "  8.92967731e-02 -3.21056068e-01  6.41099811e-02  7.05078021e-02\n",
            "  6.72486499e-02  4.24132161e-02 -2.11276010e-01  1.02760389e-01\n",
            " -2.52803385e-01 -8.10533091e-02  7.26966634e-02 -3.01500767e-01\n",
            " -1.48266613e-01  1.07538439e-01  3.14181536e-01 -8.15544054e-02\n",
            "  1.69714257e-01 -2.33265460e-01  1.70229271e-01 -9.03468728e-02\n",
            "  1.68228541e-02  2.05941945e-01 -5.82855493e-02  2.12434530e-01\n",
            " -1.33478969e-01 -1.88742764e-02  2.68783011e-02 -3.35487157e-01\n",
            "  1.16752334e-01 -2.11918540e-02  3.34578305e-02 -6.05009124e-02\n",
            "  7.76425470e-03 -1.66317016e-01 -1.15969986e-01 -1.14088096e-01\n",
            " -1.73115581e-01 -1.79555994e-02 -2.87927777e-01 -2.64189877e-02\n",
            "  2.05164105e-01 -6.94884546e-03 -4.36728671e-02  5.94750196e-02\n",
            "  2.32194841e-01 -4.85189520e-02  1.90042391e-01 -2.56345719e-01\n",
            " -4.42003608e-01 -1.09145753e-01  3.95414867e-02  1.76965564e-01\n",
            "  7.91345909e-03 -1.72833502e-01 -1.16727732e-01 -5.82075752e-02\n",
            "  1.08514771e-01 -7.30529986e-03  4.96126413e-02 -9.87904221e-02\n",
            " -3.33784580e-01  5.75539246e-02 -6.19538501e-02  1.76827423e-02\n",
            " -3.73808891e-02  3.46058279e-01 -4.05153669e-02  1.79135293e-01\n",
            "  7.00066537e-02 -2.19741613e-01  6.10919148e-02 -6.22178353e-02\n",
            " -1.09212779e-01 -4.84206937e-02  5.18605718e-03 -9.25798565e-02\n",
            "  3.14632326e-01 -6.43937755e-03  1.87077194e-01  3.49744827e-01\n",
            "  1.66226968e-01  5.18892035e-02 -2.24188566e-01  8.86224136e-02\n",
            " -3.21290135e-01  7.64578208e-02  1.94354013e-01  1.72198102e-01\n",
            " -2.05239234e-03 -2.83035468e-02  1.56391487e-01  1.34617671e-01\n",
            " -1.87836602e-01  9.35527384e-02  5.07828407e-02  5.28586656e-02\n",
            " -1.92149207e-01 -7.47729391e-02  6.00742064e-02 -2.09297091e-01\n",
            " -7.63184652e-02 -1.59836859e-01 -1.11569695e-01  2.08330005e-01\n",
            "  1.53065175e-02  1.80581704e-01  3.90020050e-02  5.42530082e-02\n",
            " -1.44320995e-01 -1.13882542e-01  2.28327528e-01 -5.26808277e-02\n",
            "  5.71521232e-03 -7.29458556e-02  3.08653653e-01  1.16214395e-01\n",
            "  1.04824051e-01  3.23677845e-02 -2.91656498e-02  1.58171467e-02\n",
            " -3.57473567e-02  4.21578847e-02  4.60219942e-02 -1.08542824e-02\n",
            " -1.25513747e-01  9.11557302e-02  7.42055178e-02  3.08670830e-02\n",
            "  9.14613530e-02  1.00605667e-01  2.23278012e-02 -2.67567951e-03\n",
            " -1.64409041e-01  1.29643101e-02 -3.52290436e-03 -8.21100920e-02\n",
            "  1.78729668e-01 -2.22482696e-01 -3.94291669e-01  9.81046702e-04\n",
            "  1.55296549e-02  1.86121929e-02  9.31322649e-02  6.14569476e-03\n",
            " -5.25009185e-02 -6.69143051e-02 -8.69643018e-02 -2.15004325e-01\n",
            "  9.27824005e-02 -2.77961306e-02 -1.26961067e-01  6.79163635e-02\n",
            " -3.01969618e-01 -7.37004280e-02 -2.36161143e-01  1.24170996e-01\n",
            " -6.29347786e-02  2.73875836e-02  7.01689050e-02 -2.08908990e-01\n",
            "  2.35728547e-01  1.55924885e-02  1.40180722e-01 -1.23789422e-02\n",
            " -1.18204355e-01 -6.67421222e-02 -3.00022423e-01  2.11812064e-01\n",
            " -2.79990900e-02 -9.44704637e-02 -1.11291081e-01  1.68227613e-01\n",
            " -1.19243287e-01  1.48391381e-01 -1.76220775e-01 -1.17648214e-01\n",
            " -1.41982362e-01 -1.34261325e-01 -9.33597982e-02  2.16429800e-01\n",
            "  5.57409041e-02  5.66444639e-03 -4.90254685e-02  2.16152102e-01\n",
            "  6.40434101e-02 -2.11288989e-01  2.05542818e-01 -9.06704366e-02\n",
            " -3.18425328e-01 -2.21758947e-01  7.62080848e-02  2.53286779e-01\n",
            "  8.81857574e-02 -7.01044276e-02  1.40486345e-01 -2.63255924e-01\n",
            "  1.56183988e-01 -5.50495498e-02 -7.69596398e-02 -6.56458782e-03\n",
            "  9.80170518e-02 -8.44246820e-02  2.45600331e-05 -4.55346294e-02\n",
            " -1.77744702e-01  4.01775688e-02 -1.73628747e-01 -5.27143739e-02\n",
            "  8.79520550e-02  2.12990791e-01  9.36817378e-03  5.89945763e-02\n",
            "  2.58350939e-01  7.28286654e-02 -2.14428827e-01 -7.10019693e-02\n",
            " -1.25895619e-01 -2.08591536e-01  1.14567667e-01 -1.23840839e-01\n",
            "  1.61157534e-01 -3.41126263e-01 -1.47171905e-02 -6.22274168e-02\n",
            " -5.72932251e-02  2.46426180e-01  2.17528984e-01 -1.94412973e-02\n",
            " -1.68346077e-01  1.85036719e-01 -1.09032251e-01 -1.23671860e-01\n",
            "  2.59690154e-02 -2.00070329e-02  5.10967821e-02 -2.28211895e-01\n",
            " -2.36448720e-02  6.78485557e-02  2.29403004e-01  1.32479385e-01\n",
            "  2.00317219e-01  4.96755280e-02 -8.50067362e-02 -1.31015018e-01\n",
            " -8.14008936e-02  1.89710467e-03  7.44284689e-02 -4.35732901e-02\n",
            " -8.89534131e-02  2.33935639e-01 -6.99440017e-04  4.04263213e-02\n",
            "  1.06397197e-01  2.97834367e-01 -1.53600618e-01 -1.00668579e-01\n",
            "  1.97321951e-01  6.90823793e-02  2.18743477e-02 -2.14375094e-01\n",
            "  1.34958297e-01 -6.61288202e-02  2.47019008e-01 -1.31885797e-01\n",
            " -1.57092270e-02 -1.48226082e-01  1.28729209e-01 -1.17088847e-01\n",
            "  2.24319607e-01  7.58718252e-02  7.26987273e-02 -4.42112684e-02\n",
            "  1.40139043e-01  8.24041590e-02  6.22028150e-02 -3.87180448e-02\n",
            "  1.37023926e-01  9.98407304e-02  1.06033804e-02 -6.47045150e-02\n",
            " -2.16941349e-02 -2.47016668e-01 -1.38551205e-01  1.13273457e-01\n",
            " -8.88137054e-03 -1.52834624e-01  2.16992766e-01  1.20847516e-01\n",
            "  9.57388058e-03  1.25910103e-01 -1.29691064e-01  1.16873138e-01\n",
            "  1.53586715e-01  8.62696394e-02  5.78250550e-03 -1.11582063e-01\n",
            " -6.85865656e-02  1.11815073e-01  1.15563728e-01 -1.24934642e-02\n",
            "  2.38194242e-01 -1.29468814e-01  1.74305394e-01  2.15651482e-01\n",
            "  1.43658310e-01 -4.41096127e-02 -1.50952220e-01  1.02098435e-02\n",
            " -1.21066846e-01 -2.03316197e-01 -3.49605717e-02 -4.10261191e-02\n",
            "  3.24726813e-02 -5.90055063e-02 -6.45423606e-02 -2.04761978e-02\n",
            "  6.43460602e-02  4.34977561e-01  7.44090155e-02  5.17354943e-02\n",
            " -8.47123712e-02 -2.25890160e-01 -2.44921714e-01  3.15930950e-03\n",
            " -7.78121427e-02 -1.46117911e-01 -1.68346539e-01 -1.20899141e-01\n",
            "  1.62156537e-01  1.57075405e-01 -6.92206770e-02  2.86864251e-01\n",
            " -9.06732008e-02 -2.09818810e-01 -5.88835292e-02 -3.87467258e-02\n",
            "  3.24285701e-02  6.72748014e-02  1.75878286e-01 -8.12021196e-02\n",
            "  2.02769134e-03  1.51358888e-01 -1.37234747e-01 -1.88589722e-01\n",
            " -2.77961195e-01 -1.03589403e-03 -1.59659963e-02 -3.12031955e-01\n",
            " -2.41425589e-01 -3.58626321e-02 -1.56581059e-01  3.28401357e-01\n",
            "  1.94036826e-01 -2.14364171e-01 -5.84741458e-02  1.16736591e-01\n",
            " -1.05321661e-01  1.33916974e-01  6.69553578e-02  2.17141271e-01\n",
            " -1.69776455e-01  3.61274451e-01 -4.58952129e-01  1.31525695e-01\n",
            " -1.92371041e-01 -2.87465185e-01 -1.16443150e-01  1.76928714e-02\n",
            "  5.84243350e-02 -1.70862243e-01 -1.65460408e-01 -1.58693567e-02\n",
            " -5.06078824e-04 -7.11352825e-02 -1.41555062e-02 -5.41173220e-02\n",
            " -4.20419350e-02  3.65549140e-02 -2.15977177e-01  9.16276127e-02\n",
            "  3.27017188e-01  1.82409644e-01  1.78876117e-01  2.26007685e-01\n",
            "  3.72510143e-02 -2.34136879e-01  1.22177981e-01  1.26826972e-01\n",
            " -1.51610170e-02  2.35451952e-01  2.07239464e-01  2.64348060e-01\n",
            "  8.23492408e-02  7.02800378e-02  8.48575681e-02 -4.03513573e-02]\n"
          ]
        }
      ],
      "source": [
        "# el método `get_vector` permite obtener los vectores:\n",
        "vector_general = w2v_model_arte.wv.get_vector(\"general\")\n",
        "print(vector_general)"
      ]
    },
    {
      "cell_type": "code",
      "execution_count": 91,
      "metadata": {
        "colab": {
          "base_uri": "https://localhost:8080/"
        },
        "outputId": "a1590db8-7578-4969-d085-278fd498f7e0",
        "id": "eKQoi9aGskZr"
      },
      "outputs": [
        {
          "output_type": "execute_result",
          "data": {
            "text/plain": [
              "[('general', 1.0),\n",
              " ('regla', 0.822921633720398),\n",
              " ('esencial', 0.7822731733322144),\n",
              " ('armada', 0.7409866452217102),\n",
              " ('gobernante', 0.719624936580658),\n",
              " ('asunto', 0.7030818462371826),\n",
              " ('dirigir', 0.6976878643035889),\n",
              " ('causa', 0.6960670351982117),\n",
              " ('militares', 0.6925972104072571),\n",
              " ('bajo', 0.6774701476097107)]"
            ]
          },
          "metadata": {},
          "execution_count": 91
        }
      ],
      "source": [
        "# el método `most_similar` también permite comparar a partir de vectores\n",
        "w2v_model_arte.wv.most_similar(vector_general)"
      ]
    },
    {
      "cell_type": "code",
      "execution_count": 92,
      "metadata": {
        "colab": {
          "base_uri": "https://localhost:8080/"
        },
        "outputId": "50a9cb63-16bd-46d5-d158-2c85f423bf6d",
        "id": "jf1IQfWGskZr"
      },
      "outputs": [
        {
          "output_type": "execute_result",
          "data": {
            "text/plain": [
              "[('regla', 0.822921633720398),\n",
              " ('esencial', 0.7822731733322144),\n",
              " ('armada', 0.7409866452217102),\n",
              " ('gobernante', 0.719624936580658),\n",
              " ('asunto', 0.7030818462371826),\n",
              " ('dirigir', 0.6976878643035889),\n",
              " ('causa', 0.6960670351982117),\n",
              " ('militares', 0.6925972104072571),\n",
              " ('bajo', 0.6774702072143555),\n",
              " ('operaciones', 0.6710516810417175)]"
            ]
          },
          "metadata": {},
          "execution_count": 92
        }
      ],
      "source": [
        "# Palabras que MÁS se relacionan con...:\n",
        "w2v_model_arte.wv.most_similar(positive=[\"general\"], topn=10)"
      ]
    },
    {
      "cell_type": "markdown",
      "source": [
        "Los términos describen fácilmente lo que significa un \"General\". Además, ambos métodos arrojaron los mismos resultados en términos y los valores de similitud son técnicamente iguales."
      ],
      "metadata": {
        "id": "thyx0QKq3Oza"
      }
    },
    {
      "cell_type": "markdown",
      "metadata": {
        "id": "Cv5p4kC9skZr"
      },
      "source": [
        "### 5 - Visualizar agrupación de vectores"
      ]
    },
    {
      "cell_type": "code",
      "execution_count": 93,
      "metadata": {
        "id": "fTwIuNtDskZs"
      },
      "outputs": [],
      "source": [
        "from sklearn.decomposition import IncrementalPCA\n",
        "from sklearn.manifold import TSNE\n",
        "import numpy as np\n",
        "\n",
        "def reduce_dimensions(model, num_dimensions = 2 ):\n",
        "\n",
        "    vectors = np.asarray(model.wv.vectors)\n",
        "    labels = np.asarray(model.wv.index_to_key)\n",
        "\n",
        "    tsne = TSNE(n_components=num_dimensions, random_state=0)\n",
        "    vectors = tsne.fit_transform(vectors)\n",
        "\n",
        "    return vectors, labels"
      ]
    },
    {
      "cell_type": "code",
      "execution_count": 94,
      "metadata": {
        "colab": {
          "base_uri": "https://localhost:8080/",
          "height": 562
        },
        "id": "1aXKkBpZskZs",
        "outputId": "da7f11f2-26d7-4b4c-c0dd-7f9963a3052b"
      },
      "outputs": [
        {
          "output_type": "display_data",
          "data": {
            "text/html": [
              "<html>\n",
              "<head><meta charset=\"utf-8\" /></head>\n",
              "<body>\n",
              "    <div>            <script src=\"https://cdnjs.cloudflare.com/ajax/libs/mathjax/2.7.5/MathJax.js?config=TeX-AMS-MML_SVG\"></script><script type=\"text/javascript\">if (window.MathJax && window.MathJax.Hub && window.MathJax.Hub.Config) {window.MathJax.Hub.Config({SVG: {font: \"STIX-Web\"}});}</script>                <script type=\"text/javascript\">window.PlotlyConfig = {MathJaxConfig: 'local'};</script>\n",
              "        <script charset=\"utf-8\" src=\"https://cdn.plot.ly/plotly-2.35.2.min.js\"></script>                <div id=\"4a1e620b-b362-4319-a598-ead1a959bc75\" class=\"plotly-graph-div\" style=\"height:525px; width:100%;\"></div>            <script type=\"text/javascript\">                                    window.PLOTLYENV=window.PLOTLYENV || {};                                    if (document.getElementById(\"4a1e620b-b362-4319-a598-ead1a959bc75\")) {                    Plotly.newPlot(                        \"4a1e620b-b362-4319-a598-ead1a959bc75\",                        [{\"hovertemplate\":\"x=%{x}\\u003cbr\\u003ey=%{y}\\u003cbr\\u003etext=%{text}\\u003cextra\\u003e\\u003c\\u002fextra\\u003e\",\"legendgroup\":\"\",\"marker\":{\"color\":\"#636efa\",\"symbol\":\"circle\"},\"mode\":\"markers+text\",\"name\":\"\",\"orientation\":\"v\",\"showlegend\":false,\"text\":[\"de\",\"la\",\"que\",\"y\",\"el\",\"los\",\"en\",\"a\",\"no\",\"se\",\"es\",\"las\",\"un\",\"si\",\"para\",\"cuando\",\"una\",\"por\",\"lo\",\"del\",\"enemigo\",\"sus\",\"terreno\",\"son\",\"al\",\"con\",\"su\",\"como\",\"tropas\",\"soldados\",\"tus\",\"ser\",\"puede\",\"ej\\u00e9rcito\",\"est\\u00e1n\",\"victoria\",\"sin\",\"as\\u00ed\",\"tu\",\"est\\u00e1\",\"esto\",\"fuerza\",\"batalla\",\"pero\",\"adversarios\",\"manera\",\"puedes\",\"m\\u00e1s\",\"o\",\"te\",\"pueden\",\"general\",\"ni\",\"sobre\",\"fuerzas\",\"hacer\",\"militares\",\"pues\",\"enemigos\",\"significa\",\"lugar\",\"tanto\",\"adversario\",\"s\\u00f3lo\",\"atacar\",\"ti\",\"ellos\",\"territorio\",\"entre\",\"debe\",\"militar\",\"tienen\",\"todo\",\"esp\\u00edas\",\"le\",\"sea\",\"antes\",\"planes\",\"ataque\",\"generales\",\"tiene\",\"primero\",\"contra\",\"donde\",\"\\u00e9l\",\"forma\",\"mismo\",\"hay\",\"esta\",\"llama\",\"fuego\",\"guerra\",\"despu\\u00e9s\",\"tiempo\",\"este\",\"obtener\",\"estrategia\",\"orden\",\"conocer\",\"mediante\",\"entonces\",\"poder\",\"les\",\"gobierno\",\"\\u00f3rdenes\",\"ha\",\"bien\",\"hasta\",\"ej\\u00e9rcitos\",\"mando\",\"\\u00edmpetu\",\"pueblo\",\"han\",\"tener\",\"porque\",\"agua\",\"aunque\",\"defensa\",\"ventaja\",\"terrenos\",\"ganar\",\"conoces\",\"situaci\\u00f3n\",\"mucho\",\"est\\u00e1s\",\"deben\",\"mientras\",\"lucha\",\"combatir\",\"otros\",\"dem\\u00e1s\",\"cap\\u00edtulo\",\"dice\",\"peligro\",\"hacia\",\"hace\",\"recompensas\",\"\\u00e9ste\",\"mundo\",\"luchar\",\"gran\",\"posici\\u00f3n\",\"tienes\",\"operaciones\",\"debes\",\"dif\\u00edcil\",\"cada\",\"capaz\",\"siempre\",\"energ\\u00eda\",\"cinco\",\"pa\\u00eds\",\"combate\",\"quiere\",\"vencer\",\"eres\",\"camino\",\"consecuencia\",\"mejor\",\"expertos\",\"posible\",\"caso\",\"incluso\",\"existen\",\"haz\",\"cuesti\\u00f3n\",\"sino\",\"decir\",\"formaci\\u00f3n\",\"guerreros\",\"nadie\",\"suministros\",\"desde\",\"estos\",\"muerte\",\"estas\",\"todas\",\"uno\",\"ataca\",\"e\",\"sean\",\"s\\u00ed\",\"punto\",\"ning\\u00fan\",\"tan\",\"regla\",\"operaci\\u00f3n\",\"haya\",\"armas\",\"todos\",\"existe\",\"alimentos\",\"superiores\",\"acci\\u00f3n\",\"c\\u00f3mo\",\"derrotado\",\"clases\",\"arte\",\"cerca\",\"evitar\"],\"x\":[1.5346941947937012,-2.3813154697418213,6.611328601837158,4.639514446258545,7.5272674560546875,8.230103492736816,1.5030020475387573,4.271318435668945,-0.1947808563709259,9.358837127685547,-1.203465461730957,6.2157368659973145,1.3558636903762817,-6.158244609832764,4.280211925506592,-0.6206618547439575,-4.798882961273193,-3.235860824584961,4.626283168792725,-6.600832939147949,-5.626714706420898,12.62442398071289,4.063687324523926,3.5866992473602295,-0.5981209874153137,4.046321868896484,-2.4663963317871094,-4.392114162445068,12.689767837524414,10.739753723144531,-11.040485382080078,1.7646700143814087,-13.1146821975708,0.4114017188549042,9.377678871154785,0.13568145036697388,-2.637842893600464,11.680270195007324,-11.350464820861816,-9.97195816040039,9.632118225097656,-6.06711483001709,-7.1556596755981445,0.5633535981178284,-11.49987506866455,-2.8556337356567383,-7.128525257110596,-0.953426718711853,-4.568721771240234,-7.5723748207092285,5.465272903442383,1.7939465045928955,-1.5473361015319824,-0.5762860178947449,-9.90765380859375,-4.420566082000732,7.079741477966309,3.2540698051452637,10.846198081970215,5.940231800079346,-3.221977949142456,9.173555374145508,-8.509684562683105,-10.108805656433105,-4.311593532562256,-4.951297283172607,-2.4259283542633057,-9.715188980102539,8.128902435302734,3.9811880588531494,0.9958778619766235,12.743489265441895,9.887419700622559,6.917781352996826,12.951655387878418,0.37199801206588745,-4.794038772583008,10.643486022949219,-6.579131126403809,8.76795768737793,-2.8275487422943115,-9.46274185180664,-4.987765312194824,1.337393879890442,-6.285600662231445,2.6846442222595215,-6.4665207862854,0.49145445227622986,3.4011006355285645,11.219961166381836,-3.013763427734375,1.2820981740951538,-2.9510204792022705,11.740220069885254,-3.7823383808135986,-13.44132137298584,-13.879443168640137,-8.356377601623535,1.3601762056350708,0.3760184049606323,-10.406655311584473,-2.405092477798462,-0.1329740434885025,0.5210845470428467,2.433300256729126,6.650867462158203,5.244398593902588,-4.273632049560547,7.577066421508789,5.843829154968262,-8.651780128479004,-1.630260705947876,6.576718330383301,3.613145112991333,-6.842289924621582,-4.897512435913086,-12.25088119506836,-2.6369595527648926,-12.16351318359375,9.296666145324707,-6.970632076263428,-6.464780807495117,-5.372607231140137,2.2585971355438232,-7.779761791229248,5.14265775680542,-10.165934562683105,-1.4162534475326538,-8.097994804382324,8.935731887817383,-6.3681230545043945,2.701272487640381,8.200803756713867,-6.488620758056641,1.6021127700805664,6.526647090911865,-0.39502397179603577,11.82832145690918,9.280259132385254,-3.1761486530303955,-0.4411362111568451,2.177438735961914,-9.914017677307129,6.990802764892578,-7.412487030029297,-4.198253631591797,-0.8166548013687134,-3.0378825664520264,-5.890602111816406,-3.5690298080444336,5.1539764404296875,-0.6873130202293396,-2.9750399589538574,9.860085487365723,-5.755441188812256,-6.042049884796143,-0.6061536073684692,2.481917142868042,-4.728349208831787,8.706188201904297,-5.904332160949707,-3.8095061779022217,-7.874904632568359,6.10068416595459,-9.556138038635254,-5.644637107849121,5.132556915283203,9.891186714172363,-9.164936065673828,8.713001251220703,-2.203357219696045,5.613919258117676,-2.8051211833953857,4.21624231338501,-3.6976213455200195,4.724299907684326,6.33906888961792,-4.572708606719971,12.226510047912598,-4.313286304473877,-12.417014122009277,8.176338195800781,6.516103267669678,0.8618339896202087,-6.848987579345703,1.8127210140228271,0.5285280346870422,0.6628953814506531,5.699688911437988,6.437559604644775,0.4543415307998657,-0.38663578033447266,11.281397819519043,-1.9013758897781372,4.275426387786865,-1.1517574787139893,5.2714524269104,0.4399826228618622,-9.616616249084473,-3.7613284587860107],\"xaxis\":\"x\",\"y\":[-10.554644584655762,-7.7067646980285645,10.01900863647461,2.1307010650634766,-4.184021949768066,3.3566293716430664,-14.806077003479004,4.725170135498047,2.297361135482788,0.34220683574676514,-8.245894432067871,-8.391281127929688,-12.309455871582031,5.9700703620910645,0.9449352622032166,3.1860835552215576,-6.329503059387207,-5.217642784118652,-5.207509517669678,-11.759035110473633,2.6381497383117676,4.58491849899292,-2.1352553367614746,-9.670044898986816,11.977814674377441,5.39817476272583,-10.21844482421875,-10.738327980041504,2.658463954925537,2.2518129348754883,0.5077032446861267,3.580808639526367,2.0959312915802,-1.9216904640197754,2.0691707134246826,-7.110151767730713,6.261902809143066,-7.4482550621032715,4.417642593383789,-9.166078567504883,-1.0434166193008423,-8.018936157226562,-6.542819499969482,11.037139892578125,8.541386604309082,1.2910566329956055,-0.1091356948018074,-14.324066162109375,-5.20457649230957,9.089407920837402,8.503334045410156,-6.508481979370117,7.07474946975708,-12.193525314331055,2.2185425758361816,0.26678335666656494,-9.554905891418457,-4.312379360198975,6.456062316894531,-0.6969324946403503,11.601096153259277,-8.59309196472168,3.7809300422668457,-4.697695732116699,-3.7764008045196533,9.805848121643066,2.840500593185425,4.786152362823486,1.78262460231781,10.66563892364502,-4.062114238739014,6.22597074508667,-4.812746524810791,2.67643404006958,-3.0593700408935547,-0.032841894775629044,-9.869241714477539,3.6021547317504883,-9.897522926330566,6.4169392585754395,-3.024585247039795,9.86208438873291,6.892265796661377,8.748908042907715,4.151848793029785,7.6093668937683105,8.432923316955566,5.373420238494873,8.789830207824707,-4.3167009353637695,-12.10236644744873,-9.249011039733887,10.780961036682129,0.18684664368629456,1.9909610748291016,-5.362609386444092,3.956056594848633,-4.252814769744873,-5.307389259338379,-9.021979331970215,-2.092669725418091,0.20161744952201843,7.785614490509033,-2.7664456367492676,5.57429838180542,-2.699206590652466,6.427347183227539,3.282026767730713,6.62040376663208,-2.8397676944732666,-3.4229743480682373,-4.747239589691162,7.684426784515381,6.615642070770264,-4.313475131988525,8.145696640014648,-1.9693984985351562,-9.524918556213379,-3.6786463260650635,9.602522850036621,-2.003649950027466,10.463932991027832,-3.6819956302642822,-2.6458592414855957,6.2324090003967285,7.495573043823242,6.436770915985107,-3.640903949737549,-1.6544647216796875,8.915681838989258,10.4633207321167,12.337453842163086,-2.7602570056915283,10.09257698059082,9.389678955078125,-1.5240408182144165,1.647724986076355,-3.2638325691223145,-5.722803592681885,5.4981842041015625,-2.9125113487243652,-0.5943421721458435,-2.200639247894287,-10.720190048217773,4.933402061462402,-1.8146355152130127,6.057992458343506,-1.0832772254943848,-2.6819417476654053,-7.515557765960693,-12.371943473815918,-0.3995436131954193,4.767863750457764,-2.200983762741089,1.3800908327102661,-1.0709178447723389,-10.566152572631836,-5.369814872741699,-7.481338977813721,5.215147972106934,-5.305497646331787,2.353715181350708,2.381154775619507,-12.479944229125977,8.031595230102539,-7.776691436767578,0.20677195489406586,-2.1085774898529053,6.78251838684082,4.366905689239502,2.3581247329711914,-6.824977874755859,9.664582252502441,-13.526269912719727,3.402867317199707,-11.189269065856934,12.511758804321289,5.198245525360107,-2.884108543395996,6.373134136199951,0.0472002774477005,0.9351183176040649,-5.359861373901367,7.084782600402832,-0.5654706954956055,-6.593046188354492,-4.4426960945129395,7.859655380249023,-9.789843559265137,4.820027828216553,5.086700916290283,10.623673439025879,6.0056538581848145,-9.127800941467285,4.575444221496582,-1.896096110343933,-12.30119800567627,-8.706095695495605,-8.99029541015625,6.045853614807129],\"yaxis\":\"y\",\"type\":\"scatter\"}],                        {\"template\":{\"data\":{\"histogram2dcontour\":[{\"type\":\"histogram2dcontour\",\"colorbar\":{\"outlinewidth\":0,\"ticks\":\"\"},\"colorscale\":[[0.0,\"#0d0887\"],[0.1111111111111111,\"#46039f\"],[0.2222222222222222,\"#7201a8\"],[0.3333333333333333,\"#9c179e\"],[0.4444444444444444,\"#bd3786\"],[0.5555555555555556,\"#d8576b\"],[0.6666666666666666,\"#ed7953\"],[0.7777777777777778,\"#fb9f3a\"],[0.8888888888888888,\"#fdca26\"],[1.0,\"#f0f921\"]]}],\"choropleth\":[{\"type\":\"choropleth\",\"colorbar\":{\"outlinewidth\":0,\"ticks\":\"\"}}],\"histogram2d\":[{\"type\":\"histogram2d\",\"colorbar\":{\"outlinewidth\":0,\"ticks\":\"\"},\"colorscale\":[[0.0,\"#0d0887\"],[0.1111111111111111,\"#46039f\"],[0.2222222222222222,\"#7201a8\"],[0.3333333333333333,\"#9c179e\"],[0.4444444444444444,\"#bd3786\"],[0.5555555555555556,\"#d8576b\"],[0.6666666666666666,\"#ed7953\"],[0.7777777777777778,\"#fb9f3a\"],[0.8888888888888888,\"#fdca26\"],[1.0,\"#f0f921\"]]}],\"heatmap\":[{\"type\":\"heatmap\",\"colorbar\":{\"outlinewidth\":0,\"ticks\":\"\"},\"colorscale\":[[0.0,\"#0d0887\"],[0.1111111111111111,\"#46039f\"],[0.2222222222222222,\"#7201a8\"],[0.3333333333333333,\"#9c179e\"],[0.4444444444444444,\"#bd3786\"],[0.5555555555555556,\"#d8576b\"],[0.6666666666666666,\"#ed7953\"],[0.7777777777777778,\"#fb9f3a\"],[0.8888888888888888,\"#fdca26\"],[1.0,\"#f0f921\"]]}],\"heatmapgl\":[{\"type\":\"heatmapgl\",\"colorbar\":{\"outlinewidth\":0,\"ticks\":\"\"},\"colorscale\":[[0.0,\"#0d0887\"],[0.1111111111111111,\"#46039f\"],[0.2222222222222222,\"#7201a8\"],[0.3333333333333333,\"#9c179e\"],[0.4444444444444444,\"#bd3786\"],[0.5555555555555556,\"#d8576b\"],[0.6666666666666666,\"#ed7953\"],[0.7777777777777778,\"#fb9f3a\"],[0.8888888888888888,\"#fdca26\"],[1.0,\"#f0f921\"]]}],\"contourcarpet\":[{\"type\":\"contourcarpet\",\"colorbar\":{\"outlinewidth\":0,\"ticks\":\"\"}}],\"contour\":[{\"type\":\"contour\",\"colorbar\":{\"outlinewidth\":0,\"ticks\":\"\"},\"colorscale\":[[0.0,\"#0d0887\"],[0.1111111111111111,\"#46039f\"],[0.2222222222222222,\"#7201a8\"],[0.3333333333333333,\"#9c179e\"],[0.4444444444444444,\"#bd3786\"],[0.5555555555555556,\"#d8576b\"],[0.6666666666666666,\"#ed7953\"],[0.7777777777777778,\"#fb9f3a\"],[0.8888888888888888,\"#fdca26\"],[1.0,\"#f0f921\"]]}],\"surface\":[{\"type\":\"surface\",\"colorbar\":{\"outlinewidth\":0,\"ticks\":\"\"},\"colorscale\":[[0.0,\"#0d0887\"],[0.1111111111111111,\"#46039f\"],[0.2222222222222222,\"#7201a8\"],[0.3333333333333333,\"#9c179e\"],[0.4444444444444444,\"#bd3786\"],[0.5555555555555556,\"#d8576b\"],[0.6666666666666666,\"#ed7953\"],[0.7777777777777778,\"#fb9f3a\"],[0.8888888888888888,\"#fdca26\"],[1.0,\"#f0f921\"]]}],\"mesh3d\":[{\"type\":\"mesh3d\",\"colorbar\":{\"outlinewidth\":0,\"ticks\":\"\"}}],\"scatter\":[{\"fillpattern\":{\"fillmode\":\"overlay\",\"size\":10,\"solidity\":0.2},\"type\":\"scatter\"}],\"parcoords\":[{\"type\":\"parcoords\",\"line\":{\"colorbar\":{\"outlinewidth\":0,\"ticks\":\"\"}}}],\"scatterpolargl\":[{\"type\":\"scatterpolargl\",\"marker\":{\"colorbar\":{\"outlinewidth\":0,\"ticks\":\"\"}}}],\"bar\":[{\"error_x\":{\"color\":\"#2a3f5f\"},\"error_y\":{\"color\":\"#2a3f5f\"},\"marker\":{\"line\":{\"color\":\"#E5ECF6\",\"width\":0.5},\"pattern\":{\"fillmode\":\"overlay\",\"size\":10,\"solidity\":0.2}},\"type\":\"bar\"}],\"scattergeo\":[{\"type\":\"scattergeo\",\"marker\":{\"colorbar\":{\"outlinewidth\":0,\"ticks\":\"\"}}}],\"scatterpolar\":[{\"type\":\"scatterpolar\",\"marker\":{\"colorbar\":{\"outlinewidth\":0,\"ticks\":\"\"}}}],\"histogram\":[{\"marker\":{\"pattern\":{\"fillmode\":\"overlay\",\"size\":10,\"solidity\":0.2}},\"type\":\"histogram\"}],\"scattergl\":[{\"type\":\"scattergl\",\"marker\":{\"colorbar\":{\"outlinewidth\":0,\"ticks\":\"\"}}}],\"scatter3d\":[{\"type\":\"scatter3d\",\"line\":{\"colorbar\":{\"outlinewidth\":0,\"ticks\":\"\"}},\"marker\":{\"colorbar\":{\"outlinewidth\":0,\"ticks\":\"\"}}}],\"scattermapbox\":[{\"type\":\"scattermapbox\",\"marker\":{\"colorbar\":{\"outlinewidth\":0,\"ticks\":\"\"}}}],\"scatterternary\":[{\"type\":\"scatterternary\",\"marker\":{\"colorbar\":{\"outlinewidth\":0,\"ticks\":\"\"}}}],\"scattercarpet\":[{\"type\":\"scattercarpet\",\"marker\":{\"colorbar\":{\"outlinewidth\":0,\"ticks\":\"\"}}}],\"carpet\":[{\"aaxis\":{\"endlinecolor\":\"#2a3f5f\",\"gridcolor\":\"white\",\"linecolor\":\"white\",\"minorgridcolor\":\"white\",\"startlinecolor\":\"#2a3f5f\"},\"baxis\":{\"endlinecolor\":\"#2a3f5f\",\"gridcolor\":\"white\",\"linecolor\":\"white\",\"minorgridcolor\":\"white\",\"startlinecolor\":\"#2a3f5f\"},\"type\":\"carpet\"}],\"table\":[{\"cells\":{\"fill\":{\"color\":\"#EBF0F8\"},\"line\":{\"color\":\"white\"}},\"header\":{\"fill\":{\"color\":\"#C8D4E3\"},\"line\":{\"color\":\"white\"}},\"type\":\"table\"}],\"barpolar\":[{\"marker\":{\"line\":{\"color\":\"#E5ECF6\",\"width\":0.5},\"pattern\":{\"fillmode\":\"overlay\",\"size\":10,\"solidity\":0.2}},\"type\":\"barpolar\"}],\"pie\":[{\"automargin\":true,\"type\":\"pie\"}]},\"layout\":{\"autotypenumbers\":\"strict\",\"colorway\":[\"#636efa\",\"#EF553B\",\"#00cc96\",\"#ab63fa\",\"#FFA15A\",\"#19d3f3\",\"#FF6692\",\"#B6E880\",\"#FF97FF\",\"#FECB52\"],\"font\":{\"color\":\"#2a3f5f\"},\"hovermode\":\"closest\",\"hoverlabel\":{\"align\":\"left\"},\"paper_bgcolor\":\"white\",\"plot_bgcolor\":\"#E5ECF6\",\"polar\":{\"bgcolor\":\"#E5ECF6\",\"angularaxis\":{\"gridcolor\":\"white\",\"linecolor\":\"white\",\"ticks\":\"\"},\"radialaxis\":{\"gridcolor\":\"white\",\"linecolor\":\"white\",\"ticks\":\"\"}},\"ternary\":{\"bgcolor\":\"#E5ECF6\",\"aaxis\":{\"gridcolor\":\"white\",\"linecolor\":\"white\",\"ticks\":\"\"},\"baxis\":{\"gridcolor\":\"white\",\"linecolor\":\"white\",\"ticks\":\"\"},\"caxis\":{\"gridcolor\":\"white\",\"linecolor\":\"white\",\"ticks\":\"\"}},\"coloraxis\":{\"colorbar\":{\"outlinewidth\":0,\"ticks\":\"\"}},\"colorscale\":{\"sequential\":[[0.0,\"#0d0887\"],[0.1111111111111111,\"#46039f\"],[0.2222222222222222,\"#7201a8\"],[0.3333333333333333,\"#9c179e\"],[0.4444444444444444,\"#bd3786\"],[0.5555555555555556,\"#d8576b\"],[0.6666666666666666,\"#ed7953\"],[0.7777777777777778,\"#fb9f3a\"],[0.8888888888888888,\"#fdca26\"],[1.0,\"#f0f921\"]],\"sequentialminus\":[[0.0,\"#0d0887\"],[0.1111111111111111,\"#46039f\"],[0.2222222222222222,\"#7201a8\"],[0.3333333333333333,\"#9c179e\"],[0.4444444444444444,\"#bd3786\"],[0.5555555555555556,\"#d8576b\"],[0.6666666666666666,\"#ed7953\"],[0.7777777777777778,\"#fb9f3a\"],[0.8888888888888888,\"#fdca26\"],[1.0,\"#f0f921\"]],\"diverging\":[[0,\"#8e0152\"],[0.1,\"#c51b7d\"],[0.2,\"#de77ae\"],[0.3,\"#f1b6da\"],[0.4,\"#fde0ef\"],[0.5,\"#f7f7f7\"],[0.6,\"#e6f5d0\"],[0.7,\"#b8e186\"],[0.8,\"#7fbc41\"],[0.9,\"#4d9221\"],[1,\"#276419\"]]},\"xaxis\":{\"gridcolor\":\"white\",\"linecolor\":\"white\",\"ticks\":\"\",\"title\":{\"standoff\":15},\"zerolinecolor\":\"white\",\"automargin\":true,\"zerolinewidth\":2},\"yaxis\":{\"gridcolor\":\"white\",\"linecolor\":\"white\",\"ticks\":\"\",\"title\":{\"standoff\":15},\"zerolinecolor\":\"white\",\"automargin\":true,\"zerolinewidth\":2},\"scene\":{\"xaxis\":{\"backgroundcolor\":\"#E5ECF6\",\"gridcolor\":\"white\",\"linecolor\":\"white\",\"showbackground\":true,\"ticks\":\"\",\"zerolinecolor\":\"white\",\"gridwidth\":2},\"yaxis\":{\"backgroundcolor\":\"#E5ECF6\",\"gridcolor\":\"white\",\"linecolor\":\"white\",\"showbackground\":true,\"ticks\":\"\",\"zerolinecolor\":\"white\",\"gridwidth\":2},\"zaxis\":{\"backgroundcolor\":\"#E5ECF6\",\"gridcolor\":\"white\",\"linecolor\":\"white\",\"showbackground\":true,\"ticks\":\"\",\"zerolinecolor\":\"white\",\"gridwidth\":2}},\"shapedefaults\":{\"line\":{\"color\":\"#2a3f5f\"}},\"annotationdefaults\":{\"arrowcolor\":\"#2a3f5f\",\"arrowhead\":0,\"arrowwidth\":1},\"geo\":{\"bgcolor\":\"white\",\"landcolor\":\"#E5ECF6\",\"subunitcolor\":\"white\",\"showland\":true,\"showlakes\":true,\"lakecolor\":\"white\"},\"title\":{\"x\":0.05},\"mapbox\":{\"style\":\"light\"}}},\"xaxis\":{\"anchor\":\"y\",\"domain\":[0.0,1.0],\"title\":{\"text\":\"x\"}},\"yaxis\":{\"anchor\":\"x\",\"domain\":[0.0,1.0],\"title\":{\"text\":\"y\"}},\"legend\":{\"tracegroupgap\":0},\"margin\":{\"t\":60}},                        {\"responsive\": true}                    ).then(function(){\n",
              "                            \n",
              "var gd = document.getElementById('4a1e620b-b362-4319-a598-ead1a959bc75');\n",
              "var x = new MutationObserver(function (mutations, observer) {{\n",
              "        var display = window.getComputedStyle(gd).display;\n",
              "        if (!display || display === 'none') {{\n",
              "            console.log([gd, 'removed!']);\n",
              "            Plotly.purge(gd);\n",
              "            observer.disconnect();\n",
              "        }}\n",
              "}});\n",
              "\n",
              "// Listen for the removal of the full notebook cells\n",
              "var notebookContainer = gd.closest('#notebook-container');\n",
              "if (notebookContainer) {{\n",
              "    x.observe(notebookContainer, {childList: true});\n",
              "}}\n",
              "\n",
              "// Listen for the clearing of the current output cell\n",
              "var outputEl = gd.closest('.output');\n",
              "if (outputEl) {{\n",
              "    x.observe(outputEl, {childList: true});\n",
              "}}\n",
              "\n",
              "                        })                };                            </script>        </div>\n",
              "</body>\n",
              "</html>"
            ]
          },
          "metadata": {}
        }
      ],
      "source": [
        "# Graficar los embedddings en 2D\n",
        "import plotly.graph_objects as go\n",
        "import plotly.express as px\n",
        "\n",
        "vecs, labels = reduce_dimensions(w2v_model_arte)\n",
        "\n",
        "MAX_WORDS=200\n",
        "fig = px.scatter(x=vecs[:MAX_WORDS,0], y=vecs[:MAX_WORDS,1], text=labels[:MAX_WORDS])\n",
        "fig.show(renderer=\"colab\") # esto para plotly en colab"
      ]
    },
    {
      "cell_type": "markdown",
      "source": [
        "Se pueden ver grupos de palabras con mucho sentido como:\n",
        "\n",
        "- ``[generales, expertos, guerreros, ejércitos]``\n",
        "- ``[armas, militares, operaciones, suministros]``\n"
      ],
      "metadata": {
        "id": "JmQxWzGO34I9"
      }
    },
    {
      "cell_type": "code",
      "execution_count": 95,
      "metadata": {
        "colab": {
          "base_uri": "https://localhost:8080/",
          "height": 562
        },
        "id": "U3cfUAmgskZs",
        "outputId": "4aca027a-352e-466c-fcba-1fc4e92f71f6"
      },
      "outputs": [
        {
          "output_type": "display_data",
          "data": {
            "text/html": [
              "<html>\n",
              "<head><meta charset=\"utf-8\" /></head>\n",
              "<body>\n",
              "    <div>            <script src=\"https://cdnjs.cloudflare.com/ajax/libs/mathjax/2.7.5/MathJax.js?config=TeX-AMS-MML_SVG\"></script><script type=\"text/javascript\">if (window.MathJax && window.MathJax.Hub && window.MathJax.Hub.Config) {window.MathJax.Hub.Config({SVG: {font: \"STIX-Web\"}});}</script>                <script type=\"text/javascript\">window.PlotlyConfig = {MathJaxConfig: 'local'};</script>\n",
              "        <script charset=\"utf-8\" src=\"https://cdn.plot.ly/plotly-2.35.2.min.js\"></script>                <div id=\"8a7af81e-1d28-46fd-b9e3-aad2bb214b6e\" class=\"plotly-graph-div\" style=\"height:525px; width:100%;\"></div>            <script type=\"text/javascript\">                                    window.PLOTLYENV=window.PLOTLYENV || {};                                    if (document.getElementById(\"8a7af81e-1d28-46fd-b9e3-aad2bb214b6e\")) {                    Plotly.newPlot(                        \"8a7af81e-1d28-46fd-b9e3-aad2bb214b6e\",                        [{\"hovertemplate\":\"x=%{x}\\u003cbr\\u003ey=%{y}\\u003cbr\\u003ez=%{z}\\u003cbr\\u003etext=%{text}\\u003cextra\\u003e\\u003c\\u002fextra\\u003e\",\"legendgroup\":\"\",\"marker\":{\"color\":\"#636efa\",\"symbol\":\"circle\",\"size\":2},\"mode\":\"markers+text\",\"name\":\"\",\"scene\":\"scene\",\"showlegend\":false,\"text\":[\"de\",\"la\",\"que\",\"y\",\"el\",\"los\",\"en\",\"a\",\"no\",\"se\",\"es\",\"las\",\"un\",\"si\",\"para\",\"cuando\",\"una\",\"por\",\"lo\",\"del\",\"enemigo\",\"sus\",\"terreno\",\"son\",\"al\",\"con\",\"su\",\"como\",\"tropas\",\"soldados\",\"tus\",\"ser\",\"puede\",\"ej\\u00e9rcito\",\"est\\u00e1n\",\"victoria\",\"sin\",\"as\\u00ed\",\"tu\",\"est\\u00e1\",\"esto\",\"fuerza\",\"batalla\",\"pero\",\"adversarios\",\"manera\",\"puedes\",\"m\\u00e1s\",\"o\",\"te\",\"pueden\",\"general\",\"ni\",\"sobre\",\"fuerzas\",\"hacer\",\"militares\",\"pues\",\"enemigos\",\"significa\",\"lugar\",\"tanto\",\"adversario\",\"s\\u00f3lo\",\"atacar\",\"ti\",\"ellos\",\"territorio\",\"entre\",\"debe\",\"militar\",\"tienen\",\"todo\",\"esp\\u00edas\",\"le\",\"sea\",\"antes\",\"planes\",\"ataque\",\"generales\",\"tiene\",\"primero\",\"contra\",\"donde\",\"\\u00e9l\",\"forma\",\"mismo\",\"hay\",\"esta\",\"llama\",\"fuego\",\"guerra\",\"despu\\u00e9s\",\"tiempo\",\"este\",\"obtener\",\"estrategia\",\"orden\",\"conocer\",\"mediante\",\"entonces\",\"poder\",\"les\",\"gobierno\",\"\\u00f3rdenes\",\"ha\",\"bien\",\"hasta\",\"ej\\u00e9rcitos\",\"mando\",\"\\u00edmpetu\",\"pueblo\",\"han\",\"tener\",\"porque\",\"agua\",\"aunque\",\"defensa\",\"ventaja\",\"terrenos\",\"ganar\",\"conoces\",\"situaci\\u00f3n\",\"mucho\",\"est\\u00e1s\",\"deben\",\"mientras\",\"lucha\",\"combatir\",\"otros\",\"dem\\u00e1s\",\"cap\\u00edtulo\",\"dice\",\"peligro\",\"hacia\",\"hace\",\"recompensas\",\"\\u00e9ste\",\"mundo\",\"luchar\",\"gran\",\"posici\\u00f3n\",\"tienes\",\"operaciones\",\"debes\",\"dif\\u00edcil\",\"cada\",\"capaz\",\"siempre\",\"energ\\u00eda\",\"cinco\",\"pa\\u00eds\",\"combate\",\"quiere\",\"vencer\",\"eres\",\"camino\",\"consecuencia\",\"mejor\",\"expertos\",\"posible\",\"caso\",\"incluso\",\"existen\",\"haz\",\"cuesti\\u00f3n\",\"sino\",\"decir\",\"formaci\\u00f3n\",\"guerreros\",\"nadie\",\"suministros\",\"desde\",\"estos\",\"muerte\",\"estas\",\"todas\",\"uno\",\"ataca\",\"e\",\"sean\",\"s\\u00ed\",\"punto\",\"ning\\u00fan\",\"tan\",\"regla\",\"operaci\\u00f3n\",\"haya\",\"armas\",\"todos\",\"existe\",\"alimentos\",\"superiores\",\"acci\\u00f3n\",\"c\\u00f3mo\",\"derrotado\",\"clases\",\"arte\",\"cerca\",\"evitar\"],\"x\":[52.26878356933594,51.19278335571289,-5.128106594085693,15.857690811157227,44.523067474365234,-45.87669372558594,30.119876861572266,-1.9557639360427856,-36.23849868774414,-7.522084712982178,31.541934967041016,-38.09693145751953,75.93634796142578,-9.163363456726074,7.101573467254639,-59.23509216308594,30.79166603088379,-10.066804885864258,-32.89509963989258,24.154138565063477,24.365550994873047,-12.77101993560791,-18.7845458984375,-17.589353561401367,-5.924470901489258,1.0728567838668823,58.93388748168945,60.94097900390625,10.060383796691895,13.862777709960938,19.456146240234375,-26.965673446655273,66.53499603271484,13.861468315124512,-43.30895233154297,12.842717170715332,-20.04096794128418,-36.914772033691406,58.36103057861328,23.031925201416016,-20.95098304748535,66.9166030883789,2.5012922286987305,-51.05487060546875,19.267541885375977,55.22274398803711,20.170618057250977,10.994219779968262,-28.513782501220703,20.810760498046875,-59.20146560668945,44.897315979003906,-33.6928596496582,34.2491340637207,19.392732620239258,2.2172489166259766,-52.45902633666992,2.804581880569458,-31.296520233154297,-28.032745361328125,-70.03089141845703,40.52323913574219,26.367321014404297,36.540340423583984,13.958603858947754,-57.07026672363281,-50.02435302734375,39.803951263427734,-4.202467441558838,-18.936689376831055,7.483310699462891,-9.348589897155762,5.995625972747803,-27.964662551879883,-49.8217887878418,23.055044174194336,68.74211120605469,-0.3346933126449585,8.99012565612793,-28.701107025146484,28.48348045349121,24.075088500976562,-4.677240371704102,-66.3245849609375,12.124241828918457,-51.94148254394531,36.09394454956055,-27.023073196411133,-50.39732360839844,-33.410274505615234,49.97458267211914,7.922469139099121,-71.72406768798828,-14.56164836883545,-66.76091766357422,-40.19967269897461,33.39186477661133,37.491458892822266,21.46879768371582,25.791534423828125,46.722877502441406,16.673511505126953,-56.6798095703125,25.221023559570312,-35.81374740600586,-20.18020248413086,-46.21076965332031,38.26353454589844,-27.538101196289062,-2.901563882827759,53.7446403503418,34.6006965637207,-33.67510986328125,-19.44183349609375,29.466508865356445,-0.15217332541942596,35.509925842285156,47.75339889526367,54.1137809753418,-72.53196716308594,69.47087860107422,34.64633560180664,30.183645248413086,-8.224360466003418,31.934846878051758,-49.1942138671875,39.78498458862305,53.709877014160156,62.8814582824707,-59.43349075317383,43.14177703857422,-43.66523361206055,-40.245460510253906,36.307456970214844,-69.00077819824219,-8.758848190307617,-12.09637451171875,-35.265777587890625,19.605104446411133,-15.429993629455566,32.81619644165039,-3.131169557571411,43.87241744995117,-41.79889678955078,3.3907992839813232,1.507432222366333,-11.580819129943848,0.38999801874160767,43.48941421508789,65.9597396850586,-4.264338493347168,20.01060676574707,-9.890419006347656,-27.71735954284668,15.152117729187012,13.170997619628906,-37.9490852355957,8.80079460144043,53.818050384521484,-47.565792083740234,36.79117202758789,36.99052429199219,28.027719497680664,-7.537717819213867,-14.351076126098633,55.4897575378418,-2.125492572784424,-26.345773696899414,37.026031494140625,-56.98331832885742,-0.1796131581068039,3.8523013591766357,-39.389713287353516,11.31473159790039,24.5471134185791,-14.178121566772461,-27.875457763671875,4.225072860717773,-46.5616569519043,-11.531624794006348,10.102860450744629,-28.367198944091797,42.494659423828125,-52.02459716796875,9.409515380859375,55.738529205322266,15.906601905822754,-54.79804992675781,-29.39954376220703,-25.956951141357422,-23.699735641479492,-4.935207843780518,-21.535667419433594,41.362003326416016,-12.346056938171387,0.4357175827026367,-13.224339485168457,18.08432388305664,26.90663719177246,-8.306803703308105],\"y\":[-48.92240524291992,28.933135986328125,35.95192337036133,-19.393844604492188,-10.458369255065918,-2.230799436569214,-46.842220306396484,-27.645334243774414,-21.155736923217773,13.278701782226562,14.973183631896973,-52.57975387573242,-29.32480239868164,43.77815628051758,-20.903614044189453,37.05659866333008,26.330936431884766,62.394683837890625,66.1059341430664,-5.172288417816162,3.8454270362854004,-18.59626007080078,56.80899429321289,-40.709495544433594,46.40632629394531,-14.885283470153809,10.484641075134277,-18.458040237426758,-39.38098907470703,-39.41694259643555,-23.578012466430664,-39.08879852294922,7.463903427124023,56.607200622558594,17.274057388305664,11.188824653625488,17.16834259033203,52.24371337890625,41.47469711303711,73.98506164550781,42.03438186645508,9.704785346984863,-38.83365249633789,-11.4141845703125,55.825462341308594,-26.506826400756836,-46.98442459106445,-58.07856750488281,-1.3476547002792358,22.847532272338867,-32.943153381347656,44.2730827331543,-54.916725158691406,-68.22433471679688,-28.103858947753906,53.076927185058594,-53.23078155517578,76.79644775390625,-28.35157585144043,34.39582824707031,-34.02021789550781,-50.28882598876953,0.1638471484184265,-47.480709075927734,-54.74155807495117,30.659164428710938,-4.3127760887146,50.444007873535156,-10.348937034606934,-32.48381805419922,32.828224182128906,-36.86773681640625,3.5144994258880615,10.758295059204102,53.24933624267578,-34.55642318725586,-2.404151201248169,-34.636451721191406,-1.3665260076522827,-31.369291305541992,-39.60285949707031,24.984952926635742,31.186660766601562,9.949953079223633,37.328372955322266,-14.290826797485352,42.396812438964844,-11.859619140625,-35.046539306640625,57.80775451660156,-11.590765953063965,-13.462118148803711,-14.878012657165527,-10.959003448486328,14.283929824829102,30.2772216796875,-24.857337951660156,8.892314910888672,56.67425537109375,-13.759597778320312,-9.047968864440918,25.036890029907227,12.798469543457031,53.24531936645508,-29.521743774414062,28.499004364013672,-21.0543212890625,-25.221906661987305,-22.67087173461914,31.189754486083984,17.569072723388672,36.79644012451172,-36.89297866821289,10.578934669494629,-60.40515899658203,20.75491714477539,-35.43415451049805,10.64395523071289,-33.12908935546875,-13.269895553588867,-10.910346031188965,15.095778465270996,35.902278900146484,7.58307409286499,19.682249069213867,-34.7758903503418,48.608848571777344,42.57308578491211,-12.666754722595215,3.602677583694458,14.45830249786377,14.895293235778809,27.833383560180664,24.883543014526367,12.98872184753418,30.69961929321289,-8.688760757446289,46.7923583984375,-14.745272636413574,4.196418285369873,45.68437957763672,29.975133895874023,-5.777719974517822,-58.80088424682617,10.69994068145752,66.67677307128906,-51.95813751220703,-55.535011291503906,33.876312255859375,21.069581985473633,-69.56458282470703,42.612098693847656,-0.23171710968017578,40.875831604003906,26.883743286132812,-46.66920852661133,4.046850681304932,48.841983795166016,20.81402587890625,-32.91566467285156,14.093852996826172,-10.302624702453613,2.9435205459594727,-72.10285949707031,77.73505401611328,1.1009511947631836,-11.458548545837402,41.28378677368164,36.40509033203125,-14.328666687011719,-2.175798177719116,-53.73601150512695,18.855512619018555,-61.007965087890625,-25.908288955688477,-58.404544830322266,-59.00324249267578,4.012005805969238,40.82638931274414,20.814268112182617,-40.999019622802734,17.14092254638672,-30.242502212524414,2.634272575378418,-35.61774444580078,44.27454376220703,31.499584197998047,21.492746353149414,-60.74079513549805,-10.09345817565918,-14.075813293457031,53.95458221435547,-37.13606643676758,13.319365501403809,-24.191930770874023,-27.502700805664062,-73.46137237548828,-7.754047393798828,64.53850555419922,13.308451652526855],\"z\":[8.56485366821289,-37.9666748046875,-9.89999008178711,14.336831092834473,-64.94935607910156,25.27027130126953,5.875942707061768,10.704277992248535,-55.2322998046875,-27.796566009521484,-23.27497673034668,36.94912338256836,-9.229469299316406,45.00125503540039,-3.6590211391448975,-5.751094341278076,-36.12822341918945,-23.575084686279297,-33.172332763671875,22.97428321838379,3.304197072982788,61.469539642333984,19.556781768798828,28.442153930664062,-37.509273529052734,20.662757873535156,-44.26255416870117,-23.168123245239258,41.6508903503418,17.47003936767578,62.1826057434082,-31.252429962158203,24.549528121948242,-35.21717071533203,30.84046745300293,-57.25216293334961,68.04624938964844,38.445003509521484,24.79119300842285,-11.658286094665527,-17.91816520690918,-6.7326579093933105,-69.522705078125,-59.881591796875,45.1240234375,5.41123104095459,-11.051166534423828,52.085906982421875,-69.56920623779297,62.35651397705078,8.092934608459473,-23.883678436279297,-19.548198699951172,0.9383342266082764,33.51936340332031,27.399106979370117,20.412246704101562,23.248138427734375,59.2684440612793,28.608985900878906,-18.662717819213867,-25.757007598876953,54.575618743896484,26.988746643066406,-36.3532829284668,18.91158103942871,58.188114166259766,8.910002708435059,80.61518096923828,-51.30606460571289,-28.572994232177734,73.08074951171875,-78.58863067626953,40.97049331665039,-10.2692289352417,-58.189334869384766,-28.044540405273438,27.0898494720459,13.532628059387207,39.44313049316406,-39.35673522949219,25.885501861572266,61.69194793701172,-23.285778045654297,36.8291130065918,-37.92498016357422,60.08016586303711,-39.62871170043945,-35.83867645263672,-0.20053961873054504,-48.334678649902344,-53.508323669433594,-29.90502166748047,-56.25334930419922,35.92237091064453,52.973419189453125,18.649988174438477,17.6485652923584,18.759668350219727,-55.592918395996094,41.95439910888672,-12.654773712158203,-41.15559387207031,-26.381074905395508,-17.379779815673828,-57.25296401977539,7.91477632522583,-1.5655044317245483,7.397222995758057,-55.07176971435547,13.514537811279297,-56.192970275878906,14.301865577697754,-49.729225158691406,-47.245357513427734,80.01283264160156,45.449310302734375,-55.86888885498047,31.411495208740234,15.492770195007324,5.935505390167236,70.88070678710938,-2.751882314682007,-61.17172622680664,43.86412048339844,-7.986972332000732,30.9271183013916,-5.266053199768066,24.62765884399414,11.865201950073242,64.03376770019531,-62.10866928100586,-43.45454025268555,63.441471099853516,-6.343181133270264,-37.178924560546875,-34.11298370361328,-9.423299789428711,-75.1376724243164,60.30810546875,-41.68328857421875,7.668585777282715,29.74232292175293,2.768080949783325,42.58607864379883,1.9534741640090942,-10.7937593460083,-25.870878219604492,19.783071517944336,-23.983402252197266,12.501396179199219,-60.81819152832031,48.08912658691406,-43.78852081298828,6.125941753387451,-22.71253776550293,-43.74951934814453,-13.502555847167969,-7.031453609466553,28.300098419189453,-4.573972225189209,5.098415851593018,34.93956756591797,29.360944747924805,-12.912871360778809,-7.705941200256348,2.7256855964660645,-33.69352340698242,35.983219146728516,36.50681686401367,-22.31764793395996,32.321712493896484,-12.136595726013184,9.856191635131836,-0.6705779433250427,12.684078216552734,-41.05363464355469,65.14234161376953,-21.414966583251953,48.060401916503906,58.995033264160156,14.429825782775879,-15.954263687133789,-25.694520950317383,-9.826501846313477,-22.177457809448242,-42.46588897705078,-28.23935890197754,16.585966110229492,46.3165397644043,-26.724435806274414,-50.027366638183594,55.97391128540039,-40.83664321899414,15.685884475708008,-39.5616455078125,17.23101806640625,-47.319236755371094,-4.2703657150268555,58.76912307739258],\"type\":\"scatter3d\"}],                        {\"template\":{\"data\":{\"histogram2dcontour\":[{\"type\":\"histogram2dcontour\",\"colorbar\":{\"outlinewidth\":0,\"ticks\":\"\"},\"colorscale\":[[0.0,\"#0d0887\"],[0.1111111111111111,\"#46039f\"],[0.2222222222222222,\"#7201a8\"],[0.3333333333333333,\"#9c179e\"],[0.4444444444444444,\"#bd3786\"],[0.5555555555555556,\"#d8576b\"],[0.6666666666666666,\"#ed7953\"],[0.7777777777777778,\"#fb9f3a\"],[0.8888888888888888,\"#fdca26\"],[1.0,\"#f0f921\"]]}],\"choropleth\":[{\"type\":\"choropleth\",\"colorbar\":{\"outlinewidth\":0,\"ticks\":\"\"}}],\"histogram2d\":[{\"type\":\"histogram2d\",\"colorbar\":{\"outlinewidth\":0,\"ticks\":\"\"},\"colorscale\":[[0.0,\"#0d0887\"],[0.1111111111111111,\"#46039f\"],[0.2222222222222222,\"#7201a8\"],[0.3333333333333333,\"#9c179e\"],[0.4444444444444444,\"#bd3786\"],[0.5555555555555556,\"#d8576b\"],[0.6666666666666666,\"#ed7953\"],[0.7777777777777778,\"#fb9f3a\"],[0.8888888888888888,\"#fdca26\"],[1.0,\"#f0f921\"]]}],\"heatmap\":[{\"type\":\"heatmap\",\"colorbar\":{\"outlinewidth\":0,\"ticks\":\"\"},\"colorscale\":[[0.0,\"#0d0887\"],[0.1111111111111111,\"#46039f\"],[0.2222222222222222,\"#7201a8\"],[0.3333333333333333,\"#9c179e\"],[0.4444444444444444,\"#bd3786\"],[0.5555555555555556,\"#d8576b\"],[0.6666666666666666,\"#ed7953\"],[0.7777777777777778,\"#fb9f3a\"],[0.8888888888888888,\"#fdca26\"],[1.0,\"#f0f921\"]]}],\"heatmapgl\":[{\"type\":\"heatmapgl\",\"colorbar\":{\"outlinewidth\":0,\"ticks\":\"\"},\"colorscale\":[[0.0,\"#0d0887\"],[0.1111111111111111,\"#46039f\"],[0.2222222222222222,\"#7201a8\"],[0.3333333333333333,\"#9c179e\"],[0.4444444444444444,\"#bd3786\"],[0.5555555555555556,\"#d8576b\"],[0.6666666666666666,\"#ed7953\"],[0.7777777777777778,\"#fb9f3a\"],[0.8888888888888888,\"#fdca26\"],[1.0,\"#f0f921\"]]}],\"contourcarpet\":[{\"type\":\"contourcarpet\",\"colorbar\":{\"outlinewidth\":0,\"ticks\":\"\"}}],\"contour\":[{\"type\":\"contour\",\"colorbar\":{\"outlinewidth\":0,\"ticks\":\"\"},\"colorscale\":[[0.0,\"#0d0887\"],[0.1111111111111111,\"#46039f\"],[0.2222222222222222,\"#7201a8\"],[0.3333333333333333,\"#9c179e\"],[0.4444444444444444,\"#bd3786\"],[0.5555555555555556,\"#d8576b\"],[0.6666666666666666,\"#ed7953\"],[0.7777777777777778,\"#fb9f3a\"],[0.8888888888888888,\"#fdca26\"],[1.0,\"#f0f921\"]]}],\"surface\":[{\"type\":\"surface\",\"colorbar\":{\"outlinewidth\":0,\"ticks\":\"\"},\"colorscale\":[[0.0,\"#0d0887\"],[0.1111111111111111,\"#46039f\"],[0.2222222222222222,\"#7201a8\"],[0.3333333333333333,\"#9c179e\"],[0.4444444444444444,\"#bd3786\"],[0.5555555555555556,\"#d8576b\"],[0.6666666666666666,\"#ed7953\"],[0.7777777777777778,\"#fb9f3a\"],[0.8888888888888888,\"#fdca26\"],[1.0,\"#f0f921\"]]}],\"mesh3d\":[{\"type\":\"mesh3d\",\"colorbar\":{\"outlinewidth\":0,\"ticks\":\"\"}}],\"scatter\":[{\"fillpattern\":{\"fillmode\":\"overlay\",\"size\":10,\"solidity\":0.2},\"type\":\"scatter\"}],\"parcoords\":[{\"type\":\"parcoords\",\"line\":{\"colorbar\":{\"outlinewidth\":0,\"ticks\":\"\"}}}],\"scatterpolargl\":[{\"type\":\"scatterpolargl\",\"marker\":{\"colorbar\":{\"outlinewidth\":0,\"ticks\":\"\"}}}],\"bar\":[{\"error_x\":{\"color\":\"#2a3f5f\"},\"error_y\":{\"color\":\"#2a3f5f\"},\"marker\":{\"line\":{\"color\":\"#E5ECF6\",\"width\":0.5},\"pattern\":{\"fillmode\":\"overlay\",\"size\":10,\"solidity\":0.2}},\"type\":\"bar\"}],\"scattergeo\":[{\"type\":\"scattergeo\",\"marker\":{\"colorbar\":{\"outlinewidth\":0,\"ticks\":\"\"}}}],\"scatterpolar\":[{\"type\":\"scatterpolar\",\"marker\":{\"colorbar\":{\"outlinewidth\":0,\"ticks\":\"\"}}}],\"histogram\":[{\"marker\":{\"pattern\":{\"fillmode\":\"overlay\",\"size\":10,\"solidity\":0.2}},\"type\":\"histogram\"}],\"scattergl\":[{\"type\":\"scattergl\",\"marker\":{\"colorbar\":{\"outlinewidth\":0,\"ticks\":\"\"}}}],\"scatter3d\":[{\"type\":\"scatter3d\",\"line\":{\"colorbar\":{\"outlinewidth\":0,\"ticks\":\"\"}},\"marker\":{\"colorbar\":{\"outlinewidth\":0,\"ticks\":\"\"}}}],\"scattermapbox\":[{\"type\":\"scattermapbox\",\"marker\":{\"colorbar\":{\"outlinewidth\":0,\"ticks\":\"\"}}}],\"scatterternary\":[{\"type\":\"scatterternary\",\"marker\":{\"colorbar\":{\"outlinewidth\":0,\"ticks\":\"\"}}}],\"scattercarpet\":[{\"type\":\"scattercarpet\",\"marker\":{\"colorbar\":{\"outlinewidth\":0,\"ticks\":\"\"}}}],\"carpet\":[{\"aaxis\":{\"endlinecolor\":\"#2a3f5f\",\"gridcolor\":\"white\",\"linecolor\":\"white\",\"minorgridcolor\":\"white\",\"startlinecolor\":\"#2a3f5f\"},\"baxis\":{\"endlinecolor\":\"#2a3f5f\",\"gridcolor\":\"white\",\"linecolor\":\"white\",\"minorgridcolor\":\"white\",\"startlinecolor\":\"#2a3f5f\"},\"type\":\"carpet\"}],\"table\":[{\"cells\":{\"fill\":{\"color\":\"#EBF0F8\"},\"line\":{\"color\":\"white\"}},\"header\":{\"fill\":{\"color\":\"#C8D4E3\"},\"line\":{\"color\":\"white\"}},\"type\":\"table\"}],\"barpolar\":[{\"marker\":{\"line\":{\"color\":\"#E5ECF6\",\"width\":0.5},\"pattern\":{\"fillmode\":\"overlay\",\"size\":10,\"solidity\":0.2}},\"type\":\"barpolar\"}],\"pie\":[{\"automargin\":true,\"type\":\"pie\"}]},\"layout\":{\"autotypenumbers\":\"strict\",\"colorway\":[\"#636efa\",\"#EF553B\",\"#00cc96\",\"#ab63fa\",\"#FFA15A\",\"#19d3f3\",\"#FF6692\",\"#B6E880\",\"#FF97FF\",\"#FECB52\"],\"font\":{\"color\":\"#2a3f5f\"},\"hovermode\":\"closest\",\"hoverlabel\":{\"align\":\"left\"},\"paper_bgcolor\":\"white\",\"plot_bgcolor\":\"#E5ECF6\",\"polar\":{\"bgcolor\":\"#E5ECF6\",\"angularaxis\":{\"gridcolor\":\"white\",\"linecolor\":\"white\",\"ticks\":\"\"},\"radialaxis\":{\"gridcolor\":\"white\",\"linecolor\":\"white\",\"ticks\":\"\"}},\"ternary\":{\"bgcolor\":\"#E5ECF6\",\"aaxis\":{\"gridcolor\":\"white\",\"linecolor\":\"white\",\"ticks\":\"\"},\"baxis\":{\"gridcolor\":\"white\",\"linecolor\":\"white\",\"ticks\":\"\"},\"caxis\":{\"gridcolor\":\"white\",\"linecolor\":\"white\",\"ticks\":\"\"}},\"coloraxis\":{\"colorbar\":{\"outlinewidth\":0,\"ticks\":\"\"}},\"colorscale\":{\"sequential\":[[0.0,\"#0d0887\"],[0.1111111111111111,\"#46039f\"],[0.2222222222222222,\"#7201a8\"],[0.3333333333333333,\"#9c179e\"],[0.4444444444444444,\"#bd3786\"],[0.5555555555555556,\"#d8576b\"],[0.6666666666666666,\"#ed7953\"],[0.7777777777777778,\"#fb9f3a\"],[0.8888888888888888,\"#fdca26\"],[1.0,\"#f0f921\"]],\"sequentialminus\":[[0.0,\"#0d0887\"],[0.1111111111111111,\"#46039f\"],[0.2222222222222222,\"#7201a8\"],[0.3333333333333333,\"#9c179e\"],[0.4444444444444444,\"#bd3786\"],[0.5555555555555556,\"#d8576b\"],[0.6666666666666666,\"#ed7953\"],[0.7777777777777778,\"#fb9f3a\"],[0.8888888888888888,\"#fdca26\"],[1.0,\"#f0f921\"]],\"diverging\":[[0,\"#8e0152\"],[0.1,\"#c51b7d\"],[0.2,\"#de77ae\"],[0.3,\"#f1b6da\"],[0.4,\"#fde0ef\"],[0.5,\"#f7f7f7\"],[0.6,\"#e6f5d0\"],[0.7,\"#b8e186\"],[0.8,\"#7fbc41\"],[0.9,\"#4d9221\"],[1,\"#276419\"]]},\"xaxis\":{\"gridcolor\":\"white\",\"linecolor\":\"white\",\"ticks\":\"\",\"title\":{\"standoff\":15},\"zerolinecolor\":\"white\",\"automargin\":true,\"zerolinewidth\":2},\"yaxis\":{\"gridcolor\":\"white\",\"linecolor\":\"white\",\"ticks\":\"\",\"title\":{\"standoff\":15},\"zerolinecolor\":\"white\",\"automargin\":true,\"zerolinewidth\":2},\"scene\":{\"xaxis\":{\"backgroundcolor\":\"#E5ECF6\",\"gridcolor\":\"white\",\"linecolor\":\"white\",\"showbackground\":true,\"ticks\":\"\",\"zerolinecolor\":\"white\",\"gridwidth\":2},\"yaxis\":{\"backgroundcolor\":\"#E5ECF6\",\"gridcolor\":\"white\",\"linecolor\":\"white\",\"showbackground\":true,\"ticks\":\"\",\"zerolinecolor\":\"white\",\"gridwidth\":2},\"zaxis\":{\"backgroundcolor\":\"#E5ECF6\",\"gridcolor\":\"white\",\"linecolor\":\"white\",\"showbackground\":true,\"ticks\":\"\",\"zerolinecolor\":\"white\",\"gridwidth\":2}},\"shapedefaults\":{\"line\":{\"color\":\"#2a3f5f\"}},\"annotationdefaults\":{\"arrowcolor\":\"#2a3f5f\",\"arrowhead\":0,\"arrowwidth\":1},\"geo\":{\"bgcolor\":\"white\",\"landcolor\":\"#E5ECF6\",\"subunitcolor\":\"white\",\"showland\":true,\"showlakes\":true,\"lakecolor\":\"white\"},\"title\":{\"x\":0.05},\"mapbox\":{\"style\":\"light\"}}},\"scene\":{\"domain\":{\"x\":[0.0,1.0],\"y\":[0.0,1.0]},\"xaxis\":{\"title\":{\"text\":\"x\"}},\"yaxis\":{\"title\":{\"text\":\"y\"}},\"zaxis\":{\"title\":{\"text\":\"z\"}}},\"legend\":{\"tracegroupgap\":0},\"margin\":{\"t\":60}},                        {\"responsive\": true}                    ).then(function(){\n",
              "                            \n",
              "var gd = document.getElementById('8a7af81e-1d28-46fd-b9e3-aad2bb214b6e');\n",
              "var x = new MutationObserver(function (mutations, observer) {{\n",
              "        var display = window.getComputedStyle(gd).display;\n",
              "        if (!display || display === 'none') {{\n",
              "            console.log([gd, 'removed!']);\n",
              "            Plotly.purge(gd);\n",
              "            observer.disconnect();\n",
              "        }}\n",
              "}});\n",
              "\n",
              "// Listen for the removal of the full notebook cells\n",
              "var notebookContainer = gd.closest('#notebook-container');\n",
              "if (notebookContainer) {{\n",
              "    x.observe(notebookContainer, {childList: true});\n",
              "}}\n",
              "\n",
              "// Listen for the clearing of the current output cell\n",
              "var outputEl = gd.closest('.output');\n",
              "if (outputEl) {{\n",
              "    x.observe(outputEl, {childList: true});\n",
              "}}\n",
              "\n",
              "                        })                };                            </script>        </div>\n",
              "</body>\n",
              "</html>"
            ]
          },
          "metadata": {}
        }
      ],
      "source": [
        "# Graficar los embedddings en 3D\n",
        "\n",
        "vecs, labels = reduce_dimensions(w2v_model_arte,3)\n",
        "\n",
        "fig = px.scatter_3d(x=vecs[:MAX_WORDS,0], y=vecs[:MAX_WORDS,1], z=vecs[:MAX_WORDS,2],text=labels[:MAX_WORDS])\n",
        "fig.update_traces(marker_size = 2)\n",
        "fig.show(renderer=\"colab\") # esto para plotly en colab"
      ]
    },
    {
      "cell_type": "markdown",
      "source": [
        "En el espacio 3D, se pueden observar combinaciones similares al espacio en dos dimensiones anterior. También se pueden ver otras combinaciones como: ``[soldados, suministros]`` o ``[ataque, combate, luchar]``"
      ],
      "metadata": {
        "id": "IAocU1Dy4UWv"
      }
    },
    {
      "cell_type": "code",
      "execution_count": 96,
      "metadata": {
        "id": "UiV21NeEskZs"
      },
      "outputs": [],
      "source": [
        "# También se pueden guardar los vectores y labels como tsv para graficar en\n",
        "# http://projector.tensorflow.org/\n",
        "\n",
        "\n",
        "vectors = np.asarray(w2v_model_arte.wv.vectors)\n",
        "labels = list(w2v_model_arte.wv.index_to_key)\n",
        "\n",
        "np.savetxt(\"vectors_arte.tsv\", vectors, delimiter=\"\\t\")\n",
        "\n",
        "with open(\"labels_arte.tsv\", \"w\") as fp:\n",
        "    for item in labels:\n",
        "        fp.write(\"%s\\n\" % item)"
      ]
    },
    {
      "cell_type": "markdown",
      "source": [
        "## Sherlock\n",
        "\n",
        "Ahora probamos con un libro más largo y con más documentos/lineas y términos."
      ],
      "metadata": {
        "id": "wTwzO4F3sd0A"
      }
    },
    {
      "cell_type": "markdown",
      "metadata": {
        "id": "ab94qaFlrA1G"
      },
      "source": [
        "### 1 - Preprocesamiento"
      ]
    },
    {
      "cell_type": "code",
      "execution_count": 97,
      "metadata": {
        "id": "rIsmMWmjrDHd"
      },
      "outputs": [],
      "source": [
        "from tensorflow.keras.preprocessing.text import text_to_word_sequence\n",
        "\n",
        "sentence_tokens_sherlock = []\n",
        "# Recorrer todas las filas y transformar las oraciones\n",
        "# en una secuencia de palabras (esto podría realizarse con NLTK o spaCy también)\n",
        "for _, row in df_sherlock[:None].iterrows():\n",
        "    sentence_tokens_sherlock.append(text_to_word_sequence(row[0]))"
      ]
    },
    {
      "cell_type": "code",
      "execution_count": 98,
      "metadata": {
        "id": "CHepi_DGrbhq",
        "colab": {
          "base_uri": "https://localhost:8080/"
        },
        "outputId": "a44c701d-791e-4488-891e-016a32bb8539"
      },
      "outputs": [
        {
          "output_type": "execute_result",
          "data": {
            "text/plain": [
              "[['it',\n",
              "  'was',\n",
              "  'not',\n",
              "  'that',\n",
              "  'he',\n",
              "  'felt',\n",
              "  'any',\n",
              "  'emotion',\n",
              "  'akin',\n",
              "  'to',\n",
              "  'love',\n",
              "  'for',\n",
              "  'irene',\n",
              "  'adler'],\n",
              " ['all',\n",
              "  'emotions',\n",
              "  'and',\n",
              "  'that',\n",
              "  'one',\n",
              "  'particularly',\n",
              "  'were',\n",
              "  'abhorrent',\n",
              "  'to',\n",
              "  'his',\n",
              "  'cold',\n",
              "  'precise',\n",
              "  'but',\n",
              "  'admirably',\n",
              "  'balanced',\n",
              "  'mind']]"
            ]
          },
          "metadata": {},
          "execution_count": 98
        }
      ],
      "source": [
        "# Demos un vistazo\n",
        "sentence_tokens_sherlock[5:7]"
      ]
    },
    {
      "cell_type": "markdown",
      "metadata": {
        "id": "BaXV6nlHr5Aa"
      },
      "source": [
        "### 2 - Crear los vectores (word2vec)"
      ]
    },
    {
      "cell_type": "code",
      "execution_count": 99,
      "metadata": {
        "id": "OSb0v7h8r7hK"
      },
      "outputs": [],
      "source": [
        "from gensim.models.callbacks import CallbackAny2Vec\n",
        "# Durante el entrenamiento gensim por defecto no informa el \"loss\" en cada época\n",
        "# Sobrecargamos el callback para poder tener esta información\n",
        "class callback(CallbackAny2Vec):\n",
        "    \"\"\"\n",
        "    Callback to print loss after each epoch\n",
        "    \"\"\"\n",
        "    def __init__(self):\n",
        "        self.epoch = 0\n",
        "\n",
        "    def on_epoch_end(self, model):\n",
        "        loss = model.get_latest_training_loss()\n",
        "        if self.epoch == 0:\n",
        "            print('Loss after epoch {}: {}'.format(self.epoch, loss))\n",
        "        else:\n",
        "            print('Loss after epoch {}: {}'.format(self.epoch, loss- self.loss_previous_step))\n",
        "        self.epoch += 1\n",
        "        self.loss_previous_step = loss"
      ]
    },
    {
      "cell_type": "code",
      "execution_count": 100,
      "metadata": {
        "id": "i0wnDdv9sJ47"
      },
      "outputs": [],
      "source": [
        "# Crearmos el modelo generador de vectores\n",
        "# En este caso utilizaremos la estructura modelo Skipgram\n",
        "w2v_model_sherlock = Word2Vec(min_count=7,    # frecuencia mínima de palabra para incluirla en el vocabulario\n",
        "                     window=2,       # cant de palabras antes y desp de la predicha\n",
        "                     vector_size=400,       # dimensionalidad de los vectores\n",
        "                     negative=20,    # cantidad de negative samples... 0 es no se usa\n",
        "                     workers=1,      # si tienen más cores pueden cambiar este valor\n",
        "                     sg=1)           # modelo 0:CBOW  1:skipgram"
      ]
    },
    {
      "cell_type": "code",
      "execution_count": 101,
      "metadata": {
        "id": "5lTt8wErsf17"
      },
      "outputs": [],
      "source": [
        "# Obtener el vocabulario con los tokens\n",
        "w2v_model_sherlock.build_vocab(sentence_tokens_sherlock)"
      ]
    },
    {
      "cell_type": "code",
      "execution_count": 102,
      "metadata": {
        "id": "TNc9qt4os5AT",
        "colab": {
          "base_uri": "https://localhost:8080/"
        },
        "outputId": "699fd448-0c4d-4b08-d4c0-7c26e53d4180"
      },
      "outputs": [
        {
          "output_type": "stream",
          "name": "stdout",
          "text": [
            "Cantidad de docs en el corpus: 5877\n"
          ]
        }
      ],
      "source": [
        "# Cantidad de filas/docs encontradas en el corpus\n",
        "print(\"Cantidad de docs en el corpus:\", w2v_model_sherlock.corpus_count)"
      ]
    },
    {
      "cell_type": "code",
      "execution_count": 103,
      "metadata": {
        "id": "idw9cHF3tSMl",
        "colab": {
          "base_uri": "https://localhost:8080/"
        },
        "outputId": "7f8d133a-629e-4f13-d1d4-f254b6a52fba"
      },
      "outputs": [
        {
          "output_type": "stream",
          "name": "stdout",
          "text": [
            "Cantidad de términos distintos en el corpus: 1597\n"
          ]
        }
      ],
      "source": [
        "# Cantidad de palabras/términos encontrados en el corpus\n",
        "print(\"Cantidad de términos distintos en el corpus:\", len(w2v_model_sherlock.wv.index_to_key))"
      ]
    },
    {
      "cell_type": "markdown",
      "metadata": {
        "id": "fC9mZ8DPk-UC"
      },
      "source": [
        "### 3 - Entrenar embeddings"
      ]
    },
    {
      "cell_type": "code",
      "execution_count": 104,
      "metadata": {
        "id": "QSp-x0PAsq56",
        "colab": {
          "base_uri": "https://localhost:8080/"
        },
        "outputId": "d36dd3cb-74a7-4aba-aef5-52248dc0a45f"
      },
      "outputs": [
        {
          "output_type": "stream",
          "name": "stdout",
          "text": [
            "Loss after epoch 0: 824053.75\n",
            "Loss after epoch 1: 609534.0\n",
            "Loss after epoch 2: 573489.875\n",
            "Loss after epoch 3: 506207.625\n",
            "Loss after epoch 4: 493126.5\n",
            "Loss after epoch 5: 490147.0\n",
            "Loss after epoch 6: 484933.5\n",
            "Loss after epoch 7: 466369.75\n",
            "Loss after epoch 8: 450501.5\n",
            "Loss after epoch 9: 446772.0\n",
            "Loss after epoch 10: 444207.0\n",
            "Loss after epoch 11: 443888.5\n",
            "Loss after epoch 12: 439212.0\n",
            "Loss after epoch 13: 438267.0\n",
            "Loss after epoch 14: 434509.0\n",
            "Loss after epoch 15: 432022.0\n",
            "Loss after epoch 16: 428256.0\n",
            "Loss after epoch 17: 405650.0\n",
            "Loss after epoch 18: 405321.0\n",
            "Loss after epoch 19: 400637.0\n",
            "Loss after epoch 20: 401222.0\n",
            "Loss after epoch 21: 396630.0\n",
            "Loss after epoch 22: 394512.0\n",
            "Loss after epoch 23: 393887.0\n",
            "Loss after epoch 24: 392186.0\n",
            "Loss after epoch 25: 389071.0\n",
            "Loss after epoch 26: 387461.0\n",
            "Loss after epoch 27: 385399.0\n",
            "Loss after epoch 28: 386492.0\n",
            "Loss after epoch 29: 383435.0\n",
            "Loss after epoch 30: 380743.0\n",
            "Loss after epoch 31: 379560.0\n",
            "Loss after epoch 32: 379702.0\n",
            "Loss after epoch 33: 375375.0\n",
            "Loss after epoch 34: 374648.0\n",
            "Loss after epoch 35: 375569.0\n",
            "Loss after epoch 36: 375352.0\n",
            "Loss after epoch 37: 372153.0\n",
            "Loss after epoch 38: 366046.0\n",
            "Loss after epoch 39: 351630.0\n",
            "Loss after epoch 40: 350930.0\n",
            "Loss after epoch 41: 350952.0\n",
            "Loss after epoch 42: 347886.0\n",
            "Loss after epoch 43: 347958.0\n",
            "Loss after epoch 44: 344542.0\n",
            "Loss after epoch 45: 345454.0\n",
            "Loss after epoch 46: 344134.0\n",
            "Loss after epoch 47: 345464.0\n",
            "Loss after epoch 48: 345328.0\n",
            "Loss after epoch 49: 341762.0\n"
          ]
        },
        {
          "output_type": "execute_result",
          "data": {
            "text/plain": [
              "(3104342, 5394700)"
            ]
          },
          "metadata": {},
          "execution_count": 104
        }
      ],
      "source": [
        "# Entrenamos el modelo generador de vectores\n",
        "# Utilizamos nuestro callback\n",
        "w2v_model_sherlock.train(sentence_tokens_sherlock,\n",
        "                 total_examples=w2v_model_sherlock.corpus_count,\n",
        "                 epochs=50,\n",
        "                 compute_loss = True,\n",
        "                 callbacks=[callback()]\n",
        "                 )"
      ]
    },
    {
      "cell_type": "markdown",
      "metadata": {
        "id": "ddT9NVuNlCAe"
      },
      "source": [
        "### 4 - Ensayar"
      ]
    },
    {
      "cell_type": "code",
      "execution_count": 105,
      "metadata": {
        "id": "6cHN9xGLuPEm",
        "colab": {
          "base_uri": "https://localhost:8080/"
        },
        "outputId": "42a42e39-af52-4ce1-b6d1-d06cc72fc2ea"
      },
      "outputs": [
        {
          "output_type": "execute_result",
          "data": {
            "text/plain": [
              "[('“where', 0.576553463935852),\n",
              " ('“who', 0.538782000541687),\n",
              " ('book', 0.49601277709007263),\n",
              " ('referred', 0.4879840016365051),\n",
              " ('working', 0.4725741147994995),\n",
              " ('criminal', 0.47154882550239563),\n",
              " ('card', 0.4704204201698303),\n",
              " ('banker', 0.4702211320400238),\n",
              " ('league', 0.4700000584125519),\n",
              " ('irene', 0.46716201305389404)]"
            ]
          },
          "metadata": {},
          "execution_count": 105
        }
      ],
      "source": [
        "# Palabras que MÁS se relacionan con...:\n",
        "w2v_model_sherlock.wv.most_similar(positive=[\"murder\"], topn=10)"
      ]
    },
    {
      "cell_type": "code",
      "execution_count": 106,
      "metadata": {
        "id": "47HiU5gdkdMq",
        "colab": {
          "base_uri": "https://localhost:8080/"
        },
        "outputId": "228bc639-0d54-4517-e817-98e88fda0eeb"
      },
      "outputs": [
        {
          "output_type": "execute_result",
          "data": {
            "text/plain": [
              "[('sat', 0.009757797233760357),\n",
              " ('were', 0.0027708513662219048),\n",
              " ('weary', -0.023430386558175087),\n",
              " ('sleep', -0.02953529730439186),\n",
              " ('waited', -0.02986465021967888),\n",
              " ('holmes’', -0.03251326084136963),\n",
              " ('morrow', -0.036608558148145676),\n",
              " ('seen', -0.04112047702074051),\n",
              " ('determined', -0.042432986199855804),\n",
              " ('under', -0.044163692742586136)]"
            ]
          },
          "metadata": {},
          "execution_count": 106
        }
      ],
      "source": [
        "# Palabras que MENOS se relacionan con...:\n",
        "w2v_model_sherlock.wv.most_similar(negative=[\"murder\"], topn=10)"
      ]
    },
    {
      "cell_type": "markdown",
      "source": [
        "#### Comentario sobre la palabra \"murder\":\n",
        "\n",
        "**Similares**\n",
        "- ``[Where, Who, Criminal]`` son de las primeras palabras que se pueden asociar al término \"murder\" con mucho sentido, en especial en una novela que trata de resolver crímenes.\n",
        "- Los demás términos no parecen tener mucho que ver con \"murder\" pero puede que en la historia estén cerca de la palabra.\n",
        "\n",
        "\n",
        "**Diferentes**\n",
        "- Claramente ninguna d elas palabras puede asociarse fácilmente con \"murder\""
      ],
      "metadata": {
        "id": "S3nyacUI1exY"
      }
    },
    {
      "cell_type": "code",
      "execution_count": 107,
      "metadata": {
        "id": "DT4Rvno2mD65",
        "colab": {
          "base_uri": "https://localhost:8080/"
        },
        "outputId": "449e87c0-3e6b-4636-e770-9a18012169d8"
      },
      "outputs": [
        {
          "output_type": "execute_result",
          "data": {
            "text/plain": [
              "[('waterloo', 0.4516870677471161),\n",
              " ('east', 0.44881898164749146),\n",
              " ('south', 0.44818320870399475),\n",
              " ('probable', 0.3789851665496826),\n",
              " ('north', 0.3664020299911499),\n",
              " ('river', 0.3657698631286621),\n",
              " ('main', 0.3653101623058319),\n",
              " ('firm', 0.36115124821662903),\n",
              " ('baker', 0.36008715629577637),\n",
              " ('court', 0.35814809799194336)]"
            ]
          },
          "metadata": {},
          "execution_count": 107
        }
      ],
      "source": [
        "# Palabras que MÁS se relacionan con...:\n",
        "w2v_model_sherlock.wv.most_similar(positive=[\"london\"], topn=10)"
      ]
    },
    {
      "cell_type": "code",
      "execution_count": 108,
      "metadata": {
        "id": "XPLDPgzBmQXt",
        "colab": {
          "base_uri": "https://localhost:8080/"
        },
        "outputId": "b773aead-06f4-4b19-c245-673e837171cd"
      },
      "outputs": [
        {
          "output_type": "execute_result",
          "data": {
            "text/plain": [
              "[('remained', 0.048432689160108566),\n",
              " ('almost', 0.04181383177638054),\n",
              " ('sight', 0.03866637870669365),\n",
              " ('after', 0.024102425202727318),\n",
              " ('seemed', 0.018902909010648727),\n",
              " ('mouth', 0.017376309260725975),\n",
              " ('made', 0.01674126461148262),\n",
              " ('trouble', 0.0156803447753191),\n",
              " ('pay', 0.012983595952391624),\n",
              " ('bright', 0.010303530842065811)]"
            ]
          },
          "metadata": {},
          "execution_count": 108
        }
      ],
      "source": [
        "# Palabras que MENOS se relacionan con...:\n",
        "w2v_model_sherlock.wv.most_similar(negative=[\"london\"], topn=10)"
      ]
    },
    {
      "cell_type": "markdown",
      "source": [
        "#### Comentario sobre la palabra \"Watson\":\n",
        "\n",
        "**Similares**\n",
        "- Los eventos del libro ocurren en o se refieren constantemente a Londres y lugares de la ciudad, por lo que tiene sentido que las palabras más similares sean de lugares en Londres ``[Waterloo, East, South, North, River, Baker, Court]``.\n",
        "- Por ejemplo, \"Baker Street\" es la calle donde vive Sherlock Holmes.\n",
        "\n",
        "\n",
        "**Diferentes**\n",
        "- Casi ninguna de los términos tiene sentido en asociación con Londres y el contexto del libro, así que son buenas opciones negativas."
      ],
      "metadata": {
        "id": "yWMVRV-O1g_W"
      }
    },
    {
      "cell_type": "code",
      "execution_count": 109,
      "metadata": {
        "id": "L_UvHPMMklOr"
      },
      "outputs": [],
      "source": [
        "# Ensayar con una palabra que no está en el vocabulario:\n",
        "# w2v_model.wv.most_similar(negative=[\"die\"])"
      ]
    },
    {
      "cell_type": "code",
      "execution_count": 110,
      "metadata": {
        "id": "s3aUDLMnvEU6",
        "colab": {
          "base_uri": "https://localhost:8080/"
        },
        "outputId": "112dab10-b072-48f9-df31-18d5fdb05c34"
      },
      "outputs": [
        {
          "output_type": "stream",
          "name": "stdout",
          "text": [
            "[ 2.66139090e-01 -5.55941314e-02  5.30114114e-01 -4.28557694e-01\n",
            " -5.64947985e-02  5.98650984e-02  6.60363177e-04 -3.25709358e-02\n",
            " -2.51457728e-02  3.32040042e-01  1.27277091e-01 -3.08589220e-01\n",
            " -1.18016712e-01  5.41781858e-02 -2.58918315e-01  1.06868729e-01\n",
            "  5.84232137e-02  6.24724701e-02 -1.00899421e-01 -7.27873147e-02\n",
            " -1.92374155e-01  3.19619089e-01  7.79372826e-02  1.34914637e-01\n",
            " -1.43033087e-01  4.03938800e-01  9.31097418e-02  1.30083889e-01\n",
            " -2.54347712e-01  2.38186747e-01  2.89318204e-01 -1.61282159e-03\n",
            "  1.22172818e-01 -3.04940104e-01  5.10554900e-03 -4.60175984e-02\n",
            "  1.76703379e-01  4.16389965e-02  1.22613005e-01 -5.56141920e-02\n",
            " -4.02750999e-01  2.72052828e-03 -3.65206867e-01 -2.94951778e-02\n",
            "  1.30558819e-01  4.34606820e-02  3.37971538e-01  8.52769911e-02\n",
            "  1.89515904e-01  1.22471750e-01  1.53373405e-01 -7.05350712e-02\n",
            " -4.22652692e-01 -7.60423392e-02  1.02386430e-01  2.28531048e-01\n",
            "  1.23859502e-01 -3.58783066e-01 -3.97322476e-01  1.14974923e-01\n",
            " -1.78804100e-02  2.19145685e-01 -1.83515325e-01  9.97265801e-02\n",
            "  1.49168193e-01 -7.23803416e-02 -1.94942087e-01  1.68338269e-01\n",
            " -2.22694024e-01  5.26049435e-01 -6.16715364e-02  3.06879520e-01\n",
            "  9.38511547e-03 -1.47485167e-01  1.81573927e-01 -3.21119517e-01\n",
            " -2.25361615e-01 -1.47909597e-02 -2.60066241e-01  1.43760085e-01\n",
            "  5.33537939e-02 -4.90425117e-02 -2.40451053e-01  2.57346660e-01\n",
            " -3.18755060e-02  4.99958731e-02 -2.64524281e-01  1.19464613e-01\n",
            " -5.58337644e-02 -3.73742133e-02  1.14606477e-01  1.85294375e-01\n",
            "  2.36012507e-02 -6.29805699e-02  3.21787387e-01  1.33175313e-01\n",
            " -2.44395629e-01  3.96541536e-01 -1.99108183e-01 -2.97733359e-02\n",
            " -3.89612854e-01  3.25270891e-01  1.31715611e-01 -1.42582983e-01\n",
            " -6.84045851e-02 -4.39978749e-01 -1.55209005e-01  2.67415065e-02\n",
            " -4.03305218e-02 -1.28023565e-01 -1.21584073e-01  2.36766338e-01\n",
            " -6.86535954e-01  2.44849976e-02  6.11181557e-02 -8.49611685e-02\n",
            " -2.33409062e-01  4.27815989e-02 -1.34858936e-02  1.23620361e-01\n",
            "  1.23935997e-01  2.42264628e-01  9.30050910e-02  1.23035580e-01\n",
            "  2.80830096e-02  1.88289955e-02 -1.17072403e-01 -4.41759586e-01\n",
            " -2.34104872e-01  3.49585898e-02  2.60198385e-01  3.53179336e-01\n",
            " -2.07392931e-01 -3.56094718e-01 -4.02216613e-01  1.44240022e-01\n",
            "  4.21075011e-03 -1.72201216e-01 -4.95330617e-02 -2.10193604e-01\n",
            "  1.32766336e-01 -6.00789413e-02  1.70038268e-01 -4.44931649e-02\n",
            " -4.06548709e-01  1.34863228e-01  3.85377072e-02  1.34860054e-01\n",
            "  2.33799145e-01  1.82547388e-04  6.21287664e-03 -3.70832503e-01\n",
            " -2.42597133e-01 -2.28490353e-01  1.17794953e-01 -1.50266690e-02\n",
            "  1.01722188e-01 -2.94906199e-01  1.41950417e-02  8.18982944e-02\n",
            "  1.04245573e-01  3.80774379e-01  1.28652584e-02  2.54833937e-01\n",
            "  1.40977770e-01 -8.86709169e-02  2.23664463e-01  7.32117286e-03\n",
            "  1.57662071e-02  4.31073576e-01  1.93193808e-01 -1.46394193e-01\n",
            " -1.54758111e-01  3.11314553e-01  5.13734639e-01  2.55595595e-01\n",
            " -4.36469242e-02 -1.43564433e-01  1.70079768e-01  5.09526208e-02\n",
            " -1.32555179e-02 -4.05183844e-02  2.41455182e-01  1.52597502e-01\n",
            "  2.23162532e-01  3.69542651e-02  3.09309483e-01  4.56478000e-02\n",
            " -1.67972565e-01  2.16631591e-02  8.90355110e-02 -9.68130007e-02\n",
            "  3.27979326e-02 -4.42639619e-01 -1.09255463e-01  9.35290307e-02\n",
            "  1.36651114e-01 -2.16517374e-01 -2.08474934e-01 -7.07674325e-02\n",
            " -3.82528573e-01  7.85352215e-02 -9.66854244e-02 -1.09292164e-01\n",
            "  7.16954237e-03  8.75500664e-02  2.62855560e-01 -4.14300598e-02\n",
            "  4.05867957e-02 -2.15104613e-02 -4.52965610e-02  1.00781530e-01\n",
            "  6.15045652e-02 -3.46361473e-02  7.93880746e-02 -5.72799854e-02\n",
            "  2.63147324e-01  1.46574229e-01  5.35785221e-02 -1.38257891e-01\n",
            " -4.26478237e-02 -5.71039394e-02  9.28331688e-02 -7.24726096e-02\n",
            "  2.20605910e-01 -9.61646512e-02 -1.49534374e-01  3.66671830e-02\n",
            " -7.58101866e-02 -1.32708326e-01 -1.94670111e-01  6.07932284e-02\n",
            "  2.24065423e-01  4.90236953e-02  1.26959048e-02 -2.07725856e-02\n",
            "  1.89286813e-01  3.06680739e-01  1.57905564e-01  1.31491274e-01\n",
            " -2.46879715e-03  1.43769130e-01  4.81402278e-01  1.35126546e-01\n",
            " -1.30768508e-01  3.31131995e-01 -1.03596747e-01  4.44067568e-02\n",
            " -5.34629673e-02 -3.40720952e-01  5.03311083e-02 -4.29118983e-02\n",
            "  7.48369247e-02 -1.10989340e-01 -3.96005034e-01  3.12847495e-01\n",
            "  2.24261746e-01  1.66602224e-01 -1.62407547e-01 -6.95440471e-02\n",
            "  1.40701711e-01 -3.23009431e-01 -4.10570130e-02  3.74863297e-02\n",
            " -2.50093043e-01 -1.80526704e-01  2.08640307e-01  1.79649189e-01\n",
            " -5.92477359e-02 -6.33873418e-02  3.30926925e-02 -1.76590711e-01\n",
            "  2.90104210e-01  1.16456099e-01  6.86612502e-02  5.07407784e-02\n",
            "  1.31085575e-01  3.91055457e-02 -1.19079210e-01  3.93000960e-01\n",
            " -3.80911738e-01 -2.40616992e-01 -3.76667380e-01  1.20255895e-01\n",
            " -1.09893732e-01 -1.26542866e-01 -1.46769717e-01 -1.17657684e-01\n",
            "  3.84269506e-01 -1.96896680e-02  1.72686189e-01 -1.10956125e-01\n",
            "  3.60879242e-01  2.17117965e-01  3.22017908e-01  9.75475088e-02\n",
            "  2.49312997e-01 -1.26979902e-01 -1.80944860e-01 -2.94485521e-02\n",
            "  2.35607833e-01  2.58448943e-02  1.03425883e-01  3.99993539e-01\n",
            "  9.82887000e-02 -2.05384478e-01 -1.14157982e-01 -7.35479742e-02\n",
            " -4.50832993e-01 -3.24159890e-01  1.34363323e-01 -4.33317780e-01\n",
            "  1.06279783e-01 -7.04059005e-02 -4.10288461e-02 -1.96549430e-01\n",
            "  3.47319007e-01 -3.24298620e-01 -2.40142107e-01 -2.99747884e-01\n",
            " -2.00436160e-01  2.00772345e-01  3.32698345e-01 -7.03475848e-02\n",
            " -1.30490392e-01 -4.91871163e-02  2.70829886e-01 -1.26279101e-01\n",
            " -3.52112055e-01 -1.09406985e-01 -6.83723018e-02 -1.93811804e-01\n",
            "  1.93208307e-01  1.94293424e-01  2.79158503e-01 -3.83135043e-02\n",
            "  2.85912216e-01  1.84737947e-02 -1.00180142e-01 -2.69279242e-01\n",
            "  2.59447068e-01  4.13458720e-02  9.71414987e-03  7.41492584e-02\n",
            "  3.92328292e-01  3.47323805e-01 -9.35742185e-02 -8.91811177e-02\n",
            "  3.08878690e-01 -4.02765423e-02 -1.17696330e-01 -4.08889383e-01\n",
            " -4.44664806e-02 -4.29714173e-01  8.85751322e-02  1.72493830e-01\n",
            "  2.10598379e-01  3.00603241e-01  1.14112049e-01  2.59051114e-01\n",
            "  8.99918377e-02 -1.51355535e-01 -1.11968182e-01 -9.10109282e-03\n",
            "  3.12760286e-03  3.84878874e-01 -2.79553741e-01  1.43686146e-01\n",
            "  1.02249481e-01 -1.50419354e-01 -1.32488802e-01 -3.18396427e-02\n",
            "  2.32257262e-01 -2.75023878e-02  3.37372050e-02 -5.52599207e-02\n",
            " -2.47019112e-01 -4.44486998e-02  1.75575688e-01 -4.89262259e-03\n",
            " -7.43812919e-02  1.01404049e-01 -2.96084642e-01  4.13419269e-02\n",
            "  3.11157018e-01 -1.37840146e-02 -1.87309608e-02  8.16023815e-03\n",
            "  2.42517382e-01  1.25753343e-01  2.12991282e-01  1.10078519e-02\n",
            " -2.91004758e-02 -3.55751157e-01  2.47670680e-01 -2.26154909e-01\n",
            "  4.80476096e-02 -3.58113021e-01  3.14902484e-01 -2.08861291e-01]\n"
          ]
        }
      ],
      "source": [
        "# el método `get_vector` permite obtener los vectores:\n",
        "vector_ring = w2v_model_sherlock.wv.get_vector(\"ring\")\n",
        "print(vector_ring)"
      ]
    },
    {
      "cell_type": "code",
      "execution_count": 111,
      "metadata": {
        "id": "towPyfVovEU6",
        "colab": {
          "base_uri": "https://localhost:8080/"
        },
        "outputId": "4fe2b41d-80cf-4ce4-ae93-1788b6fef3a7"
      },
      "outputs": [
        {
          "output_type": "execute_result",
          "data": {
            "text/plain": [
              "[('ring', 1.0000001192092896),\n",
              " ('ryder', 0.5212765336036682),\n",
              " ('“holmes', 0.5087913870811462),\n",
              " ('envelope', 0.4911746382713318),\n",
              " ('raised', 0.47057822346687317),\n",
              " ('heavens', 0.4608837962150574),\n",
              " ('rope', 0.4524785280227661),\n",
              " ('bridge', 0.44794225692749023),\n",
              " ('finished', 0.44571903347969055),\n",
              " ('suspicion', 0.44034940004348755)]"
            ]
          },
          "metadata": {},
          "execution_count": 111
        }
      ],
      "source": [
        "# el método `most_similar` también permite comparar a partir de vectores\n",
        "w2v_model_sherlock.wv.most_similar(vector_ring)"
      ]
    },
    {
      "cell_type": "code",
      "execution_count": 112,
      "metadata": {
        "id": "rcjOBl8tvEU6",
        "colab": {
          "base_uri": "https://localhost:8080/"
        },
        "outputId": "0f317372-98f2-40c1-e634-465769188693"
      },
      "outputs": [
        {
          "output_type": "execute_result",
          "data": {
            "text/plain": [
              "[('ryder', 0.5212765336036682),\n",
              " ('“holmes', 0.5087913870811462),\n",
              " ('envelope', 0.4911746680736542),\n",
              " ('raised', 0.47057822346687317),\n",
              " ('heavens', 0.46088382601737976),\n",
              " ('rope', 0.4524785280227661),\n",
              " ('bridge', 0.4479422867298126),\n",
              " ('finished', 0.44571903347969055),\n",
              " ('suspicion', 0.44034940004348755),\n",
              " ('thinking', 0.4375634789466858)]"
            ]
          },
          "metadata": {},
          "execution_count": 112
        }
      ],
      "source": [
        "# Palabras que MÁS se relacionan con...:\n",
        "w2v_model_sherlock.wv.most_similar(positive=[\"ring\"], topn=10)"
      ]
    },
    {
      "cell_type": "markdown",
      "source": [
        "Se puede ver facilmente que ambos métodos llevan al mismo resultado.\n",
        "\n",
        "El término \"ring\" (anillo) puede ser tanto el objeto como \"llamar a la puerta/tocar el timbre/llamar por teléfono\". Se observa como los términos similares concuerdan con alguno de esos casos."
      ],
      "metadata": {
        "id": "-8CCdtP7zuS0"
      }
    },
    {
      "cell_type": "markdown",
      "metadata": {
        "id": "_g8UVWe6lFmh"
      },
      "source": [
        "### 5 - Visualizar agrupación de vectores"
      ]
    },
    {
      "cell_type": "code",
      "execution_count": 113,
      "metadata": {
        "id": "pDxEVXAivjr9"
      },
      "outputs": [],
      "source": [
        "from sklearn.decomposition import IncrementalPCA\n",
        "from sklearn.manifold import TSNE\n",
        "import numpy as np\n",
        "\n",
        "def reduce_dimensions(model, num_dimensions = 2 ):\n",
        "\n",
        "    vectors = np.asarray(model.wv.vectors)\n",
        "    labels = np.asarray(model.wv.index_to_key)\n",
        "\n",
        "    tsne = TSNE(n_components=num_dimensions, random_state=0)\n",
        "    vectors = tsne.fit_transform(vectors)\n",
        "\n",
        "    return vectors, labels"
      ]
    },
    {
      "cell_type": "code",
      "execution_count": 114,
      "metadata": {
        "id": "NCCXtDpcugmd",
        "colab": {
          "base_uri": "https://localhost:8080/",
          "height": 562
        },
        "outputId": "473933f2-a145-473d-9db2-cf5c0c6a222c"
      },
      "outputs": [
        {
          "output_type": "display_data",
          "data": {
            "text/html": [
              "<html>\n",
              "<head><meta charset=\"utf-8\" /></head>\n",
              "<body>\n",
              "    <div>            <script src=\"https://cdnjs.cloudflare.com/ajax/libs/mathjax/2.7.5/MathJax.js?config=TeX-AMS-MML_SVG\"></script><script type=\"text/javascript\">if (window.MathJax && window.MathJax.Hub && window.MathJax.Hub.Config) {window.MathJax.Hub.Config({SVG: {font: \"STIX-Web\"}});}</script>                <script type=\"text/javascript\">window.PlotlyConfig = {MathJaxConfig: 'local'};</script>\n",
              "        <script charset=\"utf-8\" src=\"https://cdn.plot.ly/plotly-2.35.2.min.js\"></script>                <div id=\"cdd412c6-b805-45d4-b6b1-cafb5f7edf4a\" class=\"plotly-graph-div\" style=\"height:525px; width:100%;\"></div>            <script type=\"text/javascript\">                                    window.PLOTLYENV=window.PLOTLYENV || {};                                    if (document.getElementById(\"cdd412c6-b805-45d4-b6b1-cafb5f7edf4a\")) {                    Plotly.newPlot(                        \"cdd412c6-b805-45d4-b6b1-cafb5f7edf4a\",                        [{\"hovertemplate\":\"x=%{x}\\u003cbr\\u003ey=%{y}\\u003cbr\\u003etext=%{text}\\u003cextra\\u003e\\u003c\\u002fextra\\u003e\",\"legendgroup\":\"\",\"marker\":{\"color\":\"#636efa\",\"symbol\":\"circle\"},\"mode\":\"markers+text\",\"name\":\"\",\"orientation\":\"v\",\"showlegend\":false,\"text\":[\"the\",\"and\",\"to\",\"of\",\"i\",\"a\",\"\\u201d\",\"in\",\"that\",\"it\",\"he\",\"was\",\"you\",\"his\",\"is\",\"my\",\"have\",\"as\",\"with\",\"had\",\"which\",\"at\",\"for\",\"me\",\"be\",\"not\",\"but\",\"we\",\"from\",\"said\",\"upon\",\"there\",\"this\",\"holmes\",\"him\",\"so\",\"her\",\"she\",\"\\u2019\",\"been\",\"all\",\"very\",\"your\",\"on\",\"one\",\"\\u201ci\",\"were\",\"by\",\"are\",\"an\",\"would\",\"out\",\"no\",\"what\",\"then\",\"when\",\"up\",\"man\",\"could\",\"has\",\"into\",\"little\",\"do\",\"mr\",\"who\",\"will\",\"some\",\"if\",\"down\",\"see\",\"now\",\"should\",\"our\",\"or\",\"may\",\"am\",\"over\",\"us\",\"they\",\"think\",\"more\",\"room\",\"know\",\"shall\",\"can\",\"about\",\"before\",\"must\",\"than\",\"only\",\"come\",\"time\",\"other\",\"came\",\"them\",\"two\",\"did\",\"door\",\"back\",\"\\u201cit\",\"any\",\"face\",\"might\",\"matter\",\"good\",\"\\u201cyou\",\"much\",\"hand\",\"just\",\"house\",\"way\",\"case\",\"well\",\"how\",\"heard\",\"here\",\"\\u201cand\",\"night\",\"such\",\"made\",\"where\",\"however\",\"found\",\"day\",\"away\",\"morning\",\"own\",\"nothing\",\"right\",\"go\",\"after\",\"like\",\"never\",\"their\",\"sherlock\",\"tell\",\"say\",\"left\",\"last\",\"through\",\"\\u201cyes\",\"quite\",\"saw\",\"asked\",\"side\",\"\\u201cbut\",\"eyes\",\"most\",\"long\",\"once\",\"its\",\"miss\",\"took\",\"yet\",\"first\",\"st\",\"street\",\"every\",\"young\",\"round\",\"too\",\"find\",\"watson\",\"take\",\"\\u201cthe\",\"small\",\"these\",\"still\",\"myself\",\"thought\",\"few\",\"sir\",\"light\",\"\\u201cwell\",\"off\",\"until\",\"business\",\"make\",\"himself\",\"hands\",\"father\",\"without\",\"window\",\"old\",\"seen\",\"three\",\"even\",\"ever\",\"lady\",\"friend\",\"look\",\"cried\",\"head\",\"seemed\",\"went\",\"put\",\"having\",\"those\",\"while\",\"again\"],\"x\":[-1.7071812152862549,-1.5269641876220703,-3.1724812984466553,-1.7202668190002441,1.0064674615859985,-1.6041548252105713,-4.5346856117248535,-1.7206661701202393,4.427399635314941,1.5748153924942017,-6.093161582946777,8.386470794677734,0.8439679145812988,7.582552909851074,8.923460960388184,15.126354217529297,5.13091516494751,7.598544597625732,-1.320206880569458,13.383414268493652,-2.5010974407196045,-5.155275344848633,-1.8965116739273071,2.5846023559570312,5.465702056884766,0.39314648509025574,0.2646198272705078,1.2477225065231323,-8.843022346496582,-6.0763020515441895,-0.4867706000804901,3.5537941455841064,-1.3708182573318481,-7.905385494232178,7.954739093780518,5.43798828125,8.051339149475098,-6.188378810882568,-3.537933826446533,10.669332504272461,-8.928131103515625,11.57923698425293,8.611981391906738,-10.06655216217041,-2.7963132858276367,1.0849266052246094,-0.1347624808549881,-0.17427657544612885,6.689774990081787,-1.4841631650924683,9.839266777038574,-0.5525456070899963,-2.8929693698883057,-0.7159937620162964,-4.898842811584473,-12.90244197845459,0.8853937983512878,6.339858055114746,-0.934565544128418,4.677483558654785,-5.213461399078369,7.68121862411499,-0.5604023933410645,-14.306607246398926,12.791306495666504,-1.882370114326477,-2.7563228607177734,2.359550952911377,-8.060881614685059,5.325547695159912,3.855458974838257,10.288717269897461,-7.662947177886963,-14.90007209777832,1.6596078872680664,7.582338809967041,-11.698963165283203,-12.325428009033203,-0.056868188083171844,5.534153938293457,1.6577478647232056,3.292614698410034,1.5618335008621216,-2.9672844409942627,-1.8815767765045166,-12.628911972045898,17.923627853393555,-2.538905382156372,-6.7104692459106445,14.636598587036133,-7.843050956726074,-5.058835983276367,-7.597292423248291,-3.762371778488159,13.561694145202637,-12.93213176727295,-1.9110000133514404,-5.998283386230469,-0.16890716552734375,1.7238677740097046,-4.976576805114746,6.13399600982666,9.763504028320312,0.38482844829559326,5.60133171081543,1.1966497898101807,6.67655086517334,6.287333965301514,-14.848687171936035,-5.011463165283203,1.4336847066879272,-3.964027166366577,1.425995945930481,-1.3559141159057617,13.685619354248047,-9.46031665802002,-1.3874704837799072,-17.331741333007812,2.179513692855835,13.776509284973145,-1.2686651945114136,5.515523910522461,16.061267852783203,-14.06112289428711,-0.26785072684288025,-14.334829330444336,6.633710861206055,11.337899208068848,16.19190216064453,9.0266695022583,-12.922211647033691,8.517281532287598,9.375838279724121,9.702125549316406,10.803712844848633,6.10512638092041,2.333249568939209,-19.1696720123291,-16.58091163635254,-6.399276256561279,-7.023386001586914,14.950455665588379,-2.9649670124053955,-1.6936684846878052,-1.9572888612747192,-2.689537763595581,5.3585638999938965,1.4340399503707886,3.070263385772705,11.174025535583496,6.3106608390808105,14.09032917022705,7.740816116333008,0.6158562302589417,-10.898209571838379,-15.97600269317627,-13.91012954711914,4.570195198059082,9.267301559448242,-4.946564197540283,10.668737411499023,4.016200542449951,-0.4273527264595032,4.472808837890625,-8.094167709350586,-0.37517082691192627,-6.483486652374268,16.66794204711914,10.005614280700684,7.89862585067749,-5.564375877380371,-6.337984561920166,-3.179129123687744,-3.102303981781006,-10.278005599975586,-18.308950424194336,-2.994849681854248,6.366015911102295,11.80876350402832,6.262795925140381,16.975749969482422,12.956303596496582,-3.8759822845458984,-0.5479741096496582,12.278090476989746,-14.63398551940918,7.671726703643799,13.274365425109863,5.462407112121582,0.014525888487696648,7.841100692749023,-6.323017597198486,6.771803855895996,12.810423851013184,-1.243737816810608,14.037755966186523,-16.669870376586914,-6.8072896003723145,-1.5167919397354126,-16.880046844482422],\"xaxis\":\"x\",\"y\":[4.727235794067383,4.796095848083496,-0.8083093166351318,4.701017379760742,-15.907526969909668,4.763500690460205,-15.572976112365723,4.84544563293457,-5.694777965545654,-7.5521721839904785,-8.953638076782227,-0.12479648739099503,-15.972260475158691,10.041255950927734,0.19170086085796356,8.463982582092285,-9.585616111755371,1.1274796724319458,5.119926452636719,3.4671123027801514,4.405198574066162,1.675419807434082,0.803105890750885,-15.748514175415039,-11.107673645019531,-14.704789161682129,0.12761317193508148,-16.25420379638672,-1.1764941215515137,-13.638408660888672,5.575477600097656,-20.171751022338867,3.8761258125305176,-11.119193077087402,10.512726783752441,-4.874593734741211,6.002628803253174,-8.985278129577637,-10.926177024841309,-2.741955041885376,-1.8808034658432007,-9.049275398254395,-18.99646759033203,-14.333553314208984,6.449580192565918,-15.915375709533691,2.7904248237609863,4.2413249015808105,-19.612276077270508,3.125389337539673,-17.06894874572754,8.200582504272461,-4.784677505493164,-13.790247917175293,-16.846651077270508,-14.270514488220215,7.451504707336426,5.009255409240723,-16.261537551879883,-7.801183223724365,6.537651538848877,-8.683432579040527,-15.573020935058594,-6.259751319885254,-0.43533021211624146,-15.312728881835938,1.632807970046997,-11.821977615356445,11.88953971862793,-9.926298141479492,-15.631058692932129,-14.297910690307617,2.2075138092041016,-10.332605361938477,-10.4858980178833,-15.83814525604248,-10.633279800415039,-1.4799975156784058,2.10099720954895,-16.399106979370117,-2.3660783767700195,14.40139102935791,-14.465266227722168,-17.669429779052734,-18.778467178344727,0.5416276454925537,-2.082683563232422,-19.564647674560547,2.1357035636901855,4.599933624267578,-6.080785274505615,-1.7930488586425781,-2.9374310970306396,4.845747947692871,-6.218837261199951,3.440173387527466,-14.568181991577148,15.401228904724121,7.100417137145996,-7.592846870422363,-5.722806453704834,9.284128189086914,-0.38422948122024536,-3.5143349170684814,-7.76749849319458,-17.479867935180664,-3.7830138206481934,12.637432098388672,-13.204081535339355,4.336673259735107,2.4356191158294678,-2.4612390995025635,-19.55799102783203,-8.704815864562988,5.850749969482422,-0.7582433819770813,-12.615640640258789,2.0173847675323486,-4.359321594238281,9.963275909423828,6.367941856384277,3.448140859603882,10.707555770874023,0.5412603616714478,6.046265602111816,1.1376605033874512,2.154090404510498,-6.407569408416748,-9.156879425048828,-12.292259216308594,0.7568671703338623,-3.1486916542053223,-7.393270015716553,-8.659790992736816,-8.075711250305176,-14.06947135925293,-13.747509002685547,0.16719059646129608,0.5929903984069824,12.651286125183105,-14.093611717224121,-6.170495510101318,15.372383117675781,-12.159255027770996,11.410445213317871,-10.635499954223633,11.118123054504395,0.24580009281635284,2.754127264022827,8.366007804870605,1.2826496362686157,-3.765136957168579,19.465003967285156,1.1149789094924927,-1.1889456510543823,-5.6231560707092285,-3.141680955886841,2.2650322914123535,-2.142199754714966,8.23743724822998,-10.312533378601074,-11.33423137664795,-14.833145141601562,-11.380739212036133,-16.749576568603516,4.799604892730713,-2.1940460205078125,-6.572675704956055,16.802553176879883,4.063564300537109,4.479022026062012,-15.409430503845215,12.91614055633545,-13.045537948608398,0.8964025378227234,-8.871963500976562,-1.3863539695739746,-11.33061695098877,9.864097595214844,11.210527420043945,-3.7673473358154297,-7.807182788848877,15.489174842834473,-8.698935508728027,3.652458667755127,7.641510486602783,2.8208494186401367,4.6054463386535645,2.108668565750122,0.7246431708335876,-9.010775566101074,-12.574511528015137,11.721577644348145,-11.12645435333252,21.59779167175293,-12.765724182128906,-11.914674758911133,4.030195236206055,6.930943965911865,-1.26209557056427],\"yaxis\":\"y\",\"type\":\"scatter\"}],                        {\"template\":{\"data\":{\"histogram2dcontour\":[{\"type\":\"histogram2dcontour\",\"colorbar\":{\"outlinewidth\":0,\"ticks\":\"\"},\"colorscale\":[[0.0,\"#0d0887\"],[0.1111111111111111,\"#46039f\"],[0.2222222222222222,\"#7201a8\"],[0.3333333333333333,\"#9c179e\"],[0.4444444444444444,\"#bd3786\"],[0.5555555555555556,\"#d8576b\"],[0.6666666666666666,\"#ed7953\"],[0.7777777777777778,\"#fb9f3a\"],[0.8888888888888888,\"#fdca26\"],[1.0,\"#f0f921\"]]}],\"choropleth\":[{\"type\":\"choropleth\",\"colorbar\":{\"outlinewidth\":0,\"ticks\":\"\"}}],\"histogram2d\":[{\"type\":\"histogram2d\",\"colorbar\":{\"outlinewidth\":0,\"ticks\":\"\"},\"colorscale\":[[0.0,\"#0d0887\"],[0.1111111111111111,\"#46039f\"],[0.2222222222222222,\"#7201a8\"],[0.3333333333333333,\"#9c179e\"],[0.4444444444444444,\"#bd3786\"],[0.5555555555555556,\"#d8576b\"],[0.6666666666666666,\"#ed7953\"],[0.7777777777777778,\"#fb9f3a\"],[0.8888888888888888,\"#fdca26\"],[1.0,\"#f0f921\"]]}],\"heatmap\":[{\"type\":\"heatmap\",\"colorbar\":{\"outlinewidth\":0,\"ticks\":\"\"},\"colorscale\":[[0.0,\"#0d0887\"],[0.1111111111111111,\"#46039f\"],[0.2222222222222222,\"#7201a8\"],[0.3333333333333333,\"#9c179e\"],[0.4444444444444444,\"#bd3786\"],[0.5555555555555556,\"#d8576b\"],[0.6666666666666666,\"#ed7953\"],[0.7777777777777778,\"#fb9f3a\"],[0.8888888888888888,\"#fdca26\"],[1.0,\"#f0f921\"]]}],\"heatmapgl\":[{\"type\":\"heatmapgl\",\"colorbar\":{\"outlinewidth\":0,\"ticks\":\"\"},\"colorscale\":[[0.0,\"#0d0887\"],[0.1111111111111111,\"#46039f\"],[0.2222222222222222,\"#7201a8\"],[0.3333333333333333,\"#9c179e\"],[0.4444444444444444,\"#bd3786\"],[0.5555555555555556,\"#d8576b\"],[0.6666666666666666,\"#ed7953\"],[0.7777777777777778,\"#fb9f3a\"],[0.8888888888888888,\"#fdca26\"],[1.0,\"#f0f921\"]]}],\"contourcarpet\":[{\"type\":\"contourcarpet\",\"colorbar\":{\"outlinewidth\":0,\"ticks\":\"\"}}],\"contour\":[{\"type\":\"contour\",\"colorbar\":{\"outlinewidth\":0,\"ticks\":\"\"},\"colorscale\":[[0.0,\"#0d0887\"],[0.1111111111111111,\"#46039f\"],[0.2222222222222222,\"#7201a8\"],[0.3333333333333333,\"#9c179e\"],[0.4444444444444444,\"#bd3786\"],[0.5555555555555556,\"#d8576b\"],[0.6666666666666666,\"#ed7953\"],[0.7777777777777778,\"#fb9f3a\"],[0.8888888888888888,\"#fdca26\"],[1.0,\"#f0f921\"]]}],\"surface\":[{\"type\":\"surface\",\"colorbar\":{\"outlinewidth\":0,\"ticks\":\"\"},\"colorscale\":[[0.0,\"#0d0887\"],[0.1111111111111111,\"#46039f\"],[0.2222222222222222,\"#7201a8\"],[0.3333333333333333,\"#9c179e\"],[0.4444444444444444,\"#bd3786\"],[0.5555555555555556,\"#d8576b\"],[0.6666666666666666,\"#ed7953\"],[0.7777777777777778,\"#fb9f3a\"],[0.8888888888888888,\"#fdca26\"],[1.0,\"#f0f921\"]]}],\"mesh3d\":[{\"type\":\"mesh3d\",\"colorbar\":{\"outlinewidth\":0,\"ticks\":\"\"}}],\"scatter\":[{\"fillpattern\":{\"fillmode\":\"overlay\",\"size\":10,\"solidity\":0.2},\"type\":\"scatter\"}],\"parcoords\":[{\"type\":\"parcoords\",\"line\":{\"colorbar\":{\"outlinewidth\":0,\"ticks\":\"\"}}}],\"scatterpolargl\":[{\"type\":\"scatterpolargl\",\"marker\":{\"colorbar\":{\"outlinewidth\":0,\"ticks\":\"\"}}}],\"bar\":[{\"error_x\":{\"color\":\"#2a3f5f\"},\"error_y\":{\"color\":\"#2a3f5f\"},\"marker\":{\"line\":{\"color\":\"#E5ECF6\",\"width\":0.5},\"pattern\":{\"fillmode\":\"overlay\",\"size\":10,\"solidity\":0.2}},\"type\":\"bar\"}],\"scattergeo\":[{\"type\":\"scattergeo\",\"marker\":{\"colorbar\":{\"outlinewidth\":0,\"ticks\":\"\"}}}],\"scatterpolar\":[{\"type\":\"scatterpolar\",\"marker\":{\"colorbar\":{\"outlinewidth\":0,\"ticks\":\"\"}}}],\"histogram\":[{\"marker\":{\"pattern\":{\"fillmode\":\"overlay\",\"size\":10,\"solidity\":0.2}},\"type\":\"histogram\"}],\"scattergl\":[{\"type\":\"scattergl\",\"marker\":{\"colorbar\":{\"outlinewidth\":0,\"ticks\":\"\"}}}],\"scatter3d\":[{\"type\":\"scatter3d\",\"line\":{\"colorbar\":{\"outlinewidth\":0,\"ticks\":\"\"}},\"marker\":{\"colorbar\":{\"outlinewidth\":0,\"ticks\":\"\"}}}],\"scattermapbox\":[{\"type\":\"scattermapbox\",\"marker\":{\"colorbar\":{\"outlinewidth\":0,\"ticks\":\"\"}}}],\"scatterternary\":[{\"type\":\"scatterternary\",\"marker\":{\"colorbar\":{\"outlinewidth\":0,\"ticks\":\"\"}}}],\"scattercarpet\":[{\"type\":\"scattercarpet\",\"marker\":{\"colorbar\":{\"outlinewidth\":0,\"ticks\":\"\"}}}],\"carpet\":[{\"aaxis\":{\"endlinecolor\":\"#2a3f5f\",\"gridcolor\":\"white\",\"linecolor\":\"white\",\"minorgridcolor\":\"white\",\"startlinecolor\":\"#2a3f5f\"},\"baxis\":{\"endlinecolor\":\"#2a3f5f\",\"gridcolor\":\"white\",\"linecolor\":\"white\",\"minorgridcolor\":\"white\",\"startlinecolor\":\"#2a3f5f\"},\"type\":\"carpet\"}],\"table\":[{\"cells\":{\"fill\":{\"color\":\"#EBF0F8\"},\"line\":{\"color\":\"white\"}},\"header\":{\"fill\":{\"color\":\"#C8D4E3\"},\"line\":{\"color\":\"white\"}},\"type\":\"table\"}],\"barpolar\":[{\"marker\":{\"line\":{\"color\":\"#E5ECF6\",\"width\":0.5},\"pattern\":{\"fillmode\":\"overlay\",\"size\":10,\"solidity\":0.2}},\"type\":\"barpolar\"}],\"pie\":[{\"automargin\":true,\"type\":\"pie\"}]},\"layout\":{\"autotypenumbers\":\"strict\",\"colorway\":[\"#636efa\",\"#EF553B\",\"#00cc96\",\"#ab63fa\",\"#FFA15A\",\"#19d3f3\",\"#FF6692\",\"#B6E880\",\"#FF97FF\",\"#FECB52\"],\"font\":{\"color\":\"#2a3f5f\"},\"hovermode\":\"closest\",\"hoverlabel\":{\"align\":\"left\"},\"paper_bgcolor\":\"white\",\"plot_bgcolor\":\"#E5ECF6\",\"polar\":{\"bgcolor\":\"#E5ECF6\",\"angularaxis\":{\"gridcolor\":\"white\",\"linecolor\":\"white\",\"ticks\":\"\"},\"radialaxis\":{\"gridcolor\":\"white\",\"linecolor\":\"white\",\"ticks\":\"\"}},\"ternary\":{\"bgcolor\":\"#E5ECF6\",\"aaxis\":{\"gridcolor\":\"white\",\"linecolor\":\"white\",\"ticks\":\"\"},\"baxis\":{\"gridcolor\":\"white\",\"linecolor\":\"white\",\"ticks\":\"\"},\"caxis\":{\"gridcolor\":\"white\",\"linecolor\":\"white\",\"ticks\":\"\"}},\"coloraxis\":{\"colorbar\":{\"outlinewidth\":0,\"ticks\":\"\"}},\"colorscale\":{\"sequential\":[[0.0,\"#0d0887\"],[0.1111111111111111,\"#46039f\"],[0.2222222222222222,\"#7201a8\"],[0.3333333333333333,\"#9c179e\"],[0.4444444444444444,\"#bd3786\"],[0.5555555555555556,\"#d8576b\"],[0.6666666666666666,\"#ed7953\"],[0.7777777777777778,\"#fb9f3a\"],[0.8888888888888888,\"#fdca26\"],[1.0,\"#f0f921\"]],\"sequentialminus\":[[0.0,\"#0d0887\"],[0.1111111111111111,\"#46039f\"],[0.2222222222222222,\"#7201a8\"],[0.3333333333333333,\"#9c179e\"],[0.4444444444444444,\"#bd3786\"],[0.5555555555555556,\"#d8576b\"],[0.6666666666666666,\"#ed7953\"],[0.7777777777777778,\"#fb9f3a\"],[0.8888888888888888,\"#fdca26\"],[1.0,\"#f0f921\"]],\"diverging\":[[0,\"#8e0152\"],[0.1,\"#c51b7d\"],[0.2,\"#de77ae\"],[0.3,\"#f1b6da\"],[0.4,\"#fde0ef\"],[0.5,\"#f7f7f7\"],[0.6,\"#e6f5d0\"],[0.7,\"#b8e186\"],[0.8,\"#7fbc41\"],[0.9,\"#4d9221\"],[1,\"#276419\"]]},\"xaxis\":{\"gridcolor\":\"white\",\"linecolor\":\"white\",\"ticks\":\"\",\"title\":{\"standoff\":15},\"zerolinecolor\":\"white\",\"automargin\":true,\"zerolinewidth\":2},\"yaxis\":{\"gridcolor\":\"white\",\"linecolor\":\"white\",\"ticks\":\"\",\"title\":{\"standoff\":15},\"zerolinecolor\":\"white\",\"automargin\":true,\"zerolinewidth\":2},\"scene\":{\"xaxis\":{\"backgroundcolor\":\"#E5ECF6\",\"gridcolor\":\"white\",\"linecolor\":\"white\",\"showbackground\":true,\"ticks\":\"\",\"zerolinecolor\":\"white\",\"gridwidth\":2},\"yaxis\":{\"backgroundcolor\":\"#E5ECF6\",\"gridcolor\":\"white\",\"linecolor\":\"white\",\"showbackground\":true,\"ticks\":\"\",\"zerolinecolor\":\"white\",\"gridwidth\":2},\"zaxis\":{\"backgroundcolor\":\"#E5ECF6\",\"gridcolor\":\"white\",\"linecolor\":\"white\",\"showbackground\":true,\"ticks\":\"\",\"zerolinecolor\":\"white\",\"gridwidth\":2}},\"shapedefaults\":{\"line\":{\"color\":\"#2a3f5f\"}},\"annotationdefaults\":{\"arrowcolor\":\"#2a3f5f\",\"arrowhead\":0,\"arrowwidth\":1},\"geo\":{\"bgcolor\":\"white\",\"landcolor\":\"#E5ECF6\",\"subunitcolor\":\"white\",\"showland\":true,\"showlakes\":true,\"lakecolor\":\"white\"},\"title\":{\"x\":0.05},\"mapbox\":{\"style\":\"light\"}}},\"xaxis\":{\"anchor\":\"y\",\"domain\":[0.0,1.0],\"title\":{\"text\":\"x\"}},\"yaxis\":{\"anchor\":\"x\",\"domain\":[0.0,1.0],\"title\":{\"text\":\"y\"}},\"legend\":{\"tracegroupgap\":0},\"margin\":{\"t\":60}},                        {\"responsive\": true}                    ).then(function(){\n",
              "                            \n",
              "var gd = document.getElementById('cdd412c6-b805-45d4-b6b1-cafb5f7edf4a');\n",
              "var x = new MutationObserver(function (mutations, observer) {{\n",
              "        var display = window.getComputedStyle(gd).display;\n",
              "        if (!display || display === 'none') {{\n",
              "            console.log([gd, 'removed!']);\n",
              "            Plotly.purge(gd);\n",
              "            observer.disconnect();\n",
              "        }}\n",
              "}});\n",
              "\n",
              "// Listen for the removal of the full notebook cells\n",
              "var notebookContainer = gd.closest('#notebook-container');\n",
              "if (notebookContainer) {{\n",
              "    x.observe(notebookContainer, {childList: true});\n",
              "}}\n",
              "\n",
              "// Listen for the clearing of the current output cell\n",
              "var outputEl = gd.closest('.output');\n",
              "if (outputEl) {{\n",
              "    x.observe(outputEl, {childList: true});\n",
              "}}\n",
              "\n",
              "                        })                };                            </script>        </div>\n",
              "</body>\n",
              "</html>"
            ]
          },
          "metadata": {}
        }
      ],
      "source": [
        "# Graficar los embedddings en 2D\n",
        "import plotly.graph_objects as go\n",
        "import plotly.express as px\n",
        "\n",
        "vecs, labels = reduce_dimensions(w2v_model_sherlock)\n",
        "\n",
        "MAX_WORDS=200\n",
        "fig = px.scatter(x=vecs[:MAX_WORDS,0], y=vecs[:MAX_WORDS,1], text=labels[:MAX_WORDS])\n",
        "fig.show(renderer=\"colab\") # esto para plotly en colab"
      ]
    },
    {
      "cell_type": "code",
      "execution_count": 115,
      "metadata": {
        "id": "tIoLBBpXvEU7",
        "colab": {
          "base_uri": "https://localhost:8080/",
          "height": 562
        },
        "outputId": "5343bf52-b6ee-44c1-84b6-449478d7d1e7"
      },
      "outputs": [
        {
          "output_type": "display_data",
          "data": {
            "text/html": [
              "<html>\n",
              "<head><meta charset=\"utf-8\" /></head>\n",
              "<body>\n",
              "    <div>            <script src=\"https://cdnjs.cloudflare.com/ajax/libs/mathjax/2.7.5/MathJax.js?config=TeX-AMS-MML_SVG\"></script><script type=\"text/javascript\">if (window.MathJax && window.MathJax.Hub && window.MathJax.Hub.Config) {window.MathJax.Hub.Config({SVG: {font: \"STIX-Web\"}});}</script>                <script type=\"text/javascript\">window.PlotlyConfig = {MathJaxConfig: 'local'};</script>\n",
              "        <script charset=\"utf-8\" src=\"https://cdn.plot.ly/plotly-2.35.2.min.js\"></script>                <div id=\"eb0b533c-dbf8-40c8-a45d-d1ac0055be0d\" class=\"plotly-graph-div\" style=\"height:525px; width:100%;\"></div>            <script type=\"text/javascript\">                                    window.PLOTLYENV=window.PLOTLYENV || {};                                    if (document.getElementById(\"eb0b533c-dbf8-40c8-a45d-d1ac0055be0d\")) {                    Plotly.newPlot(                        \"eb0b533c-dbf8-40c8-a45d-d1ac0055be0d\",                        [{\"hovertemplate\":\"x=%{x}\\u003cbr\\u003ey=%{y}\\u003cbr\\u003ez=%{z}\\u003cbr\\u003etext=%{text}\\u003cextra\\u003e\\u003c\\u002fextra\\u003e\",\"legendgroup\":\"\",\"marker\":{\"color\":\"#636efa\",\"symbol\":\"circle\",\"size\":2},\"mode\":\"markers+text\",\"name\":\"\",\"scene\":\"scene\",\"showlegend\":false,\"text\":[\"the\",\"and\",\"to\",\"of\",\"i\",\"a\",\"\\u201d\",\"in\",\"that\",\"it\",\"he\",\"was\",\"you\",\"his\",\"is\",\"my\",\"have\",\"as\",\"with\",\"had\",\"which\",\"at\",\"for\",\"me\",\"be\",\"not\",\"but\",\"we\",\"from\",\"said\",\"upon\",\"there\",\"this\",\"holmes\",\"him\",\"so\",\"her\",\"she\",\"\\u2019\",\"been\",\"all\",\"very\",\"your\",\"on\",\"one\",\"\\u201ci\",\"were\",\"by\",\"are\",\"an\",\"would\",\"out\",\"no\",\"what\",\"then\",\"when\",\"up\",\"man\",\"could\",\"has\",\"into\",\"little\",\"do\",\"mr\",\"who\",\"will\",\"some\",\"if\",\"down\",\"see\",\"now\",\"should\",\"our\",\"or\",\"may\",\"am\",\"over\",\"us\",\"they\",\"think\",\"more\",\"room\",\"know\",\"shall\",\"can\",\"about\",\"before\",\"must\",\"than\",\"only\",\"come\",\"time\",\"other\",\"came\",\"them\",\"two\",\"did\",\"door\",\"back\",\"\\u201cit\",\"any\",\"face\",\"might\",\"matter\",\"good\",\"\\u201cyou\",\"much\",\"hand\",\"just\",\"house\",\"way\",\"case\",\"well\",\"how\",\"heard\",\"here\",\"\\u201cand\",\"night\",\"such\",\"made\",\"where\",\"however\",\"found\",\"day\",\"away\",\"morning\",\"own\",\"nothing\",\"right\",\"go\",\"after\",\"like\",\"never\",\"their\",\"sherlock\",\"tell\",\"say\",\"left\",\"last\",\"through\",\"\\u201cyes\",\"quite\",\"saw\",\"asked\",\"side\",\"\\u201cbut\",\"eyes\",\"most\",\"long\",\"once\",\"its\",\"miss\",\"took\",\"yet\",\"first\",\"st\",\"street\",\"every\",\"young\",\"round\",\"too\",\"find\",\"watson\",\"take\",\"\\u201cthe\",\"small\",\"these\",\"still\",\"myself\",\"thought\",\"few\",\"sir\",\"light\",\"\\u201cwell\",\"off\",\"until\",\"business\",\"make\",\"himself\",\"hands\",\"father\",\"without\",\"window\",\"old\",\"seen\",\"three\",\"even\",\"ever\",\"lady\",\"friend\",\"look\",\"cried\",\"head\",\"seemed\",\"went\",\"put\",\"having\",\"those\",\"while\",\"again\"],\"x\":[3.3706767559051514,1.4651813507080078,3.536820650100708,3.9058282375335693,-17.93354034423828,5.816059589385986,-35.153934478759766,-0.16512368619441986,-14.266112327575684,-7.693162441253662,-22.092023849487305,-4.705637454986572,-19.44359588623047,-1.264025330543518,7.4061784744262695,-27.885786056518555,4.873091220855713,-8.26203441619873,2.656583309173584,-1.2616103887557983,-27.051361083984375,-1.1534662246704102,22.850234985351562,5.435366630554199,-4.729512691497803,-23.592191696166992,-0.7367991805076599,30.366662979125977,-6.619390487670898,-35.1180419921875,18.797542572021484,23.07607650756836,20.62056541442871,-29.09771728515625,-2.148292303085327,0.6353874206542969,32.481544494628906,-24.563432693481445,-15.25737476348877,25.61936378479004,-7.25907039642334,-18.839792251586914,-18.502788543701172,38.34245300292969,10.751505851745605,-28.123310089111328,27.727848052978516,8.341967582702637,17.71540641784668,-0.8078364133834839,-38.22915267944336,-15.66920280456543,-2.40974497795105,-14.582942008972168,-31.917640686035156,-9.532703399658203,19.546306610107422,-26.586740493774414,-25.5640869140625,-5.946229457855225,-1.0993156433105469,33.4794807434082,-30.644886016845703,-30.121543884277344,-22.457033157348633,-32.91569519042969,2.3146841526031494,-0.7343167662620544,18.402301788330078,1.8091890811920166,-21.336898803710938,-26.7225399017334,2.9075279235839844,5.631587505340576,1.7114999294281006,-18.318498611450195,-18.709598541259766,29.617586135864258,29.3489990234375,-7.0868000984191895,26.03025245666504,2.8104591369628906,-16.620912551879883,-34.901729583740234,-16.854400634765625,6.612504482269287,-16.44677734375,-15.543806076049805,19.48936653137207,-24.643505096435547,-37.18070602416992,-41.1126594543457,3.343984842300415,14.870135307312012,8.064226150512695,17.730663299560547,-25.9154109954834,0.23812612891197205,-11.472421646118164,-3.9556052684783936,3.2465739250183105,7.934072017669678,-22.991531372070312,27.800945281982422,3.008486032485962,-24.450164794921875,4.78782320022583,4.9988226890563965,-12.596657752990723,6.6711859703063965,21.19144630432129,1.919818639755249,-35.00864791870117,-0.19273953139781952,39.1399040222168,-11.713167190551758,-15.790716171264648,13.114195823669434,22.41104507446289,-11.103423118591309,-15.25789737701416,2.088477373123169,-21.56574821472168,0.7740770578384399,-9.023981094360352,3.1243176460266113,-10.249726295471191,-3.065772294998169,-21.40782356262207,-11.919928550720215,3.249030113220215,-10.057083129882812,5.4512763023376465,9.75991439819336,-13.241927146911621,-8.785865783691406,-17.460205078125,-18.788692474365234,-4.330313682556152,22.046995162963867,-22.406530380249023,-9.192193984985352,-6.916499137878418,-13.843527793884277,17.58595085144043,-19.52519416809082,9.034156799316406,32.589054107666016,16.067806243896484,-21.487504959106445,15.864282608032227,-14.37346363067627,29.017078399658203,9.999530792236328,-15.938232421875,-23.20940589904785,-18.888948440551758,0.03154424577951431,-14.146082878112793,-16.343204498291016,-12.216826438903809,3.541367530822754,-25.353025436401367,-1.4067579507827759,-18.508581161499023,11.954432487487793,8.029881477355957,9.556318283081055,1.7635297775268555,-12.764776229858398,20.075597763061523,-29.10837745666504,29.775245666503906,-24.389995574951172,-17.905960083007812,-11.103196144104004,2.7442619800567627,-6.079066753387451,-14.191946029663086,8.987430572509766,-16.58845329284668,-23.25787353515625,0.46398958563804626,34.22349548339844,24.58341407775879,19.776931762695312,-9.838433265686035,-4.713672637939453,-34.015533447265625,-3.977111339569092,-20.40538787841797,-30.22360610961914,3.75015926361084,-43.28485107421875,-5.79054594039917,20.681079864501953,-26.050134658813477,0.9054973721504211,36.861244201660156,-9.119754791259766],\"y\":[-1.5913461446762085,-2.956817150115967,11.190998077392578,-1.1301239728927612,-1.6317291259765625,-1.2581766843795776,6.73939323425293,-1.092311143875122,1.0163644552230835,2.5997791290283203,-14.180057525634766,-19.901641845703125,0.9439889192581177,-32.12098693847656,21.405227661132812,-24.91901969909668,22.665809631347656,-10.900854110717773,-6.1117987632751465,-1.9339908361434937,-19.596290588378906,3.92413592338562,5.550856113433838,7.602438926696777,27.04509925842285,-5.00632905960083,-17.459871292114258,26.43655014038086,1.8183417320251465,9.574219703674316,-25.699195861816406,26.296972274780273,8.478264808654785,6.219245433807373,-29.103851318359375,-3.325643301010132,-16.3242244720459,-13.57309627532959,16.151765823364258,17.486522674560547,5.125313758850098,0.7392128705978394,-14.077120780944824,0.2430383563041687,-3.7299489974975586,14.01974868774414,0.5484101176261902,-4.917407512664795,14.243017196655273,-2.235823392868042,1.4828238487243652,-16.714252471923828,6.7195725440979,5.035080432891846,-0.6183955073356628,-13.80713939666748,-33.98585891723633,-21.594058990478516,-2.3902690410614014,26.89479637145996,-7.3966779708862305,14.718049049377441,9.351613998413086,5.086613178253174,31.590993881225586,4.992562294006348,11.147414207458496,20.500011444091797,-5.636237621307373,26.399797439575195,-1.4868507385253906,-3.9142324924468994,41.61894607543945,-5.2920756340026855,37.8350715637207,16.909971237182617,-35.90788650512695,10.100192070007324,7.23293924331665,21.54637908935547,5.4438276290893555,-24.373050689697266,8.001138687133789,13.553141593933105,27.418066024780273,31.88971519470215,-14.756333351135254,34.28793716430664,29.532411575317383,-7.480907440185547,-15.2445068359375,-1.5392003059387207,16.190649032592773,7.506739139556885,2.031827211380005,6.868927955627441,9.739683151245117,-17.276031494140625,-17.23367691040039,2.4328601360321045,36.428565979003906,-25.515012741088867,-10.208088874816895,12.534555435180664,16.327133178710938,29.093685150146484,-8.191938400268555,-17.980093002319336,-26.69927406311035,2.1047098636627197,1.099543571472168,37.80621337890625,-6.1702494621276855,17.030261993408203,5.577205181121826,-5.6992363929748535,12.514594078063965,28.545116424560547,19.107887268066406,-37.39177703857422,-11.71696662902832,-14.605735778808594,-13.864715576171875,22.708770751953125,-16.565994262695312,18.089515686035156,-16.2409725189209,6.356736660003662,4.777695655822754,11.533536911010742,28.493467330932617,-5.567563056945801,8.336714744567871,3.7881360054016113,40.775360107421875,0.5436816215515137,3.8549768924713135,-10.22622013092041,27.597864151000977,-12.698275566101074,5.224178314208984,-12.086973190307617,-14.813846588134766,10.681778907775879,-10.726780891418457,21.505470275878906,-23.549354553222656,5.5504045486450195,-7.723674774169922,-20.959728240966797,-1.0461403131484985,33.75878143310547,-3.949556350708008,-18.46574592590332,11.458325386047363,12.91252326965332,4.579322814941406,-10.242325782775879,-6.399944305419922,-15.038451194763184,3.107578754425049,24.294654846191406,13.540938377380371,26.26813507080078,14.977412223815918,0.17976537346839905,20.786163330078125,-4.479321479797363,-41.83605194091797,-21.870946884155273,8.438020706176758,21.634498596191406,-12.454133987426758,18.20132827758789,-5.414444446563721,-24.054462432861328,12.373493194580078,27.03183937072754,-15.975261688232422,-32.847450256347656,-13.888750076293945,-18.747201919555664,-12.153678894042969,7.526061058044434,-10.372003555297852,8.402372360229492,-20.618940353393555,-15.597220420837402,-18.550537109375,0.25565221905708313,-31.421245574951172,10.895153999328613,-29.657812118530273,0.038131389766931534,-21.10584831237793,-4.056606769561768,-26.979951858520508,-2.2416858673095703,-7.752871036529541,-33.74357223510742],\"z\":[-6.1057868003845215,-4.907645225524902,-5.8255720138549805,-8.489287376403809,14.484796524047852,-4.404983997344971,7.376745700836182,-7.522476673126221,14.523331642150879,14.626708984375,2.7065420150756836,26.45261001586914,14.515738487243652,9.037760734558105,36.30519485473633,13.483363151550293,13.874305725097656,19.053829193115234,-3.2799787521362305,-1.4278650283813477,-16.518543243408203,-10.674691200256348,32.618648529052734,37.601654052734375,18.976367950439453,15.108560562133789,34.591617584228516,-1.988104224205017,-16.79745864868164,1.395829677581787,24.420238494873047,18.993314743041992,-2.197539806365967,-8.541159629821777,4.068699359893799,24.634532928466797,14.119755744934082,4.988041877746582,2.82074236869812,24.41265869140625,-20.204347610473633,32.70922088623047,22.777145385742188,-17.32296371459961,-18.00174903869629,25.511754989624023,-4.9358601570129395,-1.0826919078826904,27.127717971801758,9.027637481689453,10.301321983337402,-17.31010627746582,2.885180950164795,6.115614414215088,6.282072067260742,-6.324324131011963,-17.655029296875,6.980953216552734,9.852303504943848,-0.797994077205658,-17.934009552001953,17.869504928588867,19.98764419555664,-20.431453704833984,-7.039781093597412,14.494325637817383,-14.594883918762207,27.388938903808594,-31.367937088012695,12.581387519836426,25.69880485534668,31.090309143066406,1.6681761741638184,38.21866989135742,8.55825138092041,28.284290313720703,-5.57253360748291,-25.64723014831543,-3.327418088912964,31.834980010986328,16.88320541381836,-11.36776065826416,10.09508228302002,6.418444633483887,14.999201774597168,-21.300209045410156,15.52846908569336,13.526996612548828,9.715542793273926,-0.9328341484069824,-2.00852632522583,-8.809106826782227,-17.019527435302734,-8.434232711791992,33.152626037597656,-14.892622947692871,12.827570915222168,-28.319791793823242,-11.220516204833984,17.941070556640625,17.75506591796875,10.521796226501465,9.868827819824219,12.758637428283691,33.16807556152344,13.474119186401367,23.11904525756836,-2.798144578933716,17.43547821044922,-18.888479232788086,-0.7182415723800659,-13.3046875,20.383163452148438,7.350304126739502,-8.691298484802246,-18.133892059326172,10.353739738464355,-18.603425979614258,8.321066856384277,11.337580680847168,-27.602581024169922,17.295623779296875,-14.95269775390625,-20.420166015625,-16.784025192260742,-27.039779663085938,26.991165161132812,36.127281188964844,38.167503356933594,36.87035369873047,-18.80031967163086,19.69436264038086,19.604585647583008,27.4177303314209,-0.3962899148464203,42.44697570800781,19.40313148498535,-0.19781389832496643,-22.7509708404541,-28.113059997558594,-1.0384129285812378,37.97301483154297,-23.075342178344727,5.032746315002441,-14.467324256896973,11.503518104553223,-1.026759386062622,13.278586387634277,9.576022148132324,0.23052285611629486,24.589569091796875,-14.141849517822266,16.01447868347168,34.420440673828125,-25.849483489990234,-24.21456527709961,-27.57441520690918,13.387262344360352,12.890397071838379,-10.127092361450195,36.69187545776367,19.229642868041992,18.167173385620117,23.395084381103516,-4.728580474853516,-2.923417806625366,-9.488202095031738,32.50791931152344,-9.117854118347168,5.8317389488220215,-9.568854331970215,2.040648937225342,-11.086021423339844,14.156371116638184,-17.238304138183594,-7.3135480880737305,1.201723575592041,11.629242897033691,-4.0067596435546875,6.480204105377197,31.947338104248047,18.970537185668945,-25.436954498291016,22.246253967285156,24.18044662475586,-25.651735305786133,18.588369369506836,11.555459976196289,7.0098419189453125,3.4734675884246826,9.196226119995117,-3.025155544281006,-0.2671326696872711,4.538435459136963,-35.20465850830078,34.094024658203125,-13.12205982208252,-18.028949737548828,-0.5620412826538086,21.374309539794922],\"type\":\"scatter3d\"}],                        {\"template\":{\"data\":{\"histogram2dcontour\":[{\"type\":\"histogram2dcontour\",\"colorbar\":{\"outlinewidth\":0,\"ticks\":\"\"},\"colorscale\":[[0.0,\"#0d0887\"],[0.1111111111111111,\"#46039f\"],[0.2222222222222222,\"#7201a8\"],[0.3333333333333333,\"#9c179e\"],[0.4444444444444444,\"#bd3786\"],[0.5555555555555556,\"#d8576b\"],[0.6666666666666666,\"#ed7953\"],[0.7777777777777778,\"#fb9f3a\"],[0.8888888888888888,\"#fdca26\"],[1.0,\"#f0f921\"]]}],\"choropleth\":[{\"type\":\"choropleth\",\"colorbar\":{\"outlinewidth\":0,\"ticks\":\"\"}}],\"histogram2d\":[{\"type\":\"histogram2d\",\"colorbar\":{\"outlinewidth\":0,\"ticks\":\"\"},\"colorscale\":[[0.0,\"#0d0887\"],[0.1111111111111111,\"#46039f\"],[0.2222222222222222,\"#7201a8\"],[0.3333333333333333,\"#9c179e\"],[0.4444444444444444,\"#bd3786\"],[0.5555555555555556,\"#d8576b\"],[0.6666666666666666,\"#ed7953\"],[0.7777777777777778,\"#fb9f3a\"],[0.8888888888888888,\"#fdca26\"],[1.0,\"#f0f921\"]]}],\"heatmap\":[{\"type\":\"heatmap\",\"colorbar\":{\"outlinewidth\":0,\"ticks\":\"\"},\"colorscale\":[[0.0,\"#0d0887\"],[0.1111111111111111,\"#46039f\"],[0.2222222222222222,\"#7201a8\"],[0.3333333333333333,\"#9c179e\"],[0.4444444444444444,\"#bd3786\"],[0.5555555555555556,\"#d8576b\"],[0.6666666666666666,\"#ed7953\"],[0.7777777777777778,\"#fb9f3a\"],[0.8888888888888888,\"#fdca26\"],[1.0,\"#f0f921\"]]}],\"heatmapgl\":[{\"type\":\"heatmapgl\",\"colorbar\":{\"outlinewidth\":0,\"ticks\":\"\"},\"colorscale\":[[0.0,\"#0d0887\"],[0.1111111111111111,\"#46039f\"],[0.2222222222222222,\"#7201a8\"],[0.3333333333333333,\"#9c179e\"],[0.4444444444444444,\"#bd3786\"],[0.5555555555555556,\"#d8576b\"],[0.6666666666666666,\"#ed7953\"],[0.7777777777777778,\"#fb9f3a\"],[0.8888888888888888,\"#fdca26\"],[1.0,\"#f0f921\"]]}],\"contourcarpet\":[{\"type\":\"contourcarpet\",\"colorbar\":{\"outlinewidth\":0,\"ticks\":\"\"}}],\"contour\":[{\"type\":\"contour\",\"colorbar\":{\"outlinewidth\":0,\"ticks\":\"\"},\"colorscale\":[[0.0,\"#0d0887\"],[0.1111111111111111,\"#46039f\"],[0.2222222222222222,\"#7201a8\"],[0.3333333333333333,\"#9c179e\"],[0.4444444444444444,\"#bd3786\"],[0.5555555555555556,\"#d8576b\"],[0.6666666666666666,\"#ed7953\"],[0.7777777777777778,\"#fb9f3a\"],[0.8888888888888888,\"#fdca26\"],[1.0,\"#f0f921\"]]}],\"surface\":[{\"type\":\"surface\",\"colorbar\":{\"outlinewidth\":0,\"ticks\":\"\"},\"colorscale\":[[0.0,\"#0d0887\"],[0.1111111111111111,\"#46039f\"],[0.2222222222222222,\"#7201a8\"],[0.3333333333333333,\"#9c179e\"],[0.4444444444444444,\"#bd3786\"],[0.5555555555555556,\"#d8576b\"],[0.6666666666666666,\"#ed7953\"],[0.7777777777777778,\"#fb9f3a\"],[0.8888888888888888,\"#fdca26\"],[1.0,\"#f0f921\"]]}],\"mesh3d\":[{\"type\":\"mesh3d\",\"colorbar\":{\"outlinewidth\":0,\"ticks\":\"\"}}],\"scatter\":[{\"fillpattern\":{\"fillmode\":\"overlay\",\"size\":10,\"solidity\":0.2},\"type\":\"scatter\"}],\"parcoords\":[{\"type\":\"parcoords\",\"line\":{\"colorbar\":{\"outlinewidth\":0,\"ticks\":\"\"}}}],\"scatterpolargl\":[{\"type\":\"scatterpolargl\",\"marker\":{\"colorbar\":{\"outlinewidth\":0,\"ticks\":\"\"}}}],\"bar\":[{\"error_x\":{\"color\":\"#2a3f5f\"},\"error_y\":{\"color\":\"#2a3f5f\"},\"marker\":{\"line\":{\"color\":\"#E5ECF6\",\"width\":0.5},\"pattern\":{\"fillmode\":\"overlay\",\"size\":10,\"solidity\":0.2}},\"type\":\"bar\"}],\"scattergeo\":[{\"type\":\"scattergeo\",\"marker\":{\"colorbar\":{\"outlinewidth\":0,\"ticks\":\"\"}}}],\"scatterpolar\":[{\"type\":\"scatterpolar\",\"marker\":{\"colorbar\":{\"outlinewidth\":0,\"ticks\":\"\"}}}],\"histogram\":[{\"marker\":{\"pattern\":{\"fillmode\":\"overlay\",\"size\":10,\"solidity\":0.2}},\"type\":\"histogram\"}],\"scattergl\":[{\"type\":\"scattergl\",\"marker\":{\"colorbar\":{\"outlinewidth\":0,\"ticks\":\"\"}}}],\"scatter3d\":[{\"type\":\"scatter3d\",\"line\":{\"colorbar\":{\"outlinewidth\":0,\"ticks\":\"\"}},\"marker\":{\"colorbar\":{\"outlinewidth\":0,\"ticks\":\"\"}}}],\"scattermapbox\":[{\"type\":\"scattermapbox\",\"marker\":{\"colorbar\":{\"outlinewidth\":0,\"ticks\":\"\"}}}],\"scatterternary\":[{\"type\":\"scatterternary\",\"marker\":{\"colorbar\":{\"outlinewidth\":0,\"ticks\":\"\"}}}],\"scattercarpet\":[{\"type\":\"scattercarpet\",\"marker\":{\"colorbar\":{\"outlinewidth\":0,\"ticks\":\"\"}}}],\"carpet\":[{\"aaxis\":{\"endlinecolor\":\"#2a3f5f\",\"gridcolor\":\"white\",\"linecolor\":\"white\",\"minorgridcolor\":\"white\",\"startlinecolor\":\"#2a3f5f\"},\"baxis\":{\"endlinecolor\":\"#2a3f5f\",\"gridcolor\":\"white\",\"linecolor\":\"white\",\"minorgridcolor\":\"white\",\"startlinecolor\":\"#2a3f5f\"},\"type\":\"carpet\"}],\"table\":[{\"cells\":{\"fill\":{\"color\":\"#EBF0F8\"},\"line\":{\"color\":\"white\"}},\"header\":{\"fill\":{\"color\":\"#C8D4E3\"},\"line\":{\"color\":\"white\"}},\"type\":\"table\"}],\"barpolar\":[{\"marker\":{\"line\":{\"color\":\"#E5ECF6\",\"width\":0.5},\"pattern\":{\"fillmode\":\"overlay\",\"size\":10,\"solidity\":0.2}},\"type\":\"barpolar\"}],\"pie\":[{\"automargin\":true,\"type\":\"pie\"}]},\"layout\":{\"autotypenumbers\":\"strict\",\"colorway\":[\"#636efa\",\"#EF553B\",\"#00cc96\",\"#ab63fa\",\"#FFA15A\",\"#19d3f3\",\"#FF6692\",\"#B6E880\",\"#FF97FF\",\"#FECB52\"],\"font\":{\"color\":\"#2a3f5f\"},\"hovermode\":\"closest\",\"hoverlabel\":{\"align\":\"left\"},\"paper_bgcolor\":\"white\",\"plot_bgcolor\":\"#E5ECF6\",\"polar\":{\"bgcolor\":\"#E5ECF6\",\"angularaxis\":{\"gridcolor\":\"white\",\"linecolor\":\"white\",\"ticks\":\"\"},\"radialaxis\":{\"gridcolor\":\"white\",\"linecolor\":\"white\",\"ticks\":\"\"}},\"ternary\":{\"bgcolor\":\"#E5ECF6\",\"aaxis\":{\"gridcolor\":\"white\",\"linecolor\":\"white\",\"ticks\":\"\"},\"baxis\":{\"gridcolor\":\"white\",\"linecolor\":\"white\",\"ticks\":\"\"},\"caxis\":{\"gridcolor\":\"white\",\"linecolor\":\"white\",\"ticks\":\"\"}},\"coloraxis\":{\"colorbar\":{\"outlinewidth\":0,\"ticks\":\"\"}},\"colorscale\":{\"sequential\":[[0.0,\"#0d0887\"],[0.1111111111111111,\"#46039f\"],[0.2222222222222222,\"#7201a8\"],[0.3333333333333333,\"#9c179e\"],[0.4444444444444444,\"#bd3786\"],[0.5555555555555556,\"#d8576b\"],[0.6666666666666666,\"#ed7953\"],[0.7777777777777778,\"#fb9f3a\"],[0.8888888888888888,\"#fdca26\"],[1.0,\"#f0f921\"]],\"sequentialminus\":[[0.0,\"#0d0887\"],[0.1111111111111111,\"#46039f\"],[0.2222222222222222,\"#7201a8\"],[0.3333333333333333,\"#9c179e\"],[0.4444444444444444,\"#bd3786\"],[0.5555555555555556,\"#d8576b\"],[0.6666666666666666,\"#ed7953\"],[0.7777777777777778,\"#fb9f3a\"],[0.8888888888888888,\"#fdca26\"],[1.0,\"#f0f921\"]],\"diverging\":[[0,\"#8e0152\"],[0.1,\"#c51b7d\"],[0.2,\"#de77ae\"],[0.3,\"#f1b6da\"],[0.4,\"#fde0ef\"],[0.5,\"#f7f7f7\"],[0.6,\"#e6f5d0\"],[0.7,\"#b8e186\"],[0.8,\"#7fbc41\"],[0.9,\"#4d9221\"],[1,\"#276419\"]]},\"xaxis\":{\"gridcolor\":\"white\",\"linecolor\":\"white\",\"ticks\":\"\",\"title\":{\"standoff\":15},\"zerolinecolor\":\"white\",\"automargin\":true,\"zerolinewidth\":2},\"yaxis\":{\"gridcolor\":\"white\",\"linecolor\":\"white\",\"ticks\":\"\",\"title\":{\"standoff\":15},\"zerolinecolor\":\"white\",\"automargin\":true,\"zerolinewidth\":2},\"scene\":{\"xaxis\":{\"backgroundcolor\":\"#E5ECF6\",\"gridcolor\":\"white\",\"linecolor\":\"white\",\"showbackground\":true,\"ticks\":\"\",\"zerolinecolor\":\"white\",\"gridwidth\":2},\"yaxis\":{\"backgroundcolor\":\"#E5ECF6\",\"gridcolor\":\"white\",\"linecolor\":\"white\",\"showbackground\":true,\"ticks\":\"\",\"zerolinecolor\":\"white\",\"gridwidth\":2},\"zaxis\":{\"backgroundcolor\":\"#E5ECF6\",\"gridcolor\":\"white\",\"linecolor\":\"white\",\"showbackground\":true,\"ticks\":\"\",\"zerolinecolor\":\"white\",\"gridwidth\":2}},\"shapedefaults\":{\"line\":{\"color\":\"#2a3f5f\"}},\"annotationdefaults\":{\"arrowcolor\":\"#2a3f5f\",\"arrowhead\":0,\"arrowwidth\":1},\"geo\":{\"bgcolor\":\"white\",\"landcolor\":\"#E5ECF6\",\"subunitcolor\":\"white\",\"showland\":true,\"showlakes\":true,\"lakecolor\":\"white\"},\"title\":{\"x\":0.05},\"mapbox\":{\"style\":\"light\"}}},\"scene\":{\"domain\":{\"x\":[0.0,1.0],\"y\":[0.0,1.0]},\"xaxis\":{\"title\":{\"text\":\"x\"}},\"yaxis\":{\"title\":{\"text\":\"y\"}},\"zaxis\":{\"title\":{\"text\":\"z\"}}},\"legend\":{\"tracegroupgap\":0},\"margin\":{\"t\":60}},                        {\"responsive\": true}                    ).then(function(){\n",
              "                            \n",
              "var gd = document.getElementById('eb0b533c-dbf8-40c8-a45d-d1ac0055be0d');\n",
              "var x = new MutationObserver(function (mutations, observer) {{\n",
              "        var display = window.getComputedStyle(gd).display;\n",
              "        if (!display || display === 'none') {{\n",
              "            console.log([gd, 'removed!']);\n",
              "            Plotly.purge(gd);\n",
              "            observer.disconnect();\n",
              "        }}\n",
              "}});\n",
              "\n",
              "// Listen for the removal of the full notebook cells\n",
              "var notebookContainer = gd.closest('#notebook-container');\n",
              "if (notebookContainer) {{\n",
              "    x.observe(notebookContainer, {childList: true});\n",
              "}}\n",
              "\n",
              "// Listen for the clearing of the current output cell\n",
              "var outputEl = gd.closest('.output');\n",
              "if (outputEl) {{\n",
              "    x.observe(outputEl, {childList: true});\n",
              "}}\n",
              "\n",
              "                        })                };                            </script>        </div>\n",
              "</body>\n",
              "</html>"
            ]
          },
          "metadata": {}
        }
      ],
      "source": [
        "# Graficar los embedddings en 3D\n",
        "\n",
        "vecs, labels = reduce_dimensions(w2v_model_sherlock,3)\n",
        "\n",
        "fig = px.scatter_3d(x=vecs[:MAX_WORDS,0], y=vecs[:MAX_WORDS,1], z=vecs[:MAX_WORDS,2],text=labels[:MAX_WORDS])\n",
        "fig.update_traces(marker_size = 2)\n",
        "fig.show(renderer=\"colab\") # esto para plotly en colab"
      ]
    },
    {
      "cell_type": "markdown",
      "source": [
        "**Comentario**:\n",
        "\n",
        "Es un poco más difícil de encontrar asociaciones en este corpus y en estas dimensiones, sin embargo, se puede encontrar palabras que naturalmente están asociadas entre si: ``[Face, Hands, Head, Eyes]``. Si bien no son términos específicos de la historia, son términos que se asociaron juntos aún cuando el texto no los coloca juntos necesariamente."
      ],
      "metadata": {
        "id": "mYXrl39U1rsU"
      }
    },
    {
      "cell_type": "code",
      "execution_count": 116,
      "metadata": {
        "id": "NkjqhMj8vEU7"
      },
      "outputs": [],
      "source": [
        "# También se pueden guardar los vectores y labels como tsv para graficar en\n",
        "# http://projector.tensorflow.org/\n",
        "\n",
        "\n",
        "vectors = np.asarray(w2v_model_sherlock.wv.vectors)\n",
        "labels = list(w2v_model_sherlock.wv.index_to_key)\n",
        "\n",
        "np.savetxt(\"vectors_sherlock.tsv\", vectors, delimiter=\"\\t\")\n",
        "\n",
        "with open(\"labels_sherlock.tsv\", \"w\") as fp:\n",
        "    for item in labels:\n",
        "        fp.write(\"%s\\n\" % item)"
      ]
    },
    {
      "cell_type": "markdown",
      "source": [
        "## Conclusiones Finales\n",
        "\n",
        "- Una de las ideas era comparar dos libros muy distintos para ver que palabras eran más similares dependiendo del tema; pero no se lograron encontrar palabras que representaran bien este caso (queda como una mejora para comparar con otro libro).\n",
        "- Las técnicas están interesantes para obtener palabras similares basadas en el contexto en que se utilizan, muchas veces se logran asociaciones incluso cuando no están explícitamente en el texto.\n"
      ],
      "metadata": {
        "id": "63AQNsH_18Vw"
      }
    }
  ],
  "metadata": {
    "colab": {
      "provenance": []
    },
    "kernelspec": {
      "display_name": "Python 3 (ipykernel)",
      "language": "python",
      "name": "python3"
    },
    "language_info": {
      "codemirror_mode": {
        "name": "ipython",
        "version": 3
      },
      "file_extension": ".py",
      "mimetype": "text/x-python",
      "name": "python",
      "nbconvert_exporter": "python",
      "pygments_lexer": "ipython3",
      "version": "3.11.9"
    }
  },
  "nbformat": 4,
  "nbformat_minor": 0
}