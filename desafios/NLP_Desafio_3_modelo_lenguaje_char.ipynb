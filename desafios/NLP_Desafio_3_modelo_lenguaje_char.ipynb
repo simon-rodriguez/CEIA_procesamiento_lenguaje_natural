{
  "cells": [
    {
      "cell_type": "markdown",
      "metadata": {
        "id": "g3yeJGnCYxuF"
      },
      "source": [
        "<img src=\"https://github.com/hernancontigiani/ceia_memorias_especializacion/raw/master/Figures/logoFIUBA.jpg\" width=\"500\" align=\"center\">\n",
        "\n",
        "\n",
        "# Procesamiento de lenguaje natural\n",
        "## Modelo de lenguaje con tokenización por caracteres"
      ]
    },
    {
      "cell_type": "markdown",
      "metadata": {
        "id": "dAjEodNA4kL6"
      },
      "source": [
        "### **Alumno:** Simón Rodríguez"
      ]
    },
    {
      "cell_type": "markdown",
      "metadata": {
        "id": "Iv5PEwGzZA9-"
      },
      "source": [
        "### Consigna\n",
        "- Seleccionar un corpus de texto sobre el cual entrenar el modelo de lenguaje.\n",
        "- Realizar el pre-procesamiento adecuado para tokenizar el corpus, estructurar el dataset y separar entre datos de entrenamiento y validación.\n",
        "- Proponer arquitecturas de redes neuronales basadas en unidades recurrentes para implementar un modelo de lenguaje.\n",
        "- Con el o los modelos que consideren adecuados, generar nuevas secuencias a partir de secuencias de contexto con las estrategias de greedy search y beam search determístico y estocástico. En este último caso observar el efecto de la temperatura en la generación de secuencias.\n",
        "\n",
        "\n",
        "### Sugerencias\n",
        "- Durante el entrenamiento, guiarse por el descenso de la perplejidad en los datos de validación para finalizar el entrenamiento. Para ello se provee un callback.\n",
        "- Explorar utilizar SimpleRNN (celda de Elman), LSTM y GRU.\n",
        "- rmsprop es el optimizador recomendado para la buena convergencia. No obstante se pueden explorar otros.\n"
      ]
    },
    {
      "cell_type": "code",
      "execution_count": 50,
      "metadata": {
        "id": "Y-QdFbHZYj7C"
      },
      "outputs": [],
      "source": [
        "import random\n",
        "import io\n",
        "import pickle\n",
        "import pandas as pd\n",
        "\n",
        "import numpy as np\n",
        "import pandas as pd\n",
        "import matplotlib.pyplot as plt\n",
        "from sklearn.model_selection import train_test_split\n",
        "\n",
        "from tensorflow import keras\n",
        "from tensorflow.keras import layers\n",
        "from keras.utils import to_categorical\n",
        "from keras.models import Sequential\n",
        "from keras.layers import Dense, LSTM, Embedding, Dropout\n",
        "from tensorflow.keras.losses import SparseCategoricalCrossentropy"
      ]
    },
    {
      "cell_type": "markdown",
      "metadata": {
        "id": "xTvXlEKQZdqx"
      },
      "source": [
        "### Datos\n",
        "Utilizaremos como dataset el libro de Viaje al Centro de la Tierra de Julio Verne."
      ]
    },
    {
      "cell_type": "code",
      "execution_count": 51,
      "metadata": {
        "colab": {
          "base_uri": "https://localhost:8080/"
        },
        "id": "nQKb0qRQ8SXt",
        "outputId": "322b4055-1a2d-487b-8b93-6cf6f3cf1355"
      },
      "outputs": [
        {
          "name": "stdout",
          "output_type": "stream",
          "text": [
            "--2024-09-28 20:00:31--  https://github.com/simon-rodriguez/CEIA_procesamiento_lenguaje_natural/raw/main/datasets/text_corpus/desafio_2.zip\n",
            "Resolving github.com (github.com)... 20.205.243.166\n",
            "Connecting to github.com (github.com)|20.205.243.166|:443... connected.\n",
            "HTTP request sent, awaiting response... 302 Found\n",
            "Location: https://raw.githubusercontent.com/simon-rodriguez/CEIA_procesamiento_lenguaje_natural/main/datasets/text_corpus/desafio_2.zip [following]\n",
            "--2024-09-28 20:00:32--  https://raw.githubusercontent.com/simon-rodriguez/CEIA_procesamiento_lenguaje_natural/main/datasets/text_corpus/desafio_2.zip\n",
            "Resolving raw.githubusercontent.com (raw.githubusercontent.com)... 185.199.110.133, 185.199.109.133, 185.199.108.133, ...\n",
            "Connecting to raw.githubusercontent.com (raw.githubusercontent.com)|185.199.110.133|:443... connected.\n",
            "HTTP request sent, awaiting response... 200 OK\n",
            "Length: 778409 (760K) [application/zip]\n",
            "Saving to: ‘./dataset/text_corpus/desafio_2.zip’\n",
            "\n",
            "./dataset/text_corp 100%[===================>] 760.17K  --.-KB/s    in 0.007s  \n",
            "\n",
            "2024-09-28 20:00:32 (109 MB/s) - ‘./dataset/text_corpus/desafio_2.zip’ saved [778409/778409]\n",
            "\n"
          ]
        }
      ],
      "source": [
        "# Descargar la carpeta de dataset\n",
        "import os\n",
        "import platform\n",
        "\n",
        "directory = './dataset/text_corpus'\n",
        "\n",
        "if os.access(directory, os.F_OK) is False:\n",
        "    os.makedirs(directory)\n",
        "if os.access('desafio_2.zip', os.F_OK) is False:\n",
        "    if platform.system() == 'Windows':\n",
        "        !curl https://raw.githubusercontent.com/simon-rodriguez/CEIA_procesamiento_lenguaje_natural/main/datasets/text_corpus/desafio_2.zip -O {directory}/desafio_2.zip\n",
        "\n",
        "    else:\n",
        "        !wget -O {directory}/desafio_2.zip https://github.com/simon-rodriguez/CEIA_procesamiento_lenguaje_natural/raw/main/datasets/text_corpus/desafio_2.zip\n",
        "\n",
        "    !unzip -q {directory}/desafio_2.zip -d {directory}\n",
        "\n",
        "else:\n",
        "    print(\"El dataset ya se encuentra descargado\")"
      ]
    },
    {
      "cell_type": "code",
      "execution_count": 52,
      "metadata": {
        "colab": {
          "base_uri": "https://localhost:8080/"
        },
        "id": "FPTYG4DM8uCy",
        "outputId": "702286ff-ad6e-470d-f9ac-d6aedeff203b"
      },
      "outputs": [
        {
          "data": {
            "text/plain": [
              "['the_adventures_of_sherlock_holmes_sentences.txt',\n",
              " 'viaje_al_centro_de_la_tierra_sentences.txt',\n",
              " 'el_arte_de_la_guerra.txt',\n",
              " 'the_adventures_of_sherlock_holmes.txt',\n",
              " 'desafio_2.zip',\n",
              " 'viaje_al_centro_de_la_tierra.txt']"
            ]
          },
          "execution_count": 52,
          "metadata": {},
          "output_type": "execute_result"
        }
      ],
      "source": [
        "# Posibles libros\n",
        "os.listdir(\"./dataset/text_corpus\")"
      ]
    },
    {
      "cell_type": "code",
      "execution_count": 53,
      "metadata": {
        "id": "6v_ickFwBJTy"
      },
      "outputs": [],
      "source": [
        "# Se abre el archivo de texto y se guarda como un gran string (todo junto)\n",
        "with open('./dataset/text_corpus/viaje_al_centro_de_la_tierra.txt', 'r') as f:\n",
        "    article_text = f.read()\n",
        "\n",
        "# Se convierte todo el texto a minúsculas\n",
        "#article_text = article_text.lower()"
      ]
    },
    {
      "cell_type": "code",
      "execution_count": 54,
      "metadata": {
        "colab": {
          "base_uri": "https://localhost:8080/",
          "height": 90
        },
        "id": "WBE0sSYuB-E6",
        "outputId": "106495c9-6479-4bc1-fb64-ae37b2db822a"
      },
      "outputs": [
        {
          "data": {
            "application/vnd.google.colaboratory.intrinsic+json": {
              "type": "string"
            },
            "text/plain": [
              "'Viaje al Centro de la Tierra\\nJulio Verne\\nCapítulo 1\\nEl domingo 24 de mayo de 1863, mi tío, el profesor Lidenbrock, entró rápidamente a su hogar, situado en el número 19 de la König‑Strasse, una de las calles más tradicionales del barrio antiguo de Hamburgo.\\nMarta, su excelente criada, se preocupó sobremanera, creyendo que se había retrasado, pues apenas empezaba a cocinar la comida en el hornillo.\\n“Bueno” —pensé para mí—, “si mi tío viene con hambre, se va a armar la de San Quintín; porque no conozco a otro hombre de menos paciencia”.\\n—¡Tan temprano y ya está aquí el señor Lidenbrock! —exclamó la pobre Marta, con arrebol, entreabriendo la puerta del comedor.\\n—Sí, Marta; pero tú no tienes la culpa de que la comida no esté lista todavía, porque es temprano, aún no son las dos. Acaba de dar la media hora en San Miguel.\\n—¿Y por qué ha venido tan pronto el señor Lidenbrock?\\n—Él lo explicará, seguramente.\\n—¡Ahí viene! Yo me escapo. Señor Axel, cálmelo usted, por favor.\\nY la excelente Marta s'"
            ]
          },
          "execution_count": 54,
          "metadata": {},
          "output_type": "execute_result"
        }
      ],
      "source": [
        "# en article text se encuentra el texto de todo el libro\n",
        "article_text[:1000]"
      ]
    },
    {
      "cell_type": "markdown",
      "metadata": {
        "id": "cP1JdiOIKQWi"
      },
      "source": [
        "### Elegir el tamaño del contexto\n",
        "\n",
        "En este caso, como el modelo de lenguaje es por caracteres, todo un gran corpus\n",
        "de texto puede ser considerado un documento en sí mismo y el tamaño de contexto\n",
        "puede ser elegido con más libertad en comparación a un modelo de lenguaje tokenizado por palabras y dividido en documentos más acotados."
      ]
    },
    {
      "cell_type": "code",
      "execution_count": 55,
      "metadata": {
        "id": "wumBNwdjJM3j"
      },
      "outputs": [],
      "source": [
        "# seleccionamos el tamaño de contexto\n",
        "max_context_size = 100"
      ]
    },
    {
      "cell_type": "code",
      "execution_count": 56,
      "metadata": {
        "id": "m5FeTaGvbDbw"
      },
      "outputs": [],
      "source": [
        "# Usaremos las utilidades de procesamiento de textos y secuencias de Keras\n",
        "from tensorflow.keras.utils import pad_sequences # se utilizará para padding"
      ]
    },
    {
      "cell_type": "code",
      "execution_count": 57,
      "metadata": {
        "id": "573Cg5n7VhWw"
      },
      "outputs": [],
      "source": [
        "# en este caso el vocabulario es el conjunto único de caracteres que existe en todo el texto\n",
        "chars_vocab = set(article_text)"
      ]
    },
    {
      "cell_type": "code",
      "execution_count": 58,
      "metadata": {
        "colab": {
          "base_uri": "https://localhost:8080/"
        },
        "id": "VwTK6xgLJd8q",
        "outputId": "edbd1664-d16b-4a59-c664-0e127a4c8c04"
      },
      "outputs": [
        {
          "data": {
            "text/plain": [
              "104"
            ]
          },
          "execution_count": 58,
          "metadata": {},
          "output_type": "execute_result"
        }
      ],
      "source": [
        "# la longitud de vocabulario de caracteres es:\n",
        "len(chars_vocab)"
      ]
    },
    {
      "cell_type": "code",
      "execution_count": 59,
      "metadata": {
        "id": "2W0AeQjXV1Ou"
      },
      "outputs": [],
      "source": [
        "# Construimos los dicionarios que asignan índices a caracteres y viceversa.\n",
        "# El diccionario `char2idx` servirá como tokenizador.\n",
        "char2idx = {k: v for v,k in enumerate(chars_vocab)}\n",
        "idx2char = {v: k for k,v in char2idx.items()}"
      ]
    },
    {
      "cell_type": "code",
      "execution_count": 60,
      "metadata": {
        "colab": {
          "base_uri": "https://localhost:8080/"
        },
        "id": "mjHfOonTB7Pn",
        "outputId": "11ffbb8a-a813-4b2c-9de1-d617db82d1d9"
      },
      "outputs": [
        {
          "data": {
            "text/plain": [
              "{'1': 0,\n",
              " 'j': 1,\n",
              " '?': 2,\n",
              " 'w': 3,\n",
              " '¿': 4,\n",
              " 'O': 5,\n",
              " '—': 6,\n",
              " 'V': 7,\n",
              " 'S': 8,\n",
              " '3': 9,\n",
              " 'W': 10,\n",
              " \"'\": 11,\n",
              " '4': 12,\n",
              " 'J': 13,\n",
              " '/': 14,\n",
              " 'P': 15,\n",
              " 'B': 16,\n",
              " 'X': 17,\n",
              " '‑': 18,\n",
              " 'â': 19,\n",
              " 'a': 20,\n",
              " '«': 21,\n",
              " ';': 22,\n",
              " 'E': 23,\n",
              " 'á': 24,\n",
              " 'y': 25,\n",
              " 'x': 26,\n",
              " 'Q': 27,\n",
              " '+': 28,\n",
              " 'K': 29,\n",
              " 'k': 30,\n",
              " 'd': 31,\n",
              " 'L': 32,\n",
              " '9': 33,\n",
              " 'r': 34,\n",
              " 'l': 35,\n",
              " 'i': 36,\n",
              " 'n': 37,\n",
              " '”': 38,\n",
              " 'ä': 39,\n",
              " 'u': 40,\n",
              " '\\n': 41,\n",
              " 'b': 42,\n",
              " 'z': 43,\n",
              " 'Z': 44,\n",
              " '6': 45,\n",
              " 'U': 46,\n",
              " 'é': 47,\n",
              " 'h': 48,\n",
              " '!': 49,\n",
              " 'É': 50,\n",
              " '.': 51,\n",
              " 't': 52,\n",
              " 'p': 53,\n",
              " ':': 54,\n",
              " 'Á': 55,\n",
              " 'm': 56,\n",
              " '7': 57,\n",
              " 'q': 58,\n",
              " '-': 59,\n",
              " '“': 60,\n",
              " '°': 61,\n",
              " 'T': 62,\n",
              " 'c': 63,\n",
              " 'D': 64,\n",
              " ',': 65,\n",
              " 'G': 66,\n",
              " 'o': 67,\n",
              " 'N': 68,\n",
              " '―': 69,\n",
              " 'H': 70,\n",
              " '(': 71,\n",
              " 'f': 72,\n",
              " 'ö': 73,\n",
              " 'F': 74,\n",
              " 'ü': 75,\n",
              " 'ú': 76,\n",
              " 'M': 77,\n",
              " '0': 78,\n",
              " 'ñ': 79,\n",
              " '5': 80,\n",
              " 's': 81,\n",
              " '…': 82,\n",
              " '\\xad': 83,\n",
              " 'Í': 84,\n",
              " 'I': 85,\n",
              " 'R': 86,\n",
              " 'ﬂ': 87,\n",
              " 'œ': 88,\n",
              " 'e': 89,\n",
              " '2': 90,\n",
              " '–': 91,\n",
              " ' ': 92,\n",
              " '»': 93,\n",
              " 'C': 94,\n",
              " 'í': 95,\n",
              " 'ó': 96,\n",
              " 'g': 97,\n",
              " 'A': 98,\n",
              " 'v': 99,\n",
              " 'Y': 100,\n",
              " ')': 101,\n",
              " '¡': 102,\n",
              " '8': 103}"
            ]
          },
          "execution_count": 60,
          "metadata": {},
          "output_type": "execute_result"
        }
      ],
      "source": [
        "char2idx"
      ]
    },
    {
      "cell_type": "markdown",
      "metadata": {
        "id": "2oIUjVU0LB0r"
      },
      "source": [
        "###  Tokenizar"
      ]
    },
    {
      "cell_type": "code",
      "execution_count": 61,
      "metadata": {
        "id": "h07G3srdJppo"
      },
      "outputs": [],
      "source": [
        "# tokenizamos el texto completo\n",
        "tokenized_text = [char2idx[ch] for ch in article_text]"
      ]
    },
    {
      "cell_type": "code",
      "execution_count": 62,
      "metadata": {
        "colab": {
          "base_uri": "https://localhost:8080/"
        },
        "id": "PwGVSKOiJ5bj",
        "outputId": "06bcc33a-08dc-43ba-e2ee-2ecb43f9d940"
      },
      "outputs": [
        {
          "data": {
            "text/plain": [
              "[7,\n",
              " 36,\n",
              " 20,\n",
              " 1,\n",
              " 89,\n",
              " 92,\n",
              " 20,\n",
              " 35,\n",
              " 92,\n",
              " 94,\n",
              " 89,\n",
              " 37,\n",
              " 52,\n",
              " 34,\n",
              " 67,\n",
              " 92,\n",
              " 31,\n",
              " 89,\n",
              " 92,\n",
              " 35,\n",
              " 20,\n",
              " 92,\n",
              " 62,\n",
              " 36,\n",
              " 89,\n",
              " 34,\n",
              " 34,\n",
              " 20,\n",
              " 41,\n",
              " 13,\n",
              " 40,\n",
              " 35,\n",
              " 36,\n",
              " 67,\n",
              " 92,\n",
              " 7,\n",
              " 89,\n",
              " 34,\n",
              " 37,\n",
              " 89,\n",
              " 41,\n",
              " 94,\n",
              " 20,\n",
              " 53,\n",
              " 95,\n",
              " 52,\n",
              " 40,\n",
              " 35,\n",
              " 67,\n",
              " 92,\n",
              " 0,\n",
              " 41,\n",
              " 23,\n",
              " 35,\n",
              " 92,\n",
              " 31,\n",
              " 67,\n",
              " 56,\n",
              " 36,\n",
              " 37,\n",
              " 97,\n",
              " 67,\n",
              " 92,\n",
              " 90,\n",
              " 12,\n",
              " 92,\n",
              " 31,\n",
              " 89,\n",
              " 92,\n",
              " 56,\n",
              " 20,\n",
              " 25,\n",
              " 67,\n",
              " 92,\n",
              " 31,\n",
              " 89,\n",
              " 92,\n",
              " 0,\n",
              " 103,\n",
              " 45,\n",
              " 9,\n",
              " 65,\n",
              " 92,\n",
              " 56,\n",
              " 36,\n",
              " 92,\n",
              " 52,\n",
              " 95,\n",
              " 67,\n",
              " 65,\n",
              " 92,\n",
              " 89,\n",
              " 35,\n",
              " 92,\n",
              " 53,\n",
              " 34,\n",
              " 67,\n",
              " 72,\n",
              " 89,\n",
              " 81,\n",
              " 67,\n",
              " 34,\n",
              " 92,\n",
              " 32,\n",
              " 36,\n",
              " 31,\n",
              " 89,\n",
              " 37,\n",
              " 42,\n",
              " 34,\n",
              " 67,\n",
              " 63,\n",
              " 30,\n",
              " 65,\n",
              " 92,\n",
              " 89,\n",
              " 37,\n",
              " 52,\n",
              " 34,\n",
              " 96,\n",
              " 92,\n",
              " 34,\n",
              " 24,\n",
              " 53,\n",
              " 36,\n",
              " 31,\n",
              " 20,\n",
              " 56,\n",
              " 89,\n",
              " 37,\n",
              " 52,\n",
              " 89,\n",
              " 92,\n",
              " 20,\n",
              " 92,\n",
              " 81,\n",
              " 40,\n",
              " 92,\n",
              " 48,\n",
              " 67,\n",
              " 97,\n",
              " 20,\n",
              " 34,\n",
              " 65,\n",
              " 92,\n",
              " 81,\n",
              " 36,\n",
              " 52,\n",
              " 40,\n",
              " 20,\n",
              " 31,\n",
              " 67,\n",
              " 92,\n",
              " 89,\n",
              " 37,\n",
              " 92,\n",
              " 89,\n",
              " 35,\n",
              " 92,\n",
              " 37,\n",
              " 76,\n",
              " 56,\n",
              " 89,\n",
              " 34,\n",
              " 67,\n",
              " 92,\n",
              " 0,\n",
              " 33,\n",
              " 92,\n",
              " 31,\n",
              " 89,\n",
              " 92,\n",
              " 35,\n",
              " 20,\n",
              " 92,\n",
              " 29,\n",
              " 73,\n",
              " 37,\n",
              " 36,\n",
              " 97,\n",
              " 18,\n",
              " 8,\n",
              " 52,\n",
              " 34,\n",
              " 20,\n",
              " 81,\n",
              " 81,\n",
              " 89,\n",
              " 65,\n",
              " 92,\n",
              " 40,\n",
              " 37,\n",
              " 20,\n",
              " 92,\n",
              " 31,\n",
              " 89,\n",
              " 92,\n",
              " 35,\n",
              " 20,\n",
              " 81,\n",
              " 92,\n",
              " 63,\n",
              " 20,\n",
              " 35,\n",
              " 35,\n",
              " 89,\n",
              " 81,\n",
              " 92,\n",
              " 56,\n",
              " 24,\n",
              " 81,\n",
              " 92,\n",
              " 52,\n",
              " 34,\n",
              " 20,\n",
              " 31,\n",
              " 36,\n",
              " 63,\n",
              " 36,\n",
              " 67,\n",
              " 37,\n",
              " 20,\n",
              " 35,\n",
              " 89,\n",
              " 81,\n",
              " 92,\n",
              " 31,\n",
              " 89,\n",
              " 35,\n",
              " 92,\n",
              " 42,\n",
              " 20,\n",
              " 34,\n",
              " 34,\n",
              " 36,\n",
              " 67,\n",
              " 92,\n",
              " 20,\n",
              " 37,\n",
              " 52,\n",
              " 36,\n",
              " 97,\n",
              " 40,\n",
              " 67,\n",
              " 92,\n",
              " 31,\n",
              " 89,\n",
              " 92,\n",
              " 70,\n",
              " 20,\n",
              " 56,\n",
              " 42,\n",
              " 40,\n",
              " 34,\n",
              " 97,\n",
              " 67,\n",
              " 51,\n",
              " 41,\n",
              " 77,\n",
              " 20,\n",
              " 34,\n",
              " 52,\n",
              " 20,\n",
              " 65,\n",
              " 92,\n",
              " 81,\n",
              " 40,\n",
              " 92,\n",
              " 89,\n",
              " 26,\n",
              " 63,\n",
              " 89,\n",
              " 35,\n",
              " 89,\n",
              " 37,\n",
              " 52,\n",
              " 89,\n",
              " 92,\n",
              " 63,\n",
              " 34,\n",
              " 36,\n",
              " 20,\n",
              " 31,\n",
              " 20,\n",
              " 65,\n",
              " 92,\n",
              " 81,\n",
              " 89,\n",
              " 92,\n",
              " 53,\n",
              " 34,\n",
              " 89,\n",
              " 67,\n",
              " 63,\n",
              " 40,\n",
              " 53,\n",
              " 96,\n",
              " 92,\n",
              " 81,\n",
              " 67,\n",
              " 42,\n",
              " 34,\n",
              " 89,\n",
              " 56,\n",
              " 20,\n",
              " 37,\n",
              " 89,\n",
              " 34,\n",
              " 20,\n",
              " 65,\n",
              " 92,\n",
              " 63,\n",
              " 34,\n",
              " 89,\n",
              " 25,\n",
              " 89,\n",
              " 37,\n",
              " 31,\n",
              " 67,\n",
              " 92,\n",
              " 58,\n",
              " 40,\n",
              " 89,\n",
              " 92,\n",
              " 81,\n",
              " 89,\n",
              " 92,\n",
              " 48,\n",
              " 20,\n",
              " 42,\n",
              " 95,\n",
              " 20,\n",
              " 92,\n",
              " 34,\n",
              " 89,\n",
              " 52,\n",
              " 34,\n",
              " 20,\n",
              " 81,\n",
              " 20,\n",
              " 31,\n",
              " 67,\n",
              " 65,\n",
              " 92,\n",
              " 53,\n",
              " 40,\n",
              " 89,\n",
              " 81,\n",
              " 92,\n",
              " 20,\n",
              " 53,\n",
              " 89,\n",
              " 37,\n",
              " 20,\n",
              " 81,\n",
              " 92,\n",
              " 89,\n",
              " 56,\n",
              " 53,\n",
              " 89,\n",
              " 43,\n",
              " 20,\n",
              " 42,\n",
              " 20,\n",
              " 92,\n",
              " 20,\n",
              " 92,\n",
              " 63,\n",
              " 67,\n",
              " 63,\n",
              " 36,\n",
              " 37,\n",
              " 20,\n",
              " 34,\n",
              " 92,\n",
              " 35,\n",
              " 20,\n",
              " 92,\n",
              " 63,\n",
              " 67,\n",
              " 56,\n",
              " 36,\n",
              " 31,\n",
              " 20,\n",
              " 92,\n",
              " 89,\n",
              " 37,\n",
              " 92,\n",
              " 89,\n",
              " 35,\n",
              " 92,\n",
              " 48,\n",
              " 67,\n",
              " 34,\n",
              " 37,\n",
              " 36,\n",
              " 35,\n",
              " 35,\n",
              " 67,\n",
              " 51,\n",
              " 41,\n",
              " 60,\n",
              " 16,\n",
              " 40,\n",
              " 89,\n",
              " 37,\n",
              " 67,\n",
              " 38,\n",
              " 92,\n",
              " 6,\n",
              " 53,\n",
              " 89,\n",
              " 37,\n",
              " 81,\n",
              " 47,\n",
              " 92,\n",
              " 53,\n",
              " 20,\n",
              " 34,\n",
              " 20,\n",
              " 92,\n",
              " 56,\n",
              " 95,\n",
              " 6,\n",
              " 65,\n",
              " 92,\n",
              " 60,\n",
              " 81,\n",
              " 36,\n",
              " 92,\n",
              " 56,\n",
              " 36,\n",
              " 92,\n",
              " 52,\n",
              " 95,\n",
              " 67,\n",
              " 92,\n",
              " 99,\n",
              " 36,\n",
              " 89,\n",
              " 37,\n",
              " 89,\n",
              " 92,\n",
              " 63,\n",
              " 67,\n",
              " 37,\n",
              " 92,\n",
              " 48,\n",
              " 20,\n",
              " 56,\n",
              " 42,\n",
              " 34,\n",
              " 89,\n",
              " 65,\n",
              " 92,\n",
              " 81,\n",
              " 89,\n",
              " 92,\n",
              " 99,\n",
              " 20,\n",
              " 92,\n",
              " 20,\n",
              " 92,\n",
              " 20,\n",
              " 34,\n",
              " 56,\n",
              " 20,\n",
              " 34,\n",
              " 92,\n",
              " 35,\n",
              " 20,\n",
              " 92,\n",
              " 31,\n",
              " 89,\n",
              " 92,\n",
              " 8,\n",
              " 20,\n",
              " 37,\n",
              " 92,\n",
              " 27,\n",
              " 40,\n",
              " 36,\n",
              " 37,\n",
              " 52,\n",
              " 95,\n",
              " 37,\n",
              " 22,\n",
              " 92,\n",
              " 53,\n",
              " 67,\n",
              " 34,\n",
              " 58,\n",
              " 40,\n",
              " 89,\n",
              " 92,\n",
              " 37,\n",
              " 67,\n",
              " 92,\n",
              " 63,\n",
              " 67,\n",
              " 37,\n",
              " 67,\n",
              " 43,\n",
              " 63,\n",
              " 67,\n",
              " 92,\n",
              " 20,\n",
              " 92,\n",
              " 67,\n",
              " 52,\n",
              " 34,\n",
              " 67,\n",
              " 92,\n",
              " 48,\n",
              " 67,\n",
              " 56,\n",
              " 42,\n",
              " 34,\n",
              " 89,\n",
              " 92,\n",
              " 31,\n",
              " 89,\n",
              " 92,\n",
              " 56,\n",
              " 89,\n",
              " 37,\n",
              " 67,\n",
              " 81,\n",
              " 92,\n",
              " 53,\n",
              " 20,\n",
              " 63,\n",
              " 36,\n",
              " 89,\n",
              " 37,\n",
              " 63,\n",
              " 36,\n",
              " 20,\n",
              " 38,\n",
              " 51,\n",
              " 41,\n",
              " 6,\n",
              " 102,\n",
              " 62,\n",
              " 20,\n",
              " 37,\n",
              " 92,\n",
              " 52,\n",
              " 89,\n",
              " 56,\n",
              " 53,\n",
              " 34,\n",
              " 20,\n",
              " 37,\n",
              " 67,\n",
              " 92,\n",
              " 25,\n",
              " 92,\n",
              " 25,\n",
              " 20,\n",
              " 92,\n",
              " 89,\n",
              " 81,\n",
              " 52,\n",
              " 24,\n",
              " 92,\n",
              " 20,\n",
              " 58,\n",
              " 40,\n",
              " 95,\n",
              " 92,\n",
              " 89,\n",
              " 35,\n",
              " 92,\n",
              " 81,\n",
              " 89,\n",
              " 79,\n",
              " 67,\n",
              " 34,\n",
              " 92,\n",
              " 32,\n",
              " 36,\n",
              " 31,\n",
              " 89,\n",
              " 37,\n",
              " 42,\n",
              " 34,\n",
              " 67,\n",
              " 63,\n",
              " 30,\n",
              " 49,\n",
              " 92,\n",
              " 6,\n",
              " 89,\n",
              " 26,\n",
              " 63,\n",
              " 35,\n",
              " 20,\n",
              " 56,\n",
              " 96,\n",
              " 92,\n",
              " 35,\n",
              " 20,\n",
              " 92,\n",
              " 53,\n",
              " 67,\n",
              " 42,\n",
              " 34,\n",
              " 89,\n",
              " 92,\n",
              " 77,\n",
              " 20,\n",
              " 34,\n",
              " 52,\n",
              " 20,\n",
              " 65,\n",
              " 92,\n",
              " 63,\n",
              " 67,\n",
              " 37,\n",
              " 92,\n",
              " 20,\n",
              " 34,\n",
              " 34,\n",
              " 89,\n",
              " 42,\n",
              " 67,\n",
              " 35,\n",
              " 65,\n",
              " 92,\n",
              " 89,\n",
              " 37,\n",
              " 52,\n",
              " 34,\n",
              " 89,\n",
              " 20,\n",
              " 42,\n",
              " 34,\n",
              " 36,\n",
              " 89,\n",
              " 37,\n",
              " 31,\n",
              " 67,\n",
              " 92,\n",
              " 35,\n",
              " 20,\n",
              " 92,\n",
              " 53,\n",
              " 40,\n",
              " 89,\n",
              " 34,\n",
              " 52,\n",
              " 20,\n",
              " 92,\n",
              " 31,\n",
              " 89,\n",
              " 35,\n",
              " 92,\n",
              " 63,\n",
              " 67,\n",
              " 56,\n",
              " 89,\n",
              " 31,\n",
              " 67,\n",
              " 34,\n",
              " 51,\n",
              " 41,\n",
              " 6,\n",
              " 8,\n",
              " 95,\n",
              " 65,\n",
              " 92,\n",
              " 77,\n",
              " 20,\n",
              " 34,\n",
              " 52,\n",
              " 20,\n",
              " 22,\n",
              " 92,\n",
              " 53,\n",
              " 89,\n",
              " 34,\n",
              " 67,\n",
              " 92,\n",
              " 52,\n",
              " 76,\n",
              " 92,\n",
              " 37,\n",
              " 67,\n",
              " 92,\n",
              " 52,\n",
              " 36,\n",
              " 89,\n",
              " 37,\n",
              " 89,\n",
              " 81,\n",
              " 92,\n",
              " 35,\n",
              " 20,\n",
              " 92,\n",
              " 63,\n",
              " 40,\n",
              " 35,\n",
              " 53,\n",
              " 20,\n",
              " 92,\n",
              " 31,\n",
              " 89,\n",
              " 92,\n",
              " 58,\n",
              " 40,\n",
              " 89,\n",
              " 92,\n",
              " 35,\n",
              " 20,\n",
              " 92,\n",
              " 63,\n",
              " 67,\n",
              " 56,\n",
              " 36,\n",
              " 31,\n",
              " 20,\n",
              " 92,\n",
              " 37,\n",
              " 67,\n",
              " 92,\n",
              " 89,\n",
              " 81,\n",
              " 52,\n",
              " 47,\n",
              " 92,\n",
              " 35,\n",
              " 36,\n",
              " 81,\n",
              " 52,\n",
              " 20,\n",
              " 92,\n",
              " 52,\n",
              " 67,\n",
              " 31,\n",
              " 20,\n",
              " 99,\n",
              " 95,\n",
              " 20,\n",
              " 65,\n",
              " 92,\n",
              " 53,\n",
              " 67,\n",
              " 34,\n",
              " 58,\n",
              " 40,\n",
              " 89,\n",
              " 92,\n",
              " 89,\n",
              " 81,\n",
              " 92,\n",
              " 52,\n",
              " 89,\n",
              " 56,\n",
              " 53,\n",
              " 34,\n",
              " 20,\n",
              " 37,\n",
              " 67,\n",
              " 65,\n",
              " 92,\n",
              " 20,\n",
              " 76,\n",
              " 37,\n",
              " 92,\n",
              " 37,\n",
              " 67,\n",
              " 92,\n",
              " 81,\n",
              " 67,\n",
              " 37,\n",
              " 92,\n",
              " 35,\n",
              " 20,\n",
              " 81,\n",
              " 92,\n",
              " 31,\n",
              " 67,\n",
              " 81,\n",
              " 51,\n",
              " 92,\n",
              " 98,\n",
              " 63,\n",
              " 20,\n",
              " 42,\n",
              " 20,\n",
              " 92,\n",
              " 31,\n",
              " 89,\n",
              " 92,\n",
              " 31,\n",
              " 20,\n",
              " 34,\n",
              " 92,\n",
              " 35,\n",
              " 20,\n",
              " 92,\n",
              " 56,\n",
              " 89,\n",
              " 31,\n",
              " 36,\n",
              " 20,\n",
              " 92,\n",
              " 48,\n",
              " 67,\n",
              " 34,\n",
              " 20,\n",
              " 92,\n",
              " 89,\n",
              " 37,\n",
              " 92,\n",
              " 8,\n",
              " 20,\n",
              " 37,\n",
              " 92,\n",
              " 77,\n",
              " 36,\n",
              " 97,\n",
              " 40,\n",
              " 89,\n",
              " 35,\n",
              " 51,\n",
              " 41,\n",
              " 6,\n",
              " 4,\n",
              " 100,\n",
              " 92,\n",
              " 53,\n",
              " 67,\n",
              " 34,\n",
              " 92,\n",
              " 58,\n",
              " 40,\n",
              " 47,\n",
              " 92,\n",
              " 48,\n",
              " 20,\n",
              " 92,\n",
              " 99,\n",
              " 89,\n",
              " 37,\n",
              " 36,\n",
              " 31,\n",
              " 67,\n",
              " 92,\n",
              " 52,\n",
              " 20,\n",
              " 37,\n",
              " 92,\n",
              " 53,\n",
              " 34,\n",
              " 67,\n",
              " 37,\n",
              " 52,\n",
              " 67,\n",
              " 92,\n",
              " 89,\n",
              " 35,\n",
              " 92,\n",
              " 81,\n",
              " 89,\n",
              " 79,\n",
              " 67,\n",
              " 34,\n",
              " 92,\n",
              " 32,\n",
              " 36,\n",
              " 31,\n",
              " 89,\n",
              " 37,\n",
              " 42,\n",
              " 34,\n",
              " 67,\n",
              " 63,\n",
              " 30,\n",
              " 2,\n",
              " 41,\n",
              " 6,\n",
              " 50,\n",
              " 35,\n",
              " 92,\n",
              " 35,\n",
              " 67,\n",
              " 92,\n",
              " 89,\n",
              " 26,\n",
              " 53,\n",
              " 35,\n",
              " 36,\n",
              " 63,\n",
              " 20,\n",
              " 34,\n",
              " 24,\n",
              " 65,\n",
              " 92,\n",
              " 81,\n",
              " 89,\n",
              " 97,\n",
              " 40,\n",
              " 34,\n",
              " 20,\n",
              " 56,\n",
              " 89,\n",
              " 37,\n",
              " 52,\n",
              " 89,\n",
              " 51,\n",
              " 41,\n",
              " 6,\n",
              " 102,\n",
              " 98,\n",
              " 48,\n",
              " 95,\n",
              " 92,\n",
              " 99,\n",
              " 36,\n",
              " 89,\n",
              " 37,\n",
              " 89,\n",
              " 49,\n",
              " 92,\n",
              " 100,\n",
              " 67,\n",
              " 92,\n",
              " 56,\n",
              " 89,\n",
              " 92,\n",
              " 89,\n",
              " 81,\n",
              " 63,\n",
              " 20,\n",
              " 53,\n",
              " 67,\n",
              " 51,\n",
              " 92,\n",
              " 8,\n",
              " 89,\n",
              " 79,\n",
              " 67,\n",
              " 34,\n",
              " 92,\n",
              " 98,\n",
              " 26,\n",
              " 89,\n",
              " 35,\n",
              " 65,\n",
              " 92,\n",
              " 63,\n",
              " 24,\n",
              " 35,\n",
              " 56,\n",
              " 89,\n",
              " 35,\n",
              " 67,\n",
              " 92,\n",
              " 40,\n",
              " 81,\n",
              " 52,\n",
              " 89,\n",
              " 31,\n",
              " 65,\n",
              " 92,\n",
              " 53,\n",
              " 67,\n",
              " 34,\n",
              " 92,\n",
              " 72,\n",
              " 20,\n",
              " 99,\n",
              " 67,\n",
              " 34,\n",
              " 51,\n",
              " 41,\n",
              " 100,\n",
              " 92,\n",
              " 35,\n",
              " 20,\n",
              " 92,\n",
              " 89,\n",
              " 26,\n",
              " 63,\n",
              " 89,\n",
              " 35,\n",
              " 89,\n",
              " 37,\n",
              " 52,\n",
              " 89,\n",
              " 92,\n",
              " 77,\n",
              " 20,\n",
              " 34,\n",
              " 52,\n",
              " 20,\n",
              " 92,\n",
              " 81]"
            ]
          },
          "execution_count": 62,
          "metadata": {},
          "output_type": "execute_result"
        }
      ],
      "source": [
        "tokenized_text[:1000]"
      ]
    },
    {
      "cell_type": "markdown",
      "metadata": {
        "id": "pfpYcaypKcI9"
      },
      "source": [
        "### Organizando y estructurando el dataset"
      ]
    },
    {
      "cell_type": "code",
      "execution_count": 63,
      "metadata": {
        "id": "WSSmg9jtKP0T"
      },
      "outputs": [],
      "source": [
        "# separaremos el dataset entre entrenamiento y validación.\n",
        "# `p_val` será la proporción del corpus que se reservará para validación\n",
        "# `num_val` es la cantidad de secuencias de tamaño `max_context_size` que se usará en validación\n",
        "p_val = 0.1\n",
        "num_val = int(np.ceil(len(tokenized_text)*p_val/max_context_size))"
      ]
    },
    {
      "cell_type": "code",
      "execution_count": 64,
      "metadata": {
        "id": "b7dCpGrdKll0"
      },
      "outputs": [],
      "source": [
        "# separamos la porción de texto utilizada en entrenamiento de la de validación.\n",
        "train_text = tokenized_text[:-num_val*max_context_size]\n",
        "val_text = tokenized_text[-num_val*max_context_size:]"
      ]
    },
    {
      "cell_type": "code",
      "execution_count": 65,
      "metadata": {
        "id": "NmxQdxl8LRCg"
      },
      "outputs": [],
      "source": [
        "tokenized_sentences_val = [val_text[init*max_context_size:init*(max_context_size+1)] for init in range(num_val)]"
      ]
    },
    {
      "cell_type": "code",
      "execution_count": 66,
      "metadata": {
        "id": "_gyFT9koLqDm"
      },
      "outputs": [],
      "source": [
        "tokenized_sentences_train = [train_text[init:init+max_context_size] for init in range(len(train_text)-max_context_size+1)]"
      ]
    },
    {
      "cell_type": "code",
      "execution_count": 67,
      "metadata": {
        "id": "oVNqmmLRodT0"
      },
      "outputs": [],
      "source": [
        "X = np.array(tokenized_sentences_train[:-1])\n",
        "y = np.array(tokenized_sentences_train[1:])"
      ]
    },
    {
      "cell_type": "markdown",
      "metadata": {
        "id": "Vken7O4ETsAJ"
      },
      "source": [
        "Nótese que estamos estructurando el problema de aprendizaje como *many-to-many*:\n",
        "\n",
        "Entrada: secuencia de tokens [$x_0$, $x_1$, ..., $x_N$]\n",
        "\n",
        "Target: secuencia de tokens [$x_1$, $x_2$, ..., $x_{N+1}$]\n",
        "\n",
        "De manera que la red tiene que aprender que su salida deben ser los tokens desplazados en una posición y un nuevo token predicho (el N+1).\n",
        "\n",
        "La ventaja de estructurar el aprendizaje de esta manera es que para cada token de target se propaga una señal de gradiente por el grafo de cómputo recurrente, que es mejor que estructurar el problema como *many-to-one* en donde sólo una señal de gradiente se propaga."
      ]
    },
    {
      "cell_type": "markdown",
      "metadata": {
        "id": "l3iPTx-UJl6r"
      },
      "source": [
        "En este punto tenemos en la variable `tokenized_sentences` los versos tokenizados. Vamos a quedarnos con un conjunto de validación que utilizaremos para medir la calidad de la generación de secuencias con la métrica de Perplejidad."
      ]
    },
    {
      "cell_type": "code",
      "execution_count": 68,
      "metadata": {
        "colab": {
          "base_uri": "https://localhost:8080/"
        },
        "id": "KFAyA4zCWE-5",
        "outputId": "1faad6e3-6c0e-456b-cc19-99ea0de33ba1"
      },
      "outputs": [
        {
          "data": {
            "text/plain": [
              "(382265, 100)"
            ]
          },
          "execution_count": 68,
          "metadata": {},
          "output_type": "execute_result"
        }
      ],
      "source": [
        "X.shape"
      ]
    },
    {
      "cell_type": "code",
      "execution_count": 69,
      "metadata": {
        "colab": {
          "base_uri": "https://localhost:8080/"
        },
        "id": "qcKRl70HFTzG",
        "outputId": "4b6ebc57-7535-49c4-ab1d-2c58be294f5c"
      },
      "outputs": [
        {
          "data": {
            "text/plain": [
              "array([ 7, 36, 20,  1, 89, 92, 20, 35, 92, 94])"
            ]
          },
          "execution_count": 69,
          "metadata": {},
          "output_type": "execute_result"
        }
      ],
      "source": [
        "X[0,:10]"
      ]
    },
    {
      "cell_type": "code",
      "execution_count": 70,
      "metadata": {
        "colab": {
          "base_uri": "https://localhost:8080/"
        },
        "id": "TVpLCKSZFXZO",
        "outputId": "02d0ea09-81d4-485b-8603-d6127b46f208"
      },
      "outputs": [
        {
          "data": {
            "text/plain": [
              "array([36, 20,  1, 89, 92, 20, 35, 92, 94, 89])"
            ]
          },
          "execution_count": 70,
          "metadata": {},
          "output_type": "execute_result"
        }
      ],
      "source": [
        "y[0,:10]"
      ]
    },
    {
      "cell_type": "code",
      "execution_count": 71,
      "metadata": {
        "id": "wOFCR-KqbW1N"
      },
      "outputs": [],
      "source": [
        "vocab_size = len(chars_vocab)"
      ]
    },
    {
      "cell_type": "markdown",
      "metadata": {
        "id": "tnnjdAQ5UAEJ"
      },
      "source": [
        "# Definiendo el modelo"
      ]
    },
    {
      "cell_type": "code",
      "execution_count": 72,
      "metadata": {
        "id": "rkMCZvmhrQz4"
      },
      "outputs": [],
      "source": [
        "from keras.layers import Input, TimeDistributed, CategoryEncoding, SimpleRNN, Dense\n",
        "from keras.models import Model, Sequential"
      ]
    },
    {
      "cell_type": "markdown",
      "metadata": {
        "id": "wgz7VKwTUbj6"
      },
      "source": [
        "El modelo que se propone como ejemplo consume los índices de los tokens y los transforma en vectores OHE (en este caso no entrenamos una capa de embedding para caracteres). Esa transformación se logra combinando las capas `CategoryEncoding` que transforma a índices a vectores OHE y `TimeDistributed` que aplica la capa a lo largo de la dimensión \"temporal\" de la secuencia."
      ]
    },
    {
      "cell_type": "code",
      "execution_count": 73,
      "metadata": {
        "colab": {
          "base_uri": "https://localhost:8080/",
          "height": 294
        },
        "id": "Zd2OkfQYs2Q7",
        "outputId": "872685b6-a8d2-45ba-abc7-3c95e9d7d25f"
      },
      "outputs": [
        {
          "name": "stderr",
          "output_type": "stream",
          "text": [
            "/usr/local/lib/python3.10/dist-packages/keras/src/layers/core/wrapper.py:27: UserWarning: Do not pass an `input_shape`/`input_dim` argument to a layer. When using Sequential models, prefer using an `Input(shape)` object as the first layer in the model instead.\n",
            "  super().__init__(**kwargs)\n"
          ]
        },
        {
          "data": {
            "text/html": [
              "<pre style=\"white-space:pre;overflow-x:auto;line-height:normal;font-family:Menlo,'DejaVu Sans Mono',consolas,'Courier New',monospace\"><span style=\"font-weight: bold\">Model: \"sequential_2\"</span>\n",
              "</pre>\n"
            ],
            "text/plain": [
              "\u001b[1mModel: \"sequential_2\"\u001b[0m\n"
            ]
          },
          "metadata": {},
          "output_type": "display_data"
        },
        {
          "data": {
            "text/html": [
              "<pre style=\"white-space:pre;overflow-x:auto;line-height:normal;font-family:Menlo,'DejaVu Sans Mono',consolas,'Courier New',monospace\">┏━━━━━━━━━━━━━━━━━━━━━━━━━━━━━━━━━━━━━━┳━━━━━━━━━━━━━━━━━━━━━━━━━━━━━┳━━━━━━━━━━━━━━━━━┓\n",
              "┃<span style=\"font-weight: bold\"> Layer (type)                         </span>┃<span style=\"font-weight: bold\"> Output Shape                </span>┃<span style=\"font-weight: bold\">         Param # </span>┃\n",
              "┡━━━━━━━━━━━━━━━━━━━━━━━━━━━━━━━━━━━━━━╇━━━━━━━━━━━━━━━━━━━━━━━━━━━━━╇━━━━━━━━━━━━━━━━━┩\n",
              "│ time_distributed_1 (<span style=\"color: #0087ff; text-decoration-color: #0087ff\">TimeDistributed</span>) │ (<span style=\"color: #00d7ff; text-decoration-color: #00d7ff\">None</span>, <span style=\"color: #00d7ff; text-decoration-color: #00d7ff\">None</span>, <span style=\"color: #00af00; text-decoration-color: #00af00\">104</span>)           │               <span style=\"color: #00af00; text-decoration-color: #00af00\">0</span> │\n",
              "├──────────────────────────────────────┼─────────────────────────────┼─────────────────┤\n",
              "│ simple_rnn_1 (<span style=\"color: #0087ff; text-decoration-color: #0087ff\">SimpleRNN</span>)             │ (<span style=\"color: #00d7ff; text-decoration-color: #00d7ff\">None</span>, <span style=\"color: #00d7ff; text-decoration-color: #00d7ff\">None</span>, <span style=\"color: #00af00; text-decoration-color: #00af00\">200</span>)           │          <span style=\"color: #00af00; text-decoration-color: #00af00\">61,000</span> │\n",
              "├──────────────────────────────────────┼─────────────────────────────┼─────────────────┤\n",
              "│ dense_1 (<span style=\"color: #0087ff; text-decoration-color: #0087ff\">Dense</span>)                      │ (<span style=\"color: #00d7ff; text-decoration-color: #00d7ff\">None</span>, <span style=\"color: #00d7ff; text-decoration-color: #00d7ff\">None</span>, <span style=\"color: #00af00; text-decoration-color: #00af00\">104</span>)           │          <span style=\"color: #00af00; text-decoration-color: #00af00\">20,904</span> │\n",
              "└──────────────────────────────────────┴─────────────────────────────┴─────────────────┘\n",
              "</pre>\n"
            ],
            "text/plain": [
              "┏━━━━━━━━━━━━━━━━━━━━━━━━━━━━━━━━━━━━━━┳━━━━━━━━━━━━━━━━━━━━━━━━━━━━━┳━━━━━━━━━━━━━━━━━┓\n",
              "┃\u001b[1m \u001b[0m\u001b[1mLayer (type)                        \u001b[0m\u001b[1m \u001b[0m┃\u001b[1m \u001b[0m\u001b[1mOutput Shape               \u001b[0m\u001b[1m \u001b[0m┃\u001b[1m \u001b[0m\u001b[1m        Param #\u001b[0m\u001b[1m \u001b[0m┃\n",
              "┡━━━━━━━━━━━━━━━━━━━━━━━━━━━━━━━━━━━━━━╇━━━━━━━━━━━━━━━━━━━━━━━━━━━━━╇━━━━━━━━━━━━━━━━━┩\n",
              "│ time_distributed_1 (\u001b[38;5;33mTimeDistributed\u001b[0m) │ (\u001b[38;5;45mNone\u001b[0m, \u001b[38;5;45mNone\u001b[0m, \u001b[38;5;34m104\u001b[0m)           │               \u001b[38;5;34m0\u001b[0m │\n",
              "├──────────────────────────────────────┼─────────────────────────────┼─────────────────┤\n",
              "│ simple_rnn_1 (\u001b[38;5;33mSimpleRNN\u001b[0m)             │ (\u001b[38;5;45mNone\u001b[0m, \u001b[38;5;45mNone\u001b[0m, \u001b[38;5;34m200\u001b[0m)           │          \u001b[38;5;34m61,000\u001b[0m │\n",
              "├──────────────────────────────────────┼─────────────────────────────┼─────────────────┤\n",
              "│ dense_1 (\u001b[38;5;33mDense\u001b[0m)                      │ (\u001b[38;5;45mNone\u001b[0m, \u001b[38;5;45mNone\u001b[0m, \u001b[38;5;34m104\u001b[0m)           │          \u001b[38;5;34m20,904\u001b[0m │\n",
              "└──────────────────────────────────────┴─────────────────────────────┴─────────────────┘\n"
            ]
          },
          "metadata": {},
          "output_type": "display_data"
        },
        {
          "data": {
            "text/html": [
              "<pre style=\"white-space:pre;overflow-x:auto;line-height:normal;font-family:Menlo,'DejaVu Sans Mono',consolas,'Courier New',monospace\"><span style=\"font-weight: bold\"> Total params: </span><span style=\"color: #00af00; text-decoration-color: #00af00\">81,904</span> (319.94 KB)\n",
              "</pre>\n"
            ],
            "text/plain": [
              "\u001b[1m Total params: \u001b[0m\u001b[38;5;34m81,904\u001b[0m (319.94 KB)\n"
            ]
          },
          "metadata": {},
          "output_type": "display_data"
        },
        {
          "data": {
            "text/html": [
              "<pre style=\"white-space:pre;overflow-x:auto;line-height:normal;font-family:Menlo,'DejaVu Sans Mono',consolas,'Courier New',monospace\"><span style=\"font-weight: bold\"> Trainable params: </span><span style=\"color: #00af00; text-decoration-color: #00af00\">81,904</span> (319.94 KB)\n",
              "</pre>\n"
            ],
            "text/plain": [
              "\u001b[1m Trainable params: \u001b[0m\u001b[38;5;34m81,904\u001b[0m (319.94 KB)\n"
            ]
          },
          "metadata": {},
          "output_type": "display_data"
        },
        {
          "data": {
            "text/html": [
              "<pre style=\"white-space:pre;overflow-x:auto;line-height:normal;font-family:Menlo,'DejaVu Sans Mono',consolas,'Courier New',monospace\"><span style=\"font-weight: bold\"> Non-trainable params: </span><span style=\"color: #00af00; text-decoration-color: #00af00\">0</span> (0.00 B)\n",
              "</pre>\n"
            ],
            "text/plain": [
              "\u001b[1m Non-trainable params: \u001b[0m\u001b[38;5;34m0\u001b[0m (0.00 B)\n"
            ]
          },
          "metadata": {},
          "output_type": "display_data"
        }
      ],
      "source": [
        "model = Sequential()\n",
        "\n",
        "model.add(TimeDistributed(CategoryEncoding(num_tokens=vocab_size, output_mode = \"one_hot\"),input_shape=(None,1)))\n",
        "model.add(SimpleRNN(200, return_sequences=True, dropout=0.1, recurrent_dropout=0.1 ))\n",
        "model.add(Dense(vocab_size, activation='softmax'))\n",
        "model.compile(loss='sparse_categorical_crossentropy', optimizer='rmsprop')\n",
        "\n",
        "model.summary()"
      ]
    },
    {
      "cell_type": "markdown",
      "metadata": {
        "id": "GmJWNyxQwfCE"
      },
      "source": [
        "\n",
        "### Definir el modelo"
      ]
    },
    {
      "cell_type": "markdown",
      "metadata": {
        "id": "YWK3z85sQfUe"
      },
      "source": [
        "Dado que por el momento no hay implementaciones adecuadas de la perplejidad que puedan operar en tiempo de entrenamiento, armaremos un Callback *ad-hoc* que la calcule en cada epoch.\n",
        "\n",
        "**Nota**: un Callback es una rutina gatillada por algún evento, son muy útiles para relevar datos en diferentes momentos del desarrollo del modelo. En este caso queremos hacer un cálculo cada vez que termina una epoch de entrenamiento."
      ]
    },
    {
      "cell_type": "code",
      "execution_count": 74,
      "metadata": {
        "id": "zUHX3r5JD-MG"
      },
      "outputs": [],
      "source": [
        "class PplCallback(keras.callbacks.Callback):\n",
        "\n",
        "    '''\n",
        "    Este callback es una solución ad-hoc para calcular al final de cada epoch de\n",
        "    entrenamiento la métrica de Perplejidad sobre un conjunto de datos de validación.\n",
        "    La perplejidad es una métrica cuantitativa para evaluar la calidad de la generación de secuencias.\n",
        "    Además implementa la finalización del entrenamiento (Early Stopping)\n",
        "    si la perplejidad no mejora después de `patience` epochs.\n",
        "    '''\n",
        "\n",
        "    def __init__(self, val_data, history_ppl,patience=5):\n",
        "      # El callback lo inicializamos con secuencias de validación sobre las cuales\n",
        "      # mediremos la perplejidad\n",
        "      self.val_data = val_data\n",
        "\n",
        "      self.target = []\n",
        "      self.padded = []\n",
        "\n",
        "      count = 0\n",
        "      self.info = []\n",
        "      self.min_score = np.inf\n",
        "      self.patience_counter = 0\n",
        "      self.patience = patience\n",
        "\n",
        "      # nos movemos en todas las secuencias de los datos de validación\n",
        "      for seq in self.val_data:\n",
        "\n",
        "        len_seq = len(seq)\n",
        "        # armamos todas las subsecuencias\n",
        "        subseq = [seq[:i] for i in range(1,len_seq)]\n",
        "        self.target.extend([seq[i] for i in range(1,len_seq)])\n",
        "\n",
        "        if len(subseq)!=0:\n",
        "\n",
        "          self.padded.append(pad_sequences(subseq, maxlen=max_context_size, padding='pre'))\n",
        "\n",
        "          self.info.append((count,count+len_seq))\n",
        "          count += len_seq\n",
        "\n",
        "      self.padded = np.vstack(self.padded)\n",
        "\n",
        "\n",
        "    def on_epoch_end(self, epoch, logs=None):\n",
        "\n",
        "        # en `scores` iremos guardando la perplejidad de cada secuencia\n",
        "        scores = []\n",
        "\n",
        "        predictions = self.model.predict(self.padded,verbose=0)\n",
        "\n",
        "        # para cada secuencia de validación\n",
        "        for start,end in self.info:\n",
        "\n",
        "          # en `probs` iremos guardando las probabilidades de los términos target\n",
        "          probs = [predictions[idx_seq,-1,idx_vocab] for idx_seq, idx_vocab in zip(range(start,end),self.target[start:end])]\n",
        "\n",
        "          # calculamos la perplejidad por medio de logaritmos\n",
        "          scores.append(np.exp(-np.sum(np.log(probs))/(end-start)))\n",
        "\n",
        "        # promediamos todos los scores e imprimimos el valor promedio\n",
        "        current_score = np.mean(scores)\n",
        "        history_ppl.append(current_score)\n",
        "        print(f'\\n mean perplexity: {current_score} \\n')\n",
        "\n",
        "        # chequeamos si tenemos que detener el entrenamiento\n",
        "        if current_score < self.min_score:\n",
        "          self.min_score = current_score\n",
        "          self.model.save(\"my_model_min.h5\")\n",
        "          print(\"Saved new model!\")\n",
        "          self.patience_counter = 0\n",
        "        else:\n",
        "          self.patience_counter += 1\n",
        "          if self.patience_counter == self.patience:\n",
        "            print(\"Stopping training...\")\n",
        "            self.model.stop_training = True\n"
      ]
    },
    {
      "cell_type": "markdown",
      "metadata": {
        "id": "8HBZIwR0gruA"
      },
      "source": [
        "### Entrenamiento"
      ]
    },
    {
      "cell_type": "code",
      "execution_count": 75,
      "metadata": {
        "colab": {
          "base_uri": "https://localhost:8080/"
        },
        "id": "oQq1PHDkxDvN",
        "outputId": "9d3f0ea5-37c4-4854-d58a-3d0300c18c10"
      },
      "outputs": [
        {
          "name": "stdout",
          "output_type": "stream",
          "text": [
            "Epoch 1/20\n",
            "\u001b[1m1494/1494\u001b[0m \u001b[32m━━━━━━━━━━━━━━━━━━━━\u001b[0m\u001b[37m\u001b[0m \u001b[1m0s\u001b[0m 19ms/step - loss: 2.5071"
          ]
        },
        {
          "name": "stderr",
          "output_type": "stream",
          "text": [
            "WARNING:absl:You are saving your model as an HDF5 file via `model.save()` or `keras.saving.save_model(model)`. This file format is considered legacy. We recommend using instead the native Keras format, e.g. `model.save('my_model.keras')` or `keras.saving.save_model(model, 'my_model.keras')`. \n"
          ]
        },
        {
          "name": "stdout",
          "output_type": "stream",
          "text": [
            "\n",
            " mean perplexity: 6.606943561550845 \n",
            "\n",
            "Saved new model!\n",
            "\b\b\b\b\b\b\b\b\b\b\b\b\b\b\b\b\b\b\b\b\b\b\b\b\b\b\b\b\b\b\b\b\b\b\b\b\b\b\b\b\b\b\b\b\b\b\b\b\b\b\b\b\b\b\b\b\b\b\r\u001b[1m1494/1494\u001b[0m \u001b[32m━━━━━━━━━━━━━━━━━━━━\u001b[0m\u001b[37m\u001b[0m \u001b[1m77s\u001b[0m 47ms/step - loss: 2.5069\n",
            "Epoch 2/20\n",
            "\u001b[1m1492/1494\u001b[0m \u001b[32m━━━━━━━━━━━━━━━━━━━\u001b[0m\u001b[37m━\u001b[0m \u001b[1m0s\u001b[0m 17ms/step - loss: 1.9795"
          ]
        },
        {
          "name": "stderr",
          "output_type": "stream",
          "text": [
            "WARNING:absl:You are saving your model as an HDF5 file via `model.save()` or `keras.saving.save_model(model)`. This file format is considered legacy. We recommend using instead the native Keras format, e.g. `model.save('my_model.keras')` or `keras.saving.save_model(model, 'my_model.keras')`. \n"
          ]
        },
        {
          "name": "stdout",
          "output_type": "stream",
          "text": [
            "\n",
            " mean perplexity: 5.646371620013822 \n",
            "\n",
            "Saved new model!\n",
            "\b\b\b\b\b\b\b\b\b\b\b\b\b\b\b\b\b\b\b\b\b\b\b\b\b\b\b\b\b\b\b\b\b\b\b\b\b\b\b\b\b\b\b\b\b\b\b\b\b\b\b\b\b\b\b\b\b\b\r\u001b[1m1494/1494\u001b[0m \u001b[32m━━━━━━━━━━━━━━━━━━━━\u001b[0m\u001b[37m\u001b[0m \u001b[1m56s\u001b[0m 31ms/step - loss: 1.9795\n",
            "Epoch 3/20\n",
            "\u001b[1m1491/1494\u001b[0m \u001b[32m━━━━━━━━━━━━━━━━━━━\u001b[0m\u001b[37m━\u001b[0m \u001b[1m0s\u001b[0m 17ms/step - loss: 1.8669"
          ]
        },
        {
          "name": "stderr",
          "output_type": "stream",
          "text": [
            "WARNING:absl:You are saving your model as an HDF5 file via `model.save()` or `keras.saving.save_model(model)`. This file format is considered legacy. We recommend using instead the native Keras format, e.g. `model.save('my_model.keras')` or `keras.saving.save_model(model, 'my_model.keras')`. \n"
          ]
        },
        {
          "name": "stdout",
          "output_type": "stream",
          "text": [
            "\n",
            " mean perplexity: 5.230126909557962 \n",
            "\n",
            "Saved new model!\n",
            "\b\b\b\b\b\b\b\b\b\b\b\b\b\b\b\b\b\b\b\b\b\b\b\b\b\b\b\b\b\b\b\b\b\b\b\b\b\b\b\b\b\b\b\b\b\b\b\b\b\b\b\b\b\b\b\b\b\b\r\u001b[1m1494/1494\u001b[0m \u001b[32m━━━━━━━━━━━━━━━━━━━━\u001b[0m\u001b[37m\u001b[0m \u001b[1m46s\u001b[0m 31ms/step - loss: 1.8669\n",
            "Epoch 4/20\n",
            "\u001b[1m1492/1494\u001b[0m \u001b[32m━━━━━━━━━━━━━━━━━━━\u001b[0m\u001b[37m━\u001b[0m \u001b[1m0s\u001b[0m 17ms/step - loss: 1.8145"
          ]
        },
        {
          "name": "stderr",
          "output_type": "stream",
          "text": [
            "WARNING:absl:You are saving your model as an HDF5 file via `model.save()` or `keras.saving.save_model(model)`. This file format is considered legacy. We recommend using instead the native Keras format, e.g. `model.save('my_model.keras')` or `keras.saving.save_model(model, 'my_model.keras')`. \n"
          ]
        },
        {
          "name": "stdout",
          "output_type": "stream",
          "text": [
            "\n",
            " mean perplexity: 5.086278235678618 \n",
            "\n",
            "Saved new model!\n",
            "\b\b\b\b\b\b\b\b\b\b\b\b\b\b\b\b\b\b\b\b\b\b\b\b\b\b\b\b\b\b\b\b\b\b\b\b\b\b\b\b\b\b\b\b\b\b\b\b\b\b\b\b\b\b\b\b\b\b\r\u001b[1m1494/1494\u001b[0m \u001b[32m━━━━━━━━━━━━━━━━━━━━\u001b[0m\u001b[37m\u001b[0m \u001b[1m80s\u001b[0m 29ms/step - loss: 1.8144\n",
            "Epoch 5/20\n",
            "\u001b[1m1492/1494\u001b[0m \u001b[32m━━━━━━━━━━━━━━━━━━━\u001b[0m\u001b[37m━\u001b[0m \u001b[1m0s\u001b[0m 17ms/step - loss: 1.7848"
          ]
        },
        {
          "name": "stderr",
          "output_type": "stream",
          "text": [
            "WARNING:absl:You are saving your model as an HDF5 file via `model.save()` or `keras.saving.save_model(model)`. This file format is considered legacy. We recommend using instead the native Keras format, e.g. `model.save('my_model.keras')` or `keras.saving.save_model(model, 'my_model.keras')`. \n"
          ]
        },
        {
          "name": "stdout",
          "output_type": "stream",
          "text": [
            "\n",
            " mean perplexity: 4.939380759647242 \n",
            "\n",
            "Saved new model!\n",
            "\b\b\b\b\b\b\b\b\b\b\b\b\b\b\b\b\b\b\b\b\b\b\b\b\b\b\b\b\b\b\b\b\b\b\b\b\b\b\b\b\b\b\b\b\b\b\b\b\b\b\b\b\b\b\b\b\b\b\r\u001b[1m1494/1494\u001b[0m \u001b[32m━━━━━━━━━━━━━━━━━━━━\u001b[0m\u001b[37m\u001b[0m \u001b[1m82s\u001b[0m 30ms/step - loss: 1.7848\n",
            "Epoch 6/20\n",
            "\u001b[1m1492/1494\u001b[0m \u001b[32m━━━━━━━━━━━━━━━━━━━\u001b[0m\u001b[37m━\u001b[0m \u001b[1m0s\u001b[0m 17ms/step - loss: 1.7655"
          ]
        },
        {
          "name": "stderr",
          "output_type": "stream",
          "text": [
            "WARNING:absl:You are saving your model as an HDF5 file via `model.save()` or `keras.saving.save_model(model)`. This file format is considered legacy. We recommend using instead the native Keras format, e.g. `model.save('my_model.keras')` or `keras.saving.save_model(model, 'my_model.keras')`. \n"
          ]
        },
        {
          "name": "stdout",
          "output_type": "stream",
          "text": [
            "\n",
            " mean perplexity: 4.913485055217378 \n",
            "\n",
            "Saved new model!\n",
            "\b\b\b\b\b\b\b\b\b\b\b\b\b\b\b\b\b\b\b\b\b\b\b\b\b\b\b\b\b\b\b\b\b\b\b\b\b\b\b\b\b\b\b\b\b\b\b\b\b\b\b\b\b\b\b\b\b\b\r\u001b[1m1494/1494\u001b[0m \u001b[32m━━━━━━━━━━━━━━━━━━━━\u001b[0m\u001b[37m\u001b[0m \u001b[1m83s\u001b[0m 31ms/step - loss: 1.7654\n",
            "Epoch 7/20\n",
            "\u001b[1m1493/1494\u001b[0m \u001b[32m━━━━━━━━━━━━━━━━━━━\u001b[0m\u001b[37m━\u001b[0m \u001b[1m0s\u001b[0m 17ms/step - loss: 1.7508"
          ]
        },
        {
          "name": "stderr",
          "output_type": "stream",
          "text": [
            "WARNING:absl:You are saving your model as an HDF5 file via `model.save()` or `keras.saving.save_model(model)`. This file format is considered legacy. We recommend using instead the native Keras format, e.g. `model.save('my_model.keras')` or `keras.saving.save_model(model, 'my_model.keras')`. \n"
          ]
        },
        {
          "name": "stdout",
          "output_type": "stream",
          "text": [
            "\n",
            " mean perplexity: 4.837378450075655 \n",
            "\n",
            "Saved new model!\n",
            "\b\b\b\b\b\b\b\b\b\b\b\b\b\b\b\b\b\b\b\b\b\b\b\b\b\b\b\b\b\b\b\b\b\b\b\b\b\b\b\b\b\b\b\b\b\b\b\b\b\b\b\b\b\b\b\b\b\b\r\u001b[1m1494/1494\u001b[0m \u001b[32m━━━━━━━━━━━━━━━━━━━━\u001b[0m\u001b[37m\u001b[0m \u001b[1m82s\u001b[0m 31ms/step - loss: 1.7508\n",
            "Epoch 8/20\n",
            "\u001b[1m1494/1494\u001b[0m \u001b[32m━━━━━━━━━━━━━━━━━━━━\u001b[0m\u001b[37m\u001b[0m \u001b[1m0s\u001b[0m 17ms/step - loss: 1.7393"
          ]
        },
        {
          "name": "stderr",
          "output_type": "stream",
          "text": [
            "WARNING:absl:You are saving your model as an HDF5 file via `model.save()` or `keras.saving.save_model(model)`. This file format is considered legacy. We recommend using instead the native Keras format, e.g. `model.save('my_model.keras')` or `keras.saving.save_model(model, 'my_model.keras')`. \n"
          ]
        },
        {
          "name": "stdout",
          "output_type": "stream",
          "text": [
            "\n",
            " mean perplexity: 4.795620324526378 \n",
            "\n",
            "Saved new model!\n",
            "\b\b\b\b\b\b\b\b\b\b\b\b\b\b\b\b\b\b\b\b\b\b\b\b\b\b\b\b\b\b\b\b\b\b\b\b\b\b\b\b\b\b\b\b\b\b\b\b\b\b\b\b\b\b\b\b\b\b\r\u001b[1m1494/1494\u001b[0m \u001b[32m━━━━━━━━━━━━━━━━━━━━\u001b[0m\u001b[37m\u001b[0m \u001b[1m46s\u001b[0m 31ms/step - loss: 1.7393\n",
            "Epoch 9/20\n",
            "\u001b[1m1493/1494\u001b[0m \u001b[32m━━━━━━━━━━━━━━━━━━━\u001b[0m\u001b[37m━\u001b[0m \u001b[1m0s\u001b[0m 17ms/step - loss: 1.7316"
          ]
        },
        {
          "name": "stderr",
          "output_type": "stream",
          "text": [
            "WARNING:absl:You are saving your model as an HDF5 file via `model.save()` or `keras.saving.save_model(model)`. This file format is considered legacy. We recommend using instead the native Keras format, e.g. `model.save('my_model.keras')` or `keras.saving.save_model(model, 'my_model.keras')`. \n"
          ]
        },
        {
          "name": "stdout",
          "output_type": "stream",
          "text": [
            "\n",
            " mean perplexity: 4.790423509361583 \n",
            "\n",
            "Saved new model!\n",
            "\b\b\b\b\b\b\b\b\b\b\b\b\b\b\b\b\b\b\b\b\b\b\b\b\b\b\b\b\b\b\b\b\b\b\b\b\b\b\b\b\b\b\b\b\b\b\b\b\b\b\b\b\b\b\b\b\b\b\r\u001b[1m1494/1494\u001b[0m \u001b[32m━━━━━━━━━━━━━━━━━━━━\u001b[0m\u001b[37m\u001b[0m \u001b[1m82s\u001b[0m 31ms/step - loss: 1.7316\n",
            "Epoch 10/20\n",
            "\u001b[1m1491/1494\u001b[0m \u001b[32m━━━━━━━━━━━━━━━━━━━\u001b[0m\u001b[37m━\u001b[0m \u001b[1m0s\u001b[0m 17ms/step - loss: 1.7236"
          ]
        },
        {
          "name": "stderr",
          "output_type": "stream",
          "text": [
            "WARNING:absl:You are saving your model as an HDF5 file via `model.save()` or `keras.saving.save_model(model)`. This file format is considered legacy. We recommend using instead the native Keras format, e.g. `model.save('my_model.keras')` or `keras.saving.save_model(model, 'my_model.keras')`. \n"
          ]
        },
        {
          "name": "stdout",
          "output_type": "stream",
          "text": [
            "\n",
            " mean perplexity: 4.745235433103477 \n",
            "\n",
            "Saved new model!\n",
            "\b\b\b\b\b\b\b\b\b\b\b\b\b\b\b\b\b\b\b\b\b\b\b\b\b\b\b\b\b\b\b\b\b\b\b\b\b\b\b\b\b\b\b\b\b\b\b\b\b\b\b\b\b\b\b\b\b\b\r\u001b[1m1494/1494\u001b[0m \u001b[32m━━━━━━━━━━━━━━━━━━━━\u001b[0m\u001b[37m\u001b[0m \u001b[1m80s\u001b[0m 29ms/step - loss: 1.7236\n",
            "Epoch 11/20\n",
            "\u001b[1m1494/1494\u001b[0m \u001b[32m━━━━━━━━━━━━━━━━━━━━\u001b[0m\u001b[37m\u001b[0m \u001b[1m0s\u001b[0m 17ms/step - loss: 1.7168"
          ]
        },
        {
          "name": "stderr",
          "output_type": "stream",
          "text": [
            "WARNING:absl:You are saving your model as an HDF5 file via `model.save()` or `keras.saving.save_model(model)`. This file format is considered legacy. We recommend using instead the native Keras format, e.g. `model.save('my_model.keras')` or `keras.saving.save_model(model, 'my_model.keras')`. \n"
          ]
        },
        {
          "name": "stdout",
          "output_type": "stream",
          "text": [
            "\n",
            " mean perplexity: 4.653154673008477 \n",
            "\n",
            "Saved new model!\n",
            "\b\b\b\b\b\b\b\b\b\b\b\b\b\b\b\b\b\b\b\b\b\b\b\b\b\b\b\b\b\b\b\b\b\b\b\b\b\b\b\b\b\b\b\b\b\b\b\b\b\b\b\b\b\b\b\b\b\b\r\u001b[1m1494/1494\u001b[0m \u001b[32m━━━━━━━━━━━━━━━━━━━━\u001b[0m\u001b[37m\u001b[0m \u001b[1m82s\u001b[0m 29ms/step - loss: 1.7168\n",
            "Epoch 12/20\n",
            "\u001b[1m1493/1494\u001b[0m \u001b[32m━━━━━━━━━━━━━━━━━━━\u001b[0m\u001b[37m━\u001b[0m \u001b[1m0s\u001b[0m 17ms/step - loss: 1.7109\n",
            " mean perplexity: 4.704716701684103 \n",
            "\n",
            "\u001b[1m1494/1494\u001b[0m \u001b[32m━━━━━━━━━━━━━━━━━━━━\u001b[0m\u001b[37m\u001b[0m \u001b[1m82s\u001b[0m 29ms/step - loss: 1.7109\n",
            "Epoch 13/20\n",
            "\u001b[1m1493/1494\u001b[0m \u001b[32m━━━━━━━━━━━━━━━━━━━\u001b[0m\u001b[37m━\u001b[0m \u001b[1m0s\u001b[0m 16ms/step - loss: 1.7069"
          ]
        },
        {
          "name": "stderr",
          "output_type": "stream",
          "text": [
            "WARNING:absl:You are saving your model as an HDF5 file via `model.save()` or `keras.saving.save_model(model)`. This file format is considered legacy. We recommend using instead the native Keras format, e.g. `model.save('my_model.keras')` or `keras.saving.save_model(model, 'my_model.keras')`. \n"
          ]
        },
        {
          "name": "stdout",
          "output_type": "stream",
          "text": [
            "\n",
            " mean perplexity: 4.631449097768355 \n",
            "\n",
            "Saved new model!\n",
            "\b\b\b\b\b\b\b\b\b\b\b\b\b\b\b\b\b\b\b\b\b\b\b\b\b\b\b\b\b\b\b\b\b\b\b\b\b\b\b\b\b\b\b\b\b\b\b\b\b\b\b\b\b\b\b\b\b\b\r\u001b[1m1494/1494\u001b[0m \u001b[32m━━━━━━━━━━━━━━━━━━━━\u001b[0m\u001b[37m\u001b[0m \u001b[1m82s\u001b[0m 29ms/step - loss: 1.7069\n",
            "Epoch 14/20\n",
            "\u001b[1m1493/1494\u001b[0m \u001b[32m━━━━━━━━━━━━━━━━━━━\u001b[0m\u001b[37m━\u001b[0m \u001b[1m0s\u001b[0m 17ms/step - loss: 1.7031"
          ]
        },
        {
          "name": "stderr",
          "output_type": "stream",
          "text": [
            "WARNING:absl:You are saving your model as an HDF5 file via `model.save()` or `keras.saving.save_model(model)`. This file format is considered legacy. We recommend using instead the native Keras format, e.g. `model.save('my_model.keras')` or `keras.saving.save_model(model, 'my_model.keras')`. \n"
          ]
        },
        {
          "name": "stdout",
          "output_type": "stream",
          "text": [
            "\n",
            " mean perplexity: 4.606794704060383 \n",
            "\n",
            "Saved new model!\n",
            "\b\b\b\b\b\b\b\b\b\b\b\b\b\b\b\b\b\b\b\b\b\b\b\b\b\b\b\b\b\b\b\b\b\b\b\b\b\b\b\b\b\b\b\b\b\b\b\b\b\b\b\b\b\b\b\b\b\b\r\u001b[1m1494/1494\u001b[0m \u001b[32m━━━━━━━━━━━━━━━━━━━━\u001b[0m\u001b[37m\u001b[0m \u001b[1m82s\u001b[0m 29ms/step - loss: 1.7031\n",
            "Epoch 15/20\n",
            "\u001b[1m1493/1494\u001b[0m \u001b[32m━━━━━━━━━━━━━━━━━━━\u001b[0m\u001b[37m━\u001b[0m \u001b[1m0s\u001b[0m 16ms/step - loss: 1.6995"
          ]
        },
        {
          "name": "stderr",
          "output_type": "stream",
          "text": [
            "WARNING:absl:You are saving your model as an HDF5 file via `model.save()` or `keras.saving.save_model(model)`. This file format is considered legacy. We recommend using instead the native Keras format, e.g. `model.save('my_model.keras')` or `keras.saving.save_model(model, 'my_model.keras')`. \n"
          ]
        },
        {
          "name": "stdout",
          "output_type": "stream",
          "text": [
            "\n",
            " mean perplexity: 4.595866914106854 \n",
            "\n",
            "Saved new model!\n",
            "\b\b\b\b\b\b\b\b\b\b\b\b\b\b\b\b\b\b\b\b\b\b\b\b\b\b\b\b\b\b\b\b\b\b\b\b\b\b\b\b\b\b\b\b\b\b\b\b\b\b\b\b\b\b\b\b\b\b\r\u001b[1m1494/1494\u001b[0m \u001b[32m━━━━━━━━━━━━━━━━━━━━\u001b[0m\u001b[37m\u001b[0m \u001b[1m83s\u001b[0m 30ms/step - loss: 1.6995\n",
            "Epoch 16/20\n",
            "\u001b[1m1494/1494\u001b[0m \u001b[32m━━━━━━━━━━━━━━━━━━━━\u001b[0m\u001b[37m\u001b[0m \u001b[1m0s\u001b[0m 16ms/step - loss: 1.6954"
          ]
        },
        {
          "name": "stderr",
          "output_type": "stream",
          "text": [
            "WARNING:absl:You are saving your model as an HDF5 file via `model.save()` or `keras.saving.save_model(model)`. This file format is considered legacy. We recommend using instead the native Keras format, e.g. `model.save('my_model.keras')` or `keras.saving.save_model(model, 'my_model.keras')`. \n"
          ]
        },
        {
          "name": "stdout",
          "output_type": "stream",
          "text": [
            "\n",
            " mean perplexity: 4.589147802191247 \n",
            "\n",
            "Saved new model!\n",
            "\b\b\b\b\b\b\b\b\b\b\b\b\b\b\b\b\b\b\b\b\b\b\b\b\b\b\b\b\b\b\b\b\b\b\b\b\b\b\b\b\b\b\b\b\b\b\b\b\b\b\b\b\b\b\b\b\b\b\r\u001b[1m1494/1494\u001b[0m \u001b[32m━━━━━━━━━━━━━━━━━━━━\u001b[0m\u001b[37m\u001b[0m \u001b[1m80s\u001b[0m 29ms/step - loss: 1.6954\n",
            "Epoch 17/20\n",
            "\u001b[1m1493/1494\u001b[0m \u001b[32m━━━━━━━━━━━━━━━━━━━\u001b[0m\u001b[37m━\u001b[0m \u001b[1m0s\u001b[0m 16ms/step - loss: 1.6941\n",
            " mean perplexity: 4.609288538870035 \n",
            "\n",
            "\u001b[1m1494/1494\u001b[0m \u001b[32m━━━━━━━━━━━━━━━━━━━━\u001b[0m\u001b[37m\u001b[0m \u001b[1m45s\u001b[0m 30ms/step - loss: 1.6941\n",
            "Epoch 18/20\n",
            "\u001b[1m1493/1494\u001b[0m \u001b[32m━━━━━━━━━━━━━━━━━━━\u001b[0m\u001b[37m━\u001b[0m \u001b[1m0s\u001b[0m 16ms/step - loss: 1.6903\n",
            " mean perplexity: 4.598231928168893 \n",
            "\n",
            "\u001b[1m1494/1494\u001b[0m \u001b[32m━━━━━━━━━━━━━━━━━━━━\u001b[0m\u001b[37m\u001b[0m \u001b[1m82s\u001b[0m 30ms/step - loss: 1.6903\n",
            "Epoch 19/20\n",
            "\u001b[1m1491/1494\u001b[0m \u001b[32m━━━━━━━━━━━━━━━━━━━\u001b[0m\u001b[37m━\u001b[0m \u001b[1m0s\u001b[0m 16ms/step - loss: 1.6890\n",
            " mean perplexity: 4.618815218882989 \n",
            "\n",
            "\u001b[1m1494/1494\u001b[0m \u001b[32m━━━━━━━━━━━━━━━━━━━━\u001b[0m\u001b[37m\u001b[0m \u001b[1m80s\u001b[0m 29ms/step - loss: 1.6890\n",
            "Epoch 20/20\n",
            "\u001b[1m1494/1494\u001b[0m \u001b[32m━━━━━━━━━━━━━━━━━━━━\u001b[0m\u001b[37m\u001b[0m \u001b[1m0s\u001b[0m 16ms/step - loss: 1.6866\n",
            " mean perplexity: 4.602568612064114 \n",
            "\n",
            "\u001b[1m1494/1494\u001b[0m \u001b[32m━━━━━━━━━━━━━━━━━━━━\u001b[0m\u001b[37m\u001b[0m \u001b[1m83s\u001b[0m 29ms/step - loss: 1.6866\n"
          ]
        }
      ],
      "source": [
        "# fiteamos, nótese el agregado del callback con su inicialización. El batch_size lo podemos seleccionar a mano\n",
        "# en general, lo mejor es escoger el batch más grande posible que minimice el tiempo de cada época.\n",
        "# En la variable `history_ppl` se guardarán los valores de perplejidad para cada época.\n",
        "history_ppl = []\n",
        "hist = model.fit(X, y, epochs=20, callbacks=[PplCallback(tokenized_sentences_val,history_ppl, patience=7)], batch_size=256)"
      ]
    },
    {
      "cell_type": "code",
      "execution_count": 76,
      "metadata": {
        "colab": {
          "base_uri": "https://localhost:8080/",
          "height": 450
        },
        "id": "K30JHB3Dv-mx",
        "outputId": "032397cc-e7c9-4bba-bf6e-cfed24778131"
      },
      "outputs": [
        {
          "data": {
            "image/png": "[encoded data removed]",
            "text/plain": [
              "<Figure size 640x480 with 1 Axes>"
            ]
          },
          "metadata": {},
          "output_type": "display_data"
        }
      ],
      "source": [
        "import matplotlib.pyplot as plt\n",
        "import seaborn as sns\n",
        "\n",
        "# Entrenamiento\n",
        "epoch_count = range(1, len(history_ppl) + 1)\n",
        "sns.lineplot(x=epoch_count,  y=history_ppl)\n",
        "plt.show()"
      ]
    },
    {
      "cell_type": "code",
      "execution_count": 77,
      "metadata": {
        "colab": {
          "base_uri": "https://localhost:8080/"
        },
        "id": "Rhy5hZN38qfO",
        "outputId": "a53ac684-7826-42d1-8ed2-3568348e62ef"
      },
      "outputs": [
        {
          "name": "stderr",
          "output_type": "stream",
          "text": [
            "WARNING:absl:Compiled the loaded model, but the compiled metrics have yet to be built. `model.compile_metrics` will be empty until you train or evaluate the model.\n"
          ]
        }
      ],
      "source": [
        "# Cargamos el mejor modelo guardado del entrenamiento para hacer inferencia\n",
        "model = keras.models.load_model('my_model_min.h5')"
      ]
    },
    {
      "cell_type": "markdown",
      "metadata": {
        "id": "KN6Fg_BsxJe6"
      },
      "source": [
        "\n",
        "### Predicción del próximo caracter"
      ]
    },
    {
      "cell_type": "code",
      "execution_count": 78,
      "metadata": {
        "id": "IBvKHFPmzpy2"
      },
      "outputs": [],
      "source": [
        "# Se puede usar gradio para probar el modelo\n",
        "# Gradio es una herramienta muy útil para crear interfaces para ensayar modelos\n",
        "# https://gradio.app/\n",
        "\n",
        "!pip install -q gradio"
      ]
    },
    {
      "cell_type": "code",
      "execution_count": 79,
      "metadata": {
        "colab": {
          "base_uri": "https://localhost:8080/",
          "height": 697
        },
        "id": "HNyBykvhzs7-",
        "outputId": "ae7f59a6-88b2-422c-cc83-15f6f1f4fc5b"
      },
      "outputs": [
        {
          "name": "stdout",
          "output_type": "stream",
          "text": [
            "Setting queue=True in a Colab notebook requires sharing enabled. Setting `share=True` (you can turn this off by setting `share=False` in `launch()` explicitly).\n",
            "\n",
            "Colab notebook detected. This cell will run indefinitely so that you can see errors and logs. To turn off, set debug=False in launch().\n",
            "Running on public URL: https://c68ddfcf379375163e.gradio.live\n",
            "\n",
            "This share link expires in 72 hours. For free permanent hosting and GPU upgrades, run `gradio deploy` from Terminal to deploy to Spaces (https://huggingface.co/spaces)\n"
          ]
        },
        {
          "data": {
            "text/html": [
              "<div><iframe src=\"https://c68ddfcf379375163e.gradio.live\" width=\"100%\" height=\"500\" allow=\"autoplay; camera; microphone; clipboard-read; clipboard-write;\" frameborder=\"0\" allowfullscreen></iframe></div>"
            ],
            "text/plain": [
              "<IPython.core.display.HTML object>"
            ]
          },
          "metadata": {},
          "output_type": "display_data"
        },
        {
          "name": "stdout",
          "output_type": "stream",
          "text": [
            "\u001b[1m1/1\u001b[0m \u001b[32m━━━━━━━━━━━━━━━━━━━━\u001b[0m\u001b[37m\u001b[0m \u001b[1m2s\u001b[0m 2s/step\n",
            "Keyboard interruption in main thread... closing server.\n",
            "Killing tunnel 127.0.0.1:7860 <> https://c68ddfcf379375163e.gradio.live\n"
          ]
        },
        {
          "data": {
            "text/plain": []
          },
          "execution_count": 79,
          "metadata": {},
          "output_type": "execute_result"
        }
      ],
      "source": [
        "import gradio as gr\n",
        "\n",
        "def model_response(human_text):\n",
        "\n",
        "    # Encodeamos\n",
        "    encoded = [char2idx[ch] for ch in human_text.lower() ]\n",
        "    # Si tienen distinto largo\n",
        "    encoded = pad_sequences([encoded], maxlen=max_context_size, padding='pre')\n",
        "\n",
        "    # Predicción softmax\n",
        "    y_hat = np.argmax(model.predict(encoded)[0,-1,:])\n",
        "\n",
        "\n",
        "    # Debemos buscar en el vocabulario el caracter\n",
        "    # que corresopnde al indice (y_hat) predicho por le modelo\n",
        "    out_word = ''\n",
        "    out_word = idx2char[y_hat]\n",
        "\n",
        "    # Agrego la palabra a la frase predicha\n",
        "    return human_text + out_word\n",
        "\n",
        "iface = gr.Interface(\n",
        "    fn=model_response,\n",
        "    inputs=[\"textbox\"],\n",
        "    outputs=\"text\")\n",
        "\n",
        "iface.launch(debug=True)"
      ]
    },
    {
      "cell_type": "markdown",
      "metadata": {
        "id": "mCeMWWupxN1-"
      },
      "source": [
        "### Generación de secuencias"
      ]
    },
    {
      "cell_type": "code",
      "execution_count": 80,
      "metadata": {
        "id": "bwbS_pfhxvB3"
      },
      "outputs": [],
      "source": [
        "def generate_seq(model, seed_text, max_length, n_words):\n",
        "    \"\"\"\n",
        "        Exec model sequence prediction\n",
        "\n",
        "        Args:\n",
        "            model (keras): modelo entrenado\n",
        "            seed_text (string): texto de entrada (input_seq)\n",
        "            max_length (int): máxima longitud de la sequencia de entrada\n",
        "            n_words (int): números de caracteres a agregar a la sequencia de entrada\n",
        "        returns:\n",
        "            output_text (string): sentencia con las \"n_words\" agregadas\n",
        "    \"\"\"\n",
        "    output_text = seed_text\n",
        "\t# generate a fixed number of words\n",
        "    for _ in range(n_words):\n",
        "\t\t# Encodeamos\n",
        "        encoded = [char2idx[ch] for ch in output_text.lower() ]\n",
        "\t\t# Si tienen distinto largo\n",
        "        encoded = pad_sequences([encoded], maxlen=max_length, padding='pre')\n",
        "\n",
        "\t\t# Predicción softmax\n",
        "        y_hat = np.argmax(model.predict(encoded,verbose=0)[0,-1,:])\n",
        "\t\t# Vamos concatenando las predicciones\n",
        "        out_word = ''\n",
        "\n",
        "        out_word = idx2char[y_hat]\n",
        "\n",
        "\t\t# Agrego las palabras a la frase predicha\n",
        "        output_text += out_word\n",
        "    return output_text"
      ]
    },
    {
      "cell_type": "code",
      "execution_count": 93,
      "metadata": {
        "colab": {
          "base_uri": "https://localhost:8080/",
          "height": 55
        },
        "id": "JoFqRC5pxzqS",
        "outputId": "a803c304-4efb-4340-80f5-663e56dabfb2"
      },
      "outputs": [
        {
          "data": {
            "application/vnd.google.colaboratory.intrinsic+json": {
              "type": "string"
            },
            "text/plain": [
              "'mi tio era entre las cual se encontrar a '"
            ]
          },
          "execution_count": 93,
          "metadata": {},
          "output_type": "execute_result"
        }
      ],
      "source": [
        "input_text='mi tio era '\n",
        "\n",
        "generate_seq(model, input_text, max_length=max_context_size, n_words=30)"
      ]
    },
    {
      "cell_type": "markdown",
      "metadata": {
        "id": "drJ6xn5qW1Hl"
      },
      "source": [
        "###  Beam search y muestreo aleatorio"
      ]
    },
    {
      "cell_type": "code",
      "execution_count": 82,
      "metadata": {
        "id": "_vovn9XZW1Hl"
      },
      "outputs": [],
      "source": [
        "# funcionalidades para hacer encoding y decoding\n",
        "\n",
        "def encode(text,max_length=max_context_size):\n",
        "\n",
        "    encoded = [char2idx[ch] for ch in text]\n",
        "    encoded = pad_sequences([encoded], maxlen=max_length, padding='pre')\n",
        "\n",
        "    return encoded\n",
        "\n",
        "def decode(seq):\n",
        "    return ''.join([idx2char[ch] for ch in seq])"
      ]
    },
    {
      "cell_type": "code",
      "execution_count": 83,
      "metadata": {
        "id": "I_lZiQwkW1Hl"
      },
      "outputs": [],
      "source": [
        "from scipy.special import softmax\n",
        "\n",
        "# función que selecciona candidatos para el beam search\n",
        "def select_candidates(pred,num_beams,vocab_size,history_probs,history_tokens,temp,mode):\n",
        "\n",
        "  # colectar todas las probabilidades para la siguiente búsqueda\n",
        "  pred_large = []\n",
        "\n",
        "  for idx,pp in enumerate(pred):\n",
        "    pred_large.extend(np.log(pp+1E-10)+history_probs[idx])\n",
        "\n",
        "  pred_large = np.array(pred_large)\n",
        "\n",
        "  # criterio de selección\n",
        "  if mode == 'det':\n",
        "    idx_select = np.argsort(pred_large)[::-1][:num_beams] # beam search determinista\n",
        "  elif mode == 'sto':\n",
        "    idx_select = np.random.choice(np.arange(pred_large.shape[0]), num_beams, p=softmax(pred_large/temp)) # beam search con muestreo aleatorio\n",
        "  else:\n",
        "    raise ValueError(f'Wrong selection mode. {mode} was given. det and sto are supported.')\n",
        "\n",
        "  # traducir a índices de token en el vocabulario\n",
        "  new_history_tokens = np.concatenate((np.array(history_tokens)[idx_select//vocab_size],\n",
        "                        np.array([idx_select%vocab_size]).T),\n",
        "                      axis=1)\n",
        "\n",
        "  # devolver el producto de las probabilidades (log) y la secuencia de tokens seleccionados\n",
        "  return pred_large[idx_select.astype(int)], new_history_tokens.astype(int)\n",
        "\n",
        "\n",
        "def beam_search(model,num_beams,num_words,input,temp=1,mode='det'):\n",
        "\n",
        "    # first iteration\n",
        "\n",
        "    # encode\n",
        "    encoded = encode(input)\n",
        "\n",
        "    # first prediction\n",
        "    y_hat = model.predict(encoded,verbose=0)[0,-1,:]\n",
        "\n",
        "    # get vocabulary size\n",
        "    vocab_size = y_hat.shape[0]\n",
        "\n",
        "    # initialize history\n",
        "    history_probs = [0]*num_beams\n",
        "    history_tokens = [encoded[0]]*num_beams\n",
        "\n",
        "    # select num_beams candidates\n",
        "    history_probs, history_tokens = select_candidates([y_hat],\n",
        "                                        num_beams,\n",
        "                                        vocab_size,\n",
        "                                        history_probs,\n",
        "                                        history_tokens,\n",
        "                                        temp,\n",
        "                                        mode)\n",
        "\n",
        "    # beam search loop\n",
        "    for i in range(num_words-1):\n",
        "\n",
        "      preds = []\n",
        "\n",
        "      for hist in history_tokens:\n",
        "\n",
        "        # actualizar secuencia de tokens\n",
        "        input_update = np.array([hist[i+1:]]).copy()\n",
        "\n",
        "        # predicción\n",
        "        y_hat = model.predict(input_update,verbose=0)[0,-1,:]\n",
        "\n",
        "        preds.append(y_hat)\n",
        "\n",
        "      history_probs, history_tokens = select_candidates(preds,\n",
        "                                                        num_beams,\n",
        "                                                        vocab_size,\n",
        "                                                        history_probs,\n",
        "                                                        history_tokens,\n",
        "                                                        temp,\n",
        "                                                        mode)\n",
        "\n",
        "    return history_tokens[:,-(len(input)+num_words):]"
      ]
    },
    {
      "cell_type": "code",
      "execution_count": 105,
      "metadata": {
        "id": "GeLqAoOYW1Hm"
      },
      "outputs": [],
      "source": [
        "# predicción con beam search\n",
        "salidas = beam_search(model,num_beams=10,num_words=50,mode='sto', input=\"mi tio era\")"
      ]
    },
    {
      "cell_type": "code",
      "execution_count": 106,
      "metadata": {
        "colab": {
          "base_uri": "https://localhost:8080/"
        },
        "id": "P8HQoLhw-NYg",
        "outputId": "8904c373-91eb-4a94-ccf5-5ddc3b1abaed"
      },
      "outputs": [
        {
          "data": {
            "text/plain": [
              "array([56, 36, 92, 52, 36, 67, 92, 89, 34, 20, 92, 53, 34, 89, 63, 36, 81,\n",
              "       67, 92, 89, 37, 92, 89, 35, 92, 56, 20, 34, 92, 31, 89, 92, 35, 20,\n",
              "       81, 92, 63, 40, 20, 35, 89, 81, 92, 31, 89, 92, 35, 20, 81, 92, 89,\n",
              "       37, 52, 34, 89, 92, 31, 89, 35, 92])"
            ]
          },
          "execution_count": 106,
          "metadata": {},
          "output_type": "execute_result"
        }
      ],
      "source": [
        "salidas[0]"
      ]
    },
    {
      "cell_type": "code",
      "execution_count": 107,
      "metadata": {
        "colab": {
          "base_uri": "https://localhost:8080/"
        },
        "id": "2S3_I3S1W1Hm",
        "outputId": "43aa3aae-a09e-48bb-8ed7-188a98fce641"
      },
      "outputs": [
        {
          "name": "stdout",
          "output_type": "stream",
          "text": [
            "Opcion 1: mi tio era preciso en el mar de las cuales de las entre del \n",
            "Opcion 2: mi tio era preciso en el mar de las cuales de las entre detá\n",
            "Opcion 3: mi tio era preciso en el mar de las cuales de las entre del \n",
            "Opcion 4: mi tio era preciso en el mar de las cuales de las entre del \n",
            "Opcion 5: mi tio era preciso en el mar de las cuales de las entre desp\n"
          ]
        }
      ],
      "source": [
        "# veamos las salidas\n",
        "print(f\"Opcion 1: {decode(salidas[0])}\")\n",
        "print(f\"Opcion 2: {decode(salidas[1])}\")\n",
        "print(f\"Opcion 3: {decode(salidas[2])}\")\n",
        "print(f\"Opcion 4: {decode(salidas[3])}\")\n",
        "print(f\"Opcion 5: {decode(salidas[4])}\")"
      ]
    },
    {
      "cell_type": "code",
      "execution_count": 108,
      "metadata": {
        "id": "zZXhVljtVHTU"
      },
      "outputs": [],
      "source": [
        "# predicción con beam search\n",
        "salidas_det = beam_search(model,num_beams=10,num_words=50,mode='det', input=\"mi tio era\")"
      ]
    },
    {
      "cell_type": "code",
      "execution_count": 110,
      "metadata": {
        "colab": {
          "base_uri": "https://localhost:8080/"
        },
        "id": "t3ibU35zVME-",
        "outputId": "2c3ce813-e9d3-4db1-cfaf-ab471d6a64a2"
      },
      "outputs": [
        {
          "name": "stdout",
          "output_type": "stream",
          "text": [
            "Opcion 1: mi tio era profesor Lidenbrock, el profesor Lidenbrock, que \n",
            "Opcion 2: mi tio era profesor Lidenbrock, por el profesor Lidenbrock, \n",
            "Opcion 3: mi tio era profesor Lidenbrock, el profesor Lidenbrock de la\n",
            "Opcion 4: mi tio era profesor Lidenbrock, el profesor Lidenbrock, por \n",
            "Opcion 5: mi tio era profesor Lidenbrock, por el profesor Lidenbrock.\n",
            "\n"
          ]
        }
      ],
      "source": [
        "# veamos las salidas\n",
        "print(f\"Opcion 1: {decode(salidas_det[0])}\")\n",
        "print(f\"Opcion 2: {decode(salidas_det[1])}\")\n",
        "print(f\"Opcion 3: {decode(salidas_det[2])}\")\n",
        "print(f\"Opcion 4: {decode(salidas_det[3])}\")\n",
        "print(f\"Opcion 5: {decode(salidas_det[4])}\")"
      ]
    },
    {
      "cell_type": "code",
      "execution_count": 112,
      "metadata": {
        "colab": {
          "base_uri": "https://localhost:8080/"
        },
        "id": "LSQB-CtuV4Ae",
        "outputId": "fec8e482-e1eb-4da3-eabb-a55a691b5725"
      },
      "outputs": [
        {
          "name": "stdout",
          "output_type": "stream",
          "text": [
            "--------------------------------------\n",
            "Greedy Search: mi tio era entre las cual se encontrar a la parecía a la mano\n",
            "--------------------------------------\n",
            "Beam Search (sto): mi tio era el profesor Lidenbrock de las palabras de las roca\n",
            "--------------------------------------\n",
            "Beam Search (det): mi tio era profesor Lidenbrock, el profesor Lidenbrock, que e\n",
            "--------------------------------------\n",
            "--------------------------------------\n"
          ]
        }
      ],
      "source": [
        "input_text='mi tio era '\n",
        "n_words = 50\n",
        "\n",
        "# predicción con greedy search\n",
        "salida_greedy = generate_seq(model, input_text, max_length=max_context_size, n_words=n_words)\n",
        "# predicción con beam search, modo estoico\n",
        "salidas_sto = beam_search(model,num_beams=10,num_words=n_words,mode='sto', input=input_text)\n",
        "# predicción con beam search, modo determinista\n",
        "salidas_det = beam_search(model,num_beams=10,num_words=n_words,mode='det', input=input_text)\n",
        "\n",
        "\n",
        "# veamos las salidas\n",
        "print(\"--------------------------------------\")\n",
        "print(f\"Greedy Search: {salida_greedy}\")\n",
        "print(\"--------------------------------------\")\n",
        "print(f\"Beam Search (sto): {decode(salidas_sto[0])}\")\n",
        "print(\"--------------------------------------\")\n",
        "print(f\"Beam Search (det): {decode(salidas_det[0])}\")\n",
        "print(\"--------------------------------------\")\n",
        "print(\"--------------------------------------\")"
      ]
    },
    {
      "cell_type": "code",
      "execution_count": 115,
      "metadata": {
        "colab": {
          "base_uri": "https://localhost:8080/"
        },
        "id": "RPdttNLWW5iA",
        "outputId": "89edf7cc-182d-453f-a296-5fe802230702"
      },
      "outputs": [
        {
          "name": "stdout",
          "output_type": "stream",
          "text": [
            "--------------------------------------\n",
            "Greedy Search: Lidenbrock es el camino de la cabeza de la cabeza de la cabeza d\n",
            "--------------------------------------\n",
            "Beam Search (sto): Lidenbrock es profesor Lidenbrock, en las rocas de los inclinari\n",
            "--------------------------------------\n",
            "Beam Search (det): Lidenbrock es que el profesor Lidenbrock, el profesor Lidenbrock\n",
            "--------------------------------------\n",
            "--------------------------------------\n"
          ]
        }
      ],
      "source": [
        "input_text='Lidenbrock es '\n",
        "n_words = 50\n",
        "\n",
        "# predicción con greedy search\n",
        "salida_greedy = generate_seq(model, input_text, max_length=max_context_size, n_words=n_words)\n",
        "# predicción con beam search, modo estoico\n",
        "salidas_sto = beam_search(model,num_beams=10,num_words=n_words,mode='sto', input=input_text)\n",
        "# predicción con beam search, modo determinista\n",
        "salidas_det = beam_search(model,num_beams=10,num_words=n_words,mode='det', input=input_text)\n",
        "\n",
        "\n",
        "# veamos las salidas\n",
        "print(\"--------------------------------------\")\n",
        "print(f\"Greedy Search: {salida_greedy}\")\n",
        "print(\"--------------------------------------\")\n",
        "print(f\"Beam Search (sto): {decode(salidas_sto[0])}\")\n",
        "print(\"--------------------------------------\")\n",
        "print(f\"Beam Search (det): {decode(salidas_det[0])}\")\n",
        "print(\"--------------------------------------\")\n",
        "print(\"--------------------------------------\")"
      ]
    },
    {
      "cell_type": "code",
      "execution_count": 116,
      "metadata": {
        "colab": {
          "base_uri": "https://localhost:8080/"
        },
        "id": "XuyRMoR8XTsy",
        "outputId": "c3f298f2-c869-4db7-fe4d-5f7235c8c171"
      },
      "outputs": [
        {
          "name": "stdout",
          "output_type": "stream",
          "text": [
            "--------------------------------------\n",
            "Greedy Search: ¿Quien es? Ella es  otra vez en el camino de la cabeza de la cabeza de\n",
            "--------------------------------------\n",
            "Beam Search (sto): ¿Quien es? Ella es  leguas de este mar en las cuales de las espacios a\n",
            "--------------------------------------\n",
            "Beam Search (det): ¿Quien es? Ella es  respondió el profesor Lidenbrock, el profesor Lide\n",
            "--------------------------------------\n",
            "--------------------------------------\n"
          ]
        }
      ],
      "source": [
        "input_text='¿Quien es? Ella es  '\n",
        "n_words = 50\n",
        "\n",
        "# predicción con greedy search\n",
        "salida_greedy = generate_seq(model, input_text, max_length=max_context_size, n_words=n_words)\n",
        "# predicción con beam search, modo estoico\n",
        "salidas_sto = beam_search(model,num_beams=10,num_words=n_words,mode='sto', input=input_text)\n",
        "# predicción con beam search, modo determinista\n",
        "salidas_det = beam_search(model,num_beams=10,num_words=n_words,mode='det', input=input_text)\n",
        "\n",
        "\n",
        "# veamos las salidas\n",
        "print(\"--------------------------------------\")\n",
        "print(f\"Greedy Search: {salida_greedy}\")\n",
        "print(\"--------------------------------------\")\n",
        "print(f\"Beam Search (sto): {decode(salidas_sto[0])}\")\n",
        "print(\"--------------------------------------\")\n",
        "print(f\"Beam Search (det): {decode(salidas_det[0])}\")\n",
        "print(\"--------------------------------------\")\n",
        "print(\"--------------------------------------\")"
      ]
    },
    {
      "cell_type": "code",
      "execution_count": 117,
      "metadata": {
        "colab": {
          "base_uri": "https://localhost:8080/"
        },
        "id": "HlX5IV_DXdKt",
        "outputId": "69c8088c-1104-4313-8cc7-cbea3f30ab63"
      },
      "outputs": [
        {
          "name": "stdout",
          "output_type": "stream",
          "text": [
            "--------------------------------------\n",
            "Greedy Search: Mi tío se encontrar a la parecía a la mano de la cabeza d\n",
            "--------------------------------------\n",
            "Beam Search (sto): Mi tío con la superficie de las construidas en el contrar\n",
            "--------------------------------------\n",
            "Beam Search (det): Mi tío mi tío, que el profesor Lidenbrock, el profesor Li\n",
            "--------------------------------------\n",
            "--------------------------------------\n"
          ]
        }
      ],
      "source": [
        "input_text='Mi tío '\n",
        "n_words = 50\n",
        "\n",
        "# predicción con greedy search\n",
        "salida_greedy = generate_seq(model, input_text, max_length=max_context_size, n_words=n_words)\n",
        "# predicción con beam search, modo estoico\n",
        "salidas_sto = beam_search(model,num_beams=10,num_words=n_words,mode='sto', input=input_text)\n",
        "# predicción con beam search, modo determinista\n",
        "salidas_det = beam_search(model,num_beams=10,num_words=n_words,mode='det', input=input_text)\n",
        "\n",
        "\n",
        "# veamos las salidas\n",
        "print(\"--------------------------------------\")\n",
        "print(f\"Greedy Search: {salida_greedy}\")\n",
        "print(\"--------------------------------------\")\n",
        "print(f\"Beam Search (sto): {decode(salidas_sto[0])}\")\n",
        "print(\"--------------------------------------\")\n",
        "print(f\"Beam Search (det): {decode(salidas_det[0])}\")\n",
        "print(\"--------------------------------------\")\n",
        "print(\"--------------------------------------\")"
      ]
    }
  ],
  "metadata": {
    "accelerator": "GPU",
    "colab": {
      "gpuType": "T4",
      "provenance": []
    },
    "kernelspec": {
      "display_name": "Python 3",
      "name": "python3"
    },
    "language_info": {
      "name": "python"
    }
  },
  "nbformat": 4,
  "nbformat_minor": 0
}
